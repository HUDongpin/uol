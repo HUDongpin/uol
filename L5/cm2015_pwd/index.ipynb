{
 "cells": [
  {
   "cell_type": "markdown",
   "metadata": {},
   "source": [
    "# Contents\n",
    "\n",
    "[1. Setting up your programming environment](#settingup)\n",
    "\n",
    "[2. Variables, control flow and functions](#variables)\n",
    "\n",
    "[3. Data structures](#datastructures)"
   ]
  },
  {
   "cell_type": "markdown",
   "metadata": {},
   "source": [
    "# 1. Setting up your programming environment <a class=\"anchor\" id=\"settingup\"/>\n",
    "\n",
    "## 1.1 Jupyter Setup\n",
    "\n",
    "Install Jupyter Lab using the following command.\n",
    "                \n",
    "    $ pip3 install jupyterlab\n",
    "Run Jupyter Lab using the following command.\n",
    "    \n",
    "    $ jupyter lab\n",
    "The interface allows you to create individual .py files, or entire notebooks that contain cells. Each cell is a small set of commands to execute and view the output of inline. A cell can contain code or markdown."
   ]
  },
  {
   "cell_type": "markdown",
   "metadata": {},
   "source": [
    "## 1.2 Python Basics\n",
    "\n",
    "Python relies on whitespace indentation, and comments are given using the # sign. Code blocks are initiated with a colon, after which the contents of the block are indented one level.\n"
   ]
  },
  {
   "cell_type": "code",
   "execution_count": 1,
   "metadata": {},
   "outputs": [
    {
     "name": "stdout",
     "output_type": "stream",
     "text": [
      "[1, 2]\n",
      "[6]\n"
     ]
    }
   ],
   "source": [
    "# This is a simple Python script\n",
    "\n",
    "array = [1,2,3,4,5,6]\n",
    "pivot = 3\n",
    "greater = []\n",
    "less = []\n",
    "\n",
    "for x in array:\n",
    "    if x < pivot:\n",
    "        less.append(x)\n",
    "else:\n",
    "    greater.append(x)\n",
    "    \n",
    "    \n",
    "print(less)\n",
    "print(greater)"
   ]
  },
  {
   "cell_type": "markdown",
   "metadata": {},
   "source": [
    "Everything in Python is an **object**, making methods available on e.g. variables, strings, data struc- tured, modules or even functions. In a notebook, pressing “Tab” will expose the available methods.\n",
    "Python assigns variable by reference, i.e. it uses binding. This means that when a variable $ a $ is assigned to another variable $ b $, changes to a will also reflect in b.\n",
    "Python is strongly typed but will make implicit type conversions when obvious. To find the type of a variable, use the following function."
   ]
  },
  {
   "cell_type": "code",
   "execution_count": 2,
   "metadata": {},
   "outputs": [
    {
     "name": "stdout",
     "output_type": "stream",
     "text": [
      "False\n",
      "True\n",
      "<class 'float'>\n"
     ]
    }
   ],
   "source": [
    "a = 15.4\n",
    "\n",
    "print(isinstance(a, int))\n",
    "\n",
    "print(isinstance(a, (int, float)))\n",
    "\n",
    "print(type(a))"
   ]
  },
  {
   "cell_type": "markdown",
   "metadata": {},
   "source": [
    "This returns true if the provided variable is of the given type. In the second example, a tuple is used, where the function checks if the variable is of any type provided in the tuple.\n",
    "\n",
    "**Duck typing** refers to checking if an object has certain behaviours, regardless of its actual type. You can check if an object is iterable as follows."
   ]
  },
  {
   "cell_type": "code",
   "execution_count": 3,
   "metadata": {},
   "outputs": [
    {
     "data": {
      "text/plain": [
       "True"
      ]
     },
     "execution_count": 3,
     "metadata": {},
     "output_type": "execute_result"
    }
   ],
   "source": [
    "def isiterable(obj):\n",
    "    try:\n",
    "        iter(obj)\n",
    "        return True\n",
    "    except TypeError:\n",
    "        return False\n",
    "    \n",
    "isiterable('a string')"
   ]
  },
  {
   "cell_type": "markdown",
   "metadata": {},
   "source": [
    "Python can import other Python files as modules, and even use variables from those files with new names."
   ]
  },
  {
   "cell_type": "code",
   "execution_count": 4,
   "metadata": {},
   "outputs": [
    {
     "name": "stdout",
     "output_type": "stream",
     "text": [
      "[1, 2, 3, 4, 5, 6]\n",
      "<built-in function array>\n"
     ]
    }
   ],
   "source": [
    "# Import an entire python module\n",
    "import numpy as nm\n",
    "print(array)\n",
    "\n",
    "# Import specific objects\n",
    "from numpy import array\n",
    "print(array)"
   ]
  },
  {
   "cell_type": "markdown",
   "metadata": {},
   "source": [
    "Python supports all the standard arithemtic and logical operators. One operator worth highlighting is the is operator."
   ]
  },
  {
   "cell_type": "code",
   "execution_count": 5,
   "metadata": {},
   "outputs": [
    {
     "name": "stdout",
     "output_type": "stream",
     "text": [
      "False\n",
      "True\n",
      "True\n",
      "False\n"
     ]
    }
   ],
   "source": [
    "a = [\"Hello\",\"Goodbye\"]\n",
    "b = [\"Hello\",\"Goodbye\"]\n",
    "\n",
    "# Returns true if both variables are referencing the same object\n",
    "print(a is b)\n",
    "print(a is not b)\n",
    "\n",
    "# NOTE: These are not the same as\n",
    "print(a == b)\n",
    "print(a != b)"
   ]
  },
  {
   "cell_type": "markdown",
   "metadata": {},
   "source": [
    "The standard scalar types are `int`, `float`, `str`, `bytes`, `bool`, and `None`.\n",
    "\n",
    "While strings can be written with single or double quotes, in Python we can use triple quotes for strings spanning multiple lines."
   ]
  },
  {
   "cell_type": "code",
   "execution_count": 6,
   "metadata": {},
   "outputs": [
    {
     "data": {
      "text/plain": [
       "82"
      ]
     },
     "execution_count": 6,
     "metadata": {},
     "output_type": "execute_result"
    }
   ],
   "source": [
    "  c = '''\n",
    "        This is a multi-line\n",
    "        string that has a lot\n",
    "        of text in it\n",
    "        '''\n",
    "    \n",
    "len(c)"
   ]
  },
  {
   "cell_type": "markdown",
   "metadata": {},
   "source": [
    "Python string literals are immutable, you cannot modify a string directly using assignment to an index of the string. They do however behave like lists and can be iterated on.\n",
    "\n",
    " Strings also support a Python feature called templating, where templates are inserted into a string and then filled using the ``format`` method."
   ]
  },
  {
   "cell_type": "code",
   "execution_count": 7,
   "metadata": {},
   "outputs": [
    {
     "data": {
      "text/plain": [
       "'4.56 Argentine Pesos are worth US$1'"
      ]
     },
     "execution_count": 7,
     "metadata": {},
     "output_type": "execute_result"
    }
   ],
   "source": [
    "# .2f represents a 2-decimal float, s is a string and d is an integer\n",
    "\n",
    "template = \"{0:.2f} {1:s} are worth US${2:d}\"\n",
    "\n",
    "template.format(4.5560, 'Argentine Pesos', 1)"
   ]
  },
  {
   "cell_type": "markdown",
   "metadata": {},
   "source": [
    "# 2. Variables, Control Flow and Functions <a class=\"anchor\" id=\"variables\" />"
   ]
  },
  {
   "cell_type": "markdown",
   "metadata": {},
   "source": [
    "## 2.1 Control Flow"
   ]
  },
  {
   "cell_type": "markdown",
   "metadata": {},
   "source": [
    "### Conditionals"
   ]
  },
  {
   "cell_type": "code",
   "execution_count": 8,
   "metadata": {},
   "outputs": [
    {
     "name": "stdout",
     "output_type": "stream",
     "text": [
      "Smaller\n"
     ]
    }
   ],
   "source": [
    "x = -5\n",
    "\n",
    "if x < 0:\n",
    "    print(\"Smaller\")\n",
    "elif x > 0:\n",
    "    print(\"Larger\")\n",
    "else:\n",
    "    pass\n",
    "\n",
    "# Ternary Operator that is equivalent to the above\n",
    "value = \"Smaller\" if x < 0 else \"Larger\""
   ]
  },
  {
   "cell_type": "markdown",
   "metadata": {},
   "source": [
    "The `pass` statement continues to the next statement without executing anything. It is similar to a `continue` statement in other languages. The ternary operator is a more concise syntax to express a simple conditional statement."
   ]
  },
  {
   "cell_type": "markdown",
   "metadata": {},
   "source": [
    "### Loops\n",
    "\n",
    "`for` loops always use an iterator and act like a range-based loop. `while` loops use a conditional statement and execute as long as the statement is true."
   ]
  },
  {
   "cell_type": "code",
   "execution_count": 9,
   "metadata": {},
   "outputs": [
    {
     "name": "stdout",
     "output_type": "stream",
     "text": [
      "1\n",
      "2\n",
      "3\n",
      "4\n",
      "5\n",
      "1\n",
      "2\n",
      "3\n",
      "4\n",
      "5\n"
     ]
    }
   ],
   "source": [
    "# for loop\n",
    "some_list = [1,2,3,4,5]\n",
    "for x in some_list:\n",
    "    print(x)\n",
    "    \n",
    "# while loop\n",
    "i = 0\n",
    "while i < 5:\n",
    "    print(some_list[i])\n",
    "    i += 1\n"
   ]
  },
  {
   "cell_type": "markdown",
   "metadata": {},
   "source": [
    "The `range` function returns an iterator of evenly spaced integers."
   ]
  },
  {
   "cell_type": "code",
   "execution_count": 10,
   "metadata": {},
   "outputs": [
    {
     "data": {
      "text/plain": [
       "[0, 1, 2, 3, 4, 5]"
      ]
     },
     "execution_count": 10,
     "metadata": {},
     "output_type": "execute_result"
    }
   ],
   "source": [
    "# Returns a list [0, 1, 2, 3, 4, 5]\n",
    "\n",
    "list(range(6))"
   ]
  },
  {
   "cell_type": "markdown",
   "metadata": {},
   "source": [
    "Most [operators] in Python map to a function.\n",
    "\n",
    "[operators]: https://docs.python.org/3.5/library/operator.html?highlight=operators#mapping-operators-to-functions"
   ]
  },
  {
   "cell_type": "markdown",
   "metadata": {},
   "source": [
    "## 2.2 Basic Data Structures"
   ]
  },
  {
   "cell_type": "markdown",
   "metadata": {},
   "source": [
    "### 2.2.1 Tuples"
   ]
  },
  {
   "cell_type": "markdown",
   "metadata": {},
   "source": [
    "A tuple is a fixed-length, immutable sequence of Python objects. Tuples can also be concatenated to create longer tuples. Functions in Python can return multiple values using tuples."
   ]
  },
  {
   "cell_type": "code",
   "execution_count": 11,
   "metadata": {},
   "outputs": [
    {
     "name": "stdout",
     "output_type": "stream",
     "text": [
      "(1, 2, 3)\n",
      "((1, 2, 3), (4, 5))\n",
      "(1, 2, 3)\n",
      "('H', 'e', 'l', 'l', 'o')\n",
      "H\n"
     ]
    }
   ],
   "source": [
    "tup = 1,2,3\n",
    "nested_tup = (1,2,3),(4,5)\n",
    "\n",
    "print(tup)\n",
    "print(nested_tup)\n",
    "\n",
    "print(tuple([1,2,3]))\n",
    "print(tuple(\"Hello\"))\n",
    "\n",
    "print(tuple(\"Hello\")[0])"
   ]
  },
  {
   "cell_type": "markdown",
   "metadata": {},
   "source": [
    "Tuples can be __unpacked__ in an assignment operation."
   ]
  },
  {
   "cell_type": "code",
   "execution_count": 12,
   "metadata": {},
   "outputs": [
    {
     "name": "stdout",
     "output_type": "stream",
     "text": [
      "b is 5\n",
      "a is 5 , and b is 4\n"
     ]
    }
   ],
   "source": [
    "tup = 4,5,6\n",
    "\n",
    "a,b,c = tup\n",
    "\n",
    "print(\"b is\", b)\n",
    "\n",
    "# Swap two variables using unpacking\n",
    "a, b = b, a\n",
    "\n",
    "print(\"a is\", a,\", and b is\", b)"
   ]
  },
  {
   "cell_type": "markdown",
   "metadata": {},
   "source": [
    "To iterate on tuples, they need to be a sequence of tuples or part of a list."
   ]
  },
  {
   "cell_type": "code",
   "execution_count": 13,
   "metadata": {},
   "outputs": [
    {
     "name": "stdout",
     "output_type": "stream",
     "text": [
      "1 2 3\n",
      "4 5 6\n",
      "7 8 9\n"
     ]
    }
   ],
   "source": [
    "tup = [(1,2,3),(4,5,6),(7,8,9)]\n",
    "for a, b, c in tup:\n",
    "    print(a, b, c)"
   ]
  },
  {
   "cell_type": "markdown",
   "metadata": {},
   "source": [
    "### 2.2.2 Lists"
   ]
  },
  {
   "cell_type": "markdown",
   "metadata": {},
   "source": [
    "List are variable-length data structures and contents can be modified in-place. List indices can be addressed using ranges. These ranges are including the first index and excluding the last index."
   ]
  },
  {
   "cell_type": "code",
   "execution_count": 14,
   "metadata": {},
   "outputs": [
    {
     "name": "stdout",
     "output_type": "stream",
     "text": [
      "[2, 3]\n"
     ]
    }
   ],
   "source": [
    "mylist = [1,2,3,4,5]\n",
    "print(mylist[1:3])"
   ]
  },
  {
   "cell_type": "markdown",
   "metadata": {},
   "source": [
    "The `list` function can create an iterable object from something else."
   ]
  },
  {
   "cell_type": "code",
   "execution_count": 15,
   "metadata": {},
   "outputs": [
    {
     "data": {
      "text/plain": [
       "[0, 1, 2, 3, 4, 5, 6, 7, 8, 9]"
      ]
     },
     "execution_count": 15,
     "metadata": {},
     "output_type": "execute_result"
    }
   ],
   "source": [
    "list(range(10))"
   ]
  },
  {
   "cell_type": "markdown",
   "metadata": {},
   "source": [
    "You can append, insert, pop and remove items."
   ]
  },
  {
   "cell_type": "code",
   "execution_count": 16,
   "metadata": {},
   "outputs": [
    {
     "name": "stdout",
     "output_type": "stream",
     "text": [
      "[1, 2, 3, 4, 5, 6]\n",
      "[1, 'hello', 2, 3, 4, 5, 6]\n",
      "[1, 2, 3, 4, 5, 6]\n",
      "[1, 3, 4, 5, 6]\n"
     ]
    }
   ],
   "source": [
    "mylist = [1,2,3,4,5]\n",
    "\n",
    "mylist.append(6)\n",
    "print(mylist)\n",
    "\n",
    "mylist.insert(1, 'hello')\n",
    "print(mylist)\n",
    "\n",
    "mylist.pop(1)\n",
    "print(mylist)\n",
    "\n",
    "mylist.remove(2)\n",
    "print(mylist)"
   ]
  },
  {
   "cell_type": "markdown",
   "metadata": {},
   "source": [
    "Lists can be sorted, binary-searched, sliced and concatenated."
   ]
  },
  {
   "cell_type": "code",
   "execution_count": 17,
   "metadata": {},
   "outputs": [
    {
     "name": "stdout",
     "output_type": "stream",
     "text": [
      "[1, 3, 4, 5, 6]\n",
      "[5]\n",
      "[5, 6]\n"
     ]
    }
   ],
   "source": [
    "mylist.sort() # sorts in place\n",
    "print(mylist)\n",
    "\n",
    "import bisect\n",
    "bisect.bisect(mylist,4) # requires a sorted, ascending list\n",
    "\n",
    "print(mylist[3:4])\n",
    "print(mylist[-2:])"
   ]
  },
  {
   "cell_type": "markdown",
   "metadata": {},
   "source": [
    "### 2.2.3 Sequence Functions"
   ]
  },
  {
   "cell_type": "markdown",
   "metadata": {},
   "source": [
    "#### enumerate"
   ]
  },
  {
   "cell_type": "code",
   "execution_count": 18,
   "metadata": {},
   "outputs": [
    {
     "name": "stdout",
     "output_type": "stream",
     "text": [
      "0 1\n",
      "1 3\n",
      "2 4\n",
      "3 5\n",
      "4 6\n"
     ]
    }
   ],
   "source": [
    "# Keep track of the index in a loop\n",
    "\n",
    "for i, value in enumerate(mylist):\n",
    "    print(i, value)"
   ]
  },
  {
   "cell_type": "markdown",
   "metadata": {},
   "source": [
    "#### zip"
   ]
  },
  {
   "cell_type": "code",
   "execution_count": 19,
   "metadata": {},
   "outputs": [
    {
     "data": {
      "text/plain": [
       "[('foo', 1), ('bar', 2), ('baz', 3)]"
      ]
     },
     "execution_count": 19,
     "metadata": {},
     "output_type": "execute_result"
    }
   ],
   "source": [
    "seq1 = ['foo', 'bar', 'baz']\n",
    "seq2 = [1,2,3]\n",
    "\n",
    "list(zip(seq1,seq2))"
   ]
  },
  {
   "cell_type": "markdown",
   "metadata": {},
   "source": [
    "### 2.2.4 dict"
   ]
  },
  {
   "cell_type": "code",
   "execution_count": 20,
   "metadata": {},
   "outputs": [
    {
     "name": "stdout",
     "output_type": "stream",
     "text": [
      "Arjun\n",
      "True\n",
      "['name', 'age']\n"
     ]
    }
   ],
   "source": [
    "mydict = {'name': 'Arjun', 'age': 32}\n",
    "\n",
    "print(mydict['name'])\n",
    "\n",
    "print('name' in mydict)\n",
    "\n",
    "print(list(mydict.keys()))"
   ]
  },
  {
   "cell_type": "markdown",
   "metadata": {},
   "source": [
    "### 2.2.5 set "
   ]
  },
  {
   "cell_type": "code",
   "execution_count": 21,
   "metadata": {},
   "outputs": [
    {
     "data": {
      "text/plain": [
       "{-1, 0, 1, 2, 5}"
      ]
     },
     "execution_count": 21,
     "metadata": {},
     "output_type": "execute_result"
    }
   ],
   "source": [
    "myset = set([1,1,2,2,2,0,-1,5,5])\n",
    "myset"
   ]
  },
  {
   "cell_type": "markdown",
   "metadata": {},
   "source": [
    "All set theory operations are available as functions to operate on sets."
   ]
  },
  {
   "cell_type": "markdown",
   "metadata": {},
   "source": [
    "### 2.2.6 Comprehensions"
   ]
  },
  {
   "cell_type": "markdown",
   "metadata": {},
   "source": [
    "Comprehensions allow filtering of a list and return a new list with the filtered elements contained. The syntax is enclosed in square brackets."
   ]
  },
  {
   "cell_type": "code",
   "execution_count": 22,
   "metadata": {},
   "outputs": [
    {
     "data": {
      "text/plain": [
       "[1.7320508075688772, 2.0, 2.23606797749979, 2.449489742783178]"
      ]
     },
     "execution_count": 22,
     "metadata": {},
     "output_type": "execute_result"
    }
   ],
   "source": [
    "[x for x in mylist if x > 3]\n",
    "\n",
    "# Do something with x before appending to the new list\n",
    "[x**(1/2) for x in mylist if x > 2]"
   ]
  },
  {
   "cell_type": "markdown",
   "metadata": {},
   "source": [
    "## 2.3 Functions"
   ]
  },
  {
   "cell_type": "markdown",
   "metadata": {},
   "source": [
    "Functions are declared using the `def` keyword and return a value (or a tuple) using the `return` keyword."
   ]
  },
  {
   "cell_type": "code",
   "execution_count": 23,
   "metadata": {},
   "outputs": [
    {
     "name": "stdout",
     "output_type": "stream",
     "text": [
      "3\n"
     ]
    }
   ],
   "source": [
    "def myFunc(arg):\n",
    "    return (arg, arg+1)\n",
    "\n",
    "a, b = myFunc(1) # Unpack the return tuple into variables\n",
    "\n",
    "print(a + b)"
   ]
  },
  {
   "cell_type": "markdown",
   "metadata": {},
   "source": [
    "Functions are __objects__, so they can be used like variables and arguments in loops and other functions. For example, you can abstract a list of functions to apply to a certain object in a separate list, then iterate over that list in a loop to apply all functions to a piece of data."
   ]
  },
  {
   "cell_type": "code",
   "execution_count": 24,
   "metadata": {},
   "outputs": [
    {
     "data": {
      "text/plain": [
       "['Machine Learning', 'Data Science']"
      ]
     },
     "execution_count": 24,
     "metadata": {},
     "output_type": "execute_result"
    }
   ],
   "source": [
    "clean_ops = [str.title, str.strip]\n",
    "\n",
    "def clean_strings(strings, ops):\n",
    "    result = []\n",
    "    for value in strings:\n",
    "        for function in ops:\n",
    "            value = function(value)\n",
    "        result.append(value)\n",
    "    return result\n",
    "\n",
    "clean_strings([\"maChine learning\", \"data sCiEnce \"], clean_ops)"
   ]
  },
  {
   "cell_type": "markdown",
   "metadata": {},
   "source": [
    "The [map](https://docs.python.org/3/library/functions.html#map) function can apply a function to an iterator and accepts a function as its first argument. This is another example of Python functions being treated as objects.\n"
   ]
  },
  {
   "cell_type": "markdown",
   "metadata": {},
   "source": [
    "### 2.3.1 Lambda functions"
   ]
  },
  {
   "cell_type": "markdown",
   "metadata": {},
   "source": [
    "Anonymous or \"lambda\" functions can be created and stored in variables. These can be passed as arguments to other functions, if the function accepts another function as an argument."
   ]
  },
  {
   "cell_type": "code",
   "execution_count": 25,
   "metadata": {},
   "outputs": [
    {
     "data": {
      "text/plain": [
       "[0, 1, 4, 9, 16, 25, 36, 49, 64, 81]"
      ]
     },
     "execution_count": 25,
     "metadata": {},
     "output_type": "execute_result"
    }
   ],
   "source": [
    "# Calculate squares\n",
    "nums = range(10)\n",
    "squareit = lambda x: x**2\n",
    "\n",
    "list(map(squareit, nums))"
   ]
  },
  {
   "cell_type": "markdown",
   "metadata": {},
   "source": [
    "### 2.3.2 Generators"
   ]
  },
  {
   "cell_type": "markdown",
   "metadata": {},
   "source": [
    "Generators are a powerful way to create an iterable object as a result of a function. Instead of returning a completed list and returning that, generators allow us to calculate just one list item in the function and return the results \"lazily\" as a list once accessed."
   ]
  },
  {
   "cell_type": "code",
   "execution_count": 26,
   "metadata": {},
   "outputs": [
    {
     "data": {
      "text/plain": [
       "385"
      ]
     },
     "execution_count": 26,
     "metadata": {},
     "output_type": "execute_result"
    }
   ],
   "source": [
    "# Using the 'yield' keyword\n",
    "\n",
    "def squares(n):\n",
    "    for i in range(n+1):\n",
    "        yield i**2\n",
    "        \n",
    "        \n",
    "sum(squares(10))"
   ]
  },
  {
   "cell_type": "code",
   "execution_count": 27,
   "metadata": {},
   "outputs": [
    {
     "data": {
      "text/plain": [
       "385"
      ]
     },
     "execution_count": 27,
     "metadata": {},
     "output_type": "execute_result"
    }
   ],
   "source": [
    "# Using the generator shorthand\n",
    "squares = (num**2 for num in range(11))\n",
    "sum(squares)"
   ]
  },
  {
   "cell_type": "code",
   "execution_count": 28,
   "metadata": {},
   "outputs": [
    {
     "data": {
      "text/plain": [
       "385"
      ]
     },
     "execution_count": 28,
     "metadata": {},
     "output_type": "execute_result"
    }
   ],
   "source": [
    "# Combining with Lambda functions\n",
    "squareIt = lambda num: (num**2 for num in range(11))\n",
    "sum(squareIt(10))"
   ]
  },
  {
   "cell_type": "markdown",
   "metadata": {},
   "source": [
    "### 2.3.3 Exception Handling"
   ]
  },
  {
   "cell_type": "markdown",
   "metadata": {},
   "source": [
    "Python provides exception handling with `try-except-finally` blocks. Speficic error types can be surpressed for `except`, with multiple error types provided as a tuple."
   ]
  },
  {
   "cell_type": "code",
   "execution_count": 29,
   "metadata": {},
   "outputs": [
    {
     "name": "stdout",
     "output_type": "stream",
     "text": [
      "This always executes before returning.\n"
     ]
    },
    {
     "data": {
      "text/plain": [
       "'Hello'"
      ]
     },
     "execution_count": 29,
     "metadata": {},
     "output_type": "execute_result"
    }
   ],
   "source": [
    "def try_float(float):\n",
    "    try:\n",
    "        return float(float)\n",
    "    except (TypeError, ValueError):\n",
    "        return float\n",
    "    finally:\n",
    "        print(\"This always executes before returning.\")\n",
    "        \n",
    "try_float(\"Hello\")"
   ]
  },
  {
   "cell_type": "markdown",
   "metadata": {},
   "source": [
    "## 2.4 Handling Files"
   ]
  },
  {
   "cell_type": "code",
   "execution_count": 30,
   "metadata": {},
   "outputs": [
    {
     "data": {
      "text/plain": [
       "['Lorem ipsum dolor sit amet, consectetur adipiscing elit, sed do eiusmod tempor incididunt ut labore et dolore magna aliqua. Ut enim ad minim veniam,',\n",
       " 'quis nostrud exercitation ullamco laboris nisi ut aliquip ex ea commodo consequat.',\n",
       " 'Duis aute irure dolor in reprehenderit in voluptate velit esse cillum dolore eu fugiat nulla pariatur.',\n",
       " 'Excepteur sint occaecat cupidatat non proident, sunt in culpa qui officia deserunt mollit anim id est laborum.']"
      ]
     },
     "execution_count": 30,
     "metadata": {},
     "output_type": "execute_result"
    }
   ],
   "source": [
    "path = 'sample-text-file.txt'\n",
    "\n",
    "f = open(path)\n",
    "\n",
    "lines = [x.rstrip() for x in f]\n",
    "\n",
    "f.close()\n",
    "\n",
    "lines"
   ]
  },
  {
   "cell_type": "code",
   "execution_count": 31,
   "metadata": {},
   "outputs": [
    {
     "data": {
      "text/plain": [
       "{'Lorem': 1,\n",
       " 'ipsum': 1,\n",
       " 'dolor': 2,\n",
       " 'sit': 1,\n",
       " 'amet,': 1,\n",
       " 'consectetur': 1,\n",
       " 'adipiscing': 1,\n",
       " 'elit,': 1,\n",
       " 'sed': 1,\n",
       " 'do': 1,\n",
       " 'eiusmod': 1,\n",
       " 'tempor': 1,\n",
       " 'incididunt': 1,\n",
       " 'ut': 2,\n",
       " 'labore': 1,\n",
       " 'et': 1,\n",
       " 'dolore': 2,\n",
       " 'magna': 1,\n",
       " 'aliqua.': 1,\n",
       " 'Ut': 1,\n",
       " 'enim': 1,\n",
       " 'ad': 1,\n",
       " 'minim': 1,\n",
       " 'veniam,': 1,\n",
       " 'quis': 1,\n",
       " 'nostrud': 1,\n",
       " 'exercitation': 1,\n",
       " 'ullamco': 1,\n",
       " 'laboris': 1,\n",
       " 'nisi': 1,\n",
       " 'aliquip': 1,\n",
       " 'ex': 1,\n",
       " 'ea': 1,\n",
       " 'commodo': 1,\n",
       " 'consequat.': 1,\n",
       " 'Duis': 1,\n",
       " 'aute': 1,\n",
       " 'irure': 1,\n",
       " 'in': 3,\n",
       " 'reprehenderit': 1,\n",
       " 'voluptate': 1,\n",
       " 'velit': 1,\n",
       " 'esse': 1,\n",
       " 'cillum': 1,\n",
       " 'eu': 1,\n",
       " 'fugiat': 1,\n",
       " 'nulla': 1,\n",
       " 'pariatur.': 1,\n",
       " 'Excepteur': 1,\n",
       " 'sint': 1,\n",
       " 'occaecat': 1,\n",
       " 'cupidatat': 1,\n",
       " 'non': 1,\n",
       " 'proident,': 1,\n",
       " 'sunt': 1,\n",
       " 'culpa': 1,\n",
       " 'qui': 1,\n",
       " 'officia': 1,\n",
       " 'deserunt': 1,\n",
       " 'mollit': 1,\n",
       " 'anim': 1,\n",
       " 'id': 1,\n",
       " 'est': 1,\n",
       " 'laborum.': 1}"
      ]
     },
     "execution_count": 31,
     "metadata": {},
     "output_type": "execute_result"
    }
   ],
   "source": [
    "\n",
    "wordLines = [x.split(\" \") for x in lines]\n",
    "dict = {}\n",
    "for line in wordLines:\n",
    "    for word in line:\n",
    "        if word in dict.keys():\n",
    "            dict[word] += 1\n",
    "        else:\n",
    "            dict[word] = 1\n",
    "            \n",
    "dict\n",
    "    "
   ]
  },
  {
   "cell_type": "markdown",
   "metadata": {},
   "source": [
    "A more succint way of accessing a file and its contents is shown below."
   ]
  },
  {
   "cell_type": "code",
   "execution_count": 32,
   "metadata": {},
   "outputs": [
    {
     "data": {
      "text/plain": [
       "['Lorem',\n",
       " 'ipsum',\n",
       " 'dolor',\n",
       " 'sit',\n",
       " 'amet,',\n",
       " 'consectetur',\n",
       " 'adipiscing',\n",
       " 'elit,',\n",
       " 'sed',\n",
       " 'do',\n",
       " 'eiusmod',\n",
       " 'tempor',\n",
       " 'incididunt',\n",
       " 'ut',\n",
       " 'labore',\n",
       " 'et',\n",
       " 'dolore',\n",
       " 'magna',\n",
       " 'aliqua.',\n",
       " 'Ut',\n",
       " 'enim',\n",
       " 'ad',\n",
       " 'minim',\n",
       " 'veniam,',\n",
       " '\\n']"
      ]
     },
     "execution_count": 32,
     "metadata": {},
     "output_type": "execute_result"
    }
   ],
   "source": [
    "with open('sample-text-file.txt') as f:\n",
    "    words = f.readline().split(' ')\n",
    "words"
   ]
  },
  {
   "cell_type": "markdown",
   "metadata": {},
   "source": [
    "### Important modules"
   ]
  },
  {
   "cell_type": "markdown",
   "metadata": {},
   "source": [
    "The two most important modules for data science currently are `scipy` and `numpy`."
   ]
  },
  {
   "cell_type": "code",
   "execution_count": 33,
   "metadata": {},
   "outputs": [
    {
     "name": "stdout",
     "output_type": "stream",
     "text": [
      "[1 2 3 4 5]\n",
      "3.0\n"
     ]
    }
   ],
   "source": [
    "import numpy as np\n",
    "x = np.array([1,2,3,4,5])\n",
    "print(x)\n",
    "print(np.mean(x))"
   ]
  },
  {
   "cell_type": "code",
   "execution_count": 34,
   "metadata": {},
   "outputs": [
    {
     "data": {
      "text/plain": [
       "DescribeResult(nobs=5, minmax=(1, 5), mean=3.0, variance=2.5, skewness=0.0, kurtosis=-1.3)"
      ]
     },
     "execution_count": 34,
     "metadata": {},
     "output_type": "execute_result"
    }
   ],
   "source": [
    "from scipy import stats\n",
    "stats.describe(x)"
   ]
  },
  {
   "cell_type": "markdown",
   "metadata": {},
   "source": [
    "# 3. Data Structures"
   ]
  },
  {
   "cell_type": "markdown",
   "metadata": {},
   "source": [
    "## 3.1 NumPy"
   ]
  },
  {
   "cell_type": "markdown",
   "metadata": {},
   "source": [
    "NumPy provides a library for numerical computing. It is much faster than built-in python operations in many cases as it is written in C, and Python allows easy wrapping low-level language functions and using them within Python. It therefore uses less memory and is faster in accessing this memory since C doesn't need to deal with type checking.\n",
    "\n",
    "NumPy can perform complex operations on arrays __without the need for loops__."
   ]
  },
  {
   "cell_type": "code",
   "execution_count": 35,
   "metadata": {},
   "outputs": [
    {
     "name": "stdout",
     "output_type": "stream",
     "text": [
      "CPU times: user 12 ms, sys: 4.52 ms, total: 16.5 ms\n",
      "Wall time: 17.3 ms\n",
      "CPU times: user 505 ms, sys: 134 ms, total: 639 ms\n",
      "Wall time: 641 ms\n"
     ]
    }
   ],
   "source": [
    "import numpy as np\n",
    "\n",
    "my_arr = np.arange(1000000)\n",
    "my_list = list(range(1000000))\n",
    "\n",
    "%time for _ in range(10): my_arr2 = my_arr*2\n",
    "    \n",
    "%time for _ in range(10): my_list = [x*2 for x in my_list]"
   ]
  },
  {
   "cell_type": "markdown",
   "metadata": {},
   "source": [
    "### 3.1.1 NumPy `ndarray`"
   ]
  },
  {
   "cell_type": "markdown",
   "metadata": {},
   "source": [
    "NumPy provides `ndarray`, a fast, flexible data structure for large datasets. It allows us to operate on whole blocks of data with syntax as if they were scalar elements."
   ]
  },
  {
   "cell_type": "code",
   "execution_count": 36,
   "metadata": {},
   "outputs": [
    {
     "data": {
      "text/plain": [
       "array([[  4.83970217, -15.36194321,  -0.18010842],\n",
       "       [-10.91045501,  10.28957591, -11.96686665]])"
      ]
     },
     "execution_count": 36,
     "metadata": {},
     "output_type": "execute_result"
    }
   ],
   "source": [
    "# Create an ndarray of random numbers\n",
    "data = np.random.randn(2,3)\n",
    "\n",
    "# Multiply each array value with 10\n",
    "data * 10\n"
   ]
  },
  {
   "cell_type": "code",
   "execution_count": 37,
   "metadata": {},
   "outputs": [
    {
     "data": {
      "text/plain": [
       "array([[ 0.96794043, -3.07238864, -0.03602168],\n",
       "       [-2.182091  ,  2.05791518, -2.39337333]])"
      ]
     },
     "execution_count": 37,
     "metadata": {},
     "output_type": "execute_result"
    }
   ],
   "source": [
    "# Add each array value of two arrays\n",
    "data + data"
   ]
  },
  {
   "cell_type": "markdown",
   "metadata": {},
   "source": [
    "All elements of an `ndarray` must be of the same type. We can see the _shape_ and _type_ of the array."
   ]
  },
  {
   "cell_type": "code",
   "execution_count": 38,
   "metadata": {},
   "outputs": [
    {
     "data": {
      "text/plain": [
       "dtype('float64')"
      ]
     },
     "execution_count": 38,
     "metadata": {},
     "output_type": "execute_result"
    }
   ],
   "source": [
    "data.dtype"
   ]
  },
  {
   "cell_type": "code",
   "execution_count": 39,
   "metadata": {},
   "outputs": [
    {
     "data": {
      "text/plain": [
       "(2, 3)"
      ]
     },
     "execution_count": 39,
     "metadata": {},
     "output_type": "execute_result"
    }
   ],
   "source": [
    "data.shape"
   ]
  },
  {
   "cell_type": "code",
   "execution_count": 40,
   "metadata": {},
   "outputs": [
    {
     "data": {
      "text/plain": [
       "2"
      ]
     },
     "execution_count": 40,
     "metadata": {},
     "output_type": "execute_result"
    }
   ],
   "source": [
    "data.ndim"
   ]
  },
  {
   "cell_type": "markdown",
   "metadata": {},
   "source": [
    "Any sequence like object can be converted into a NumPy array using the `array()` function."
   ]
  },
  {
   "cell_type": "code",
   "execution_count": 41,
   "metadata": {},
   "outputs": [
    {
     "data": {
      "text/plain": [
       "array([[1, 2, 3, 4],\n",
       "       [5, 6, 7, 8]])"
      ]
     },
     "execution_count": 41,
     "metadata": {},
     "output_type": "execute_result"
    }
   ],
   "source": [
    "list = [[1,2,3,4],[5,6,7,8]]\n",
    "\n",
    "nparr = np.array(list)\n",
    "\n",
    "nparr"
   ]
  },
  {
   "cell_type": "markdown",
   "metadata": {},
   "source": [
    "Accessing an n-dimensional array is similar to matrix notation, providing the row and column indices as arguments."
   ]
  },
  {
   "cell_type": "code",
   "execution_count": 42,
   "metadata": {},
   "outputs": [
    {
     "data": {
      "text/plain": [
       "2"
      ]
     },
     "execution_count": 42,
     "metadata": {},
     "output_type": "execute_result"
    }
   ],
   "source": [
    "nparr[0][1]\n",
    "\n",
    "# or \n",
    "\n",
    "nparr[0,1] "
   ]
  },
  {
   "cell_type": "markdown",
   "metadata": {},
   "source": [
    "## 3.2 Pandas"
   ]
  },
  {
   "cell_type": "markdown",
   "metadata": {},
   "source": [
    "Pandas provides additional data structures to handle large datasets in tabular form. The most important structures are `Series` and `Dataframe`."
   ]
  },
  {
   "cell_type": "markdown",
   "metadata": {},
   "source": [
    "### 3.2.1 Series "
   ]
  },
  {
   "cell_type": "markdown",
   "metadata": {},
   "source": [
    "A series is a one-dimensional array-like object, similar to a `dict` but with easier handling of keys and values."
   ]
  },
  {
   "cell_type": "code",
   "execution_count": 43,
   "metadata": {},
   "outputs": [
    {
     "data": {
      "text/plain": [
       "0    4\n",
       "1    7\n",
       "2   -5\n",
       "3    3\n",
       "dtype: int64"
      ]
     },
     "execution_count": 43,
     "metadata": {},
     "output_type": "execute_result"
    }
   ],
   "source": [
    "import pandas as pd\n",
    "\n",
    "obj = pd.Series([4,7,-5,3])\n",
    "obj"
   ]
  },
  {
   "cell_type": "code",
   "execution_count": 44,
   "metadata": {},
   "outputs": [
    {
     "data": {
      "text/plain": [
       "array([ 4,  7, -5,  3])"
      ]
     },
     "execution_count": 44,
     "metadata": {},
     "output_type": "execute_result"
    }
   ],
   "source": [
    "obj.values"
   ]
  },
  {
   "cell_type": "code",
   "execution_count": 45,
   "metadata": {},
   "outputs": [
    {
     "data": {
      "text/plain": [
       "d    4\n",
       "b    7\n",
       "a   -5\n",
       "c    3\n",
       "dtype: int64"
      ]
     },
     "execution_count": 45,
     "metadata": {},
     "output_type": "execute_result"
    }
   ],
   "source": [
    "obj = pd.Series([4,7,-5,3], index=['d','b','a','c'])\n",
    "obj"
   ]
  },
  {
   "cell_type": "code",
   "execution_count": 46,
   "metadata": {},
   "outputs": [
    {
     "data": {
      "text/plain": [
       "7"
      ]
     },
     "execution_count": 46,
     "metadata": {},
     "output_type": "execute_result"
    }
   ],
   "source": [
    "obj['b']"
   ]
  },
  {
   "cell_type": "code",
   "execution_count": 47,
   "metadata": {},
   "outputs": [
    {
     "data": {
      "text/plain": [
       "d    4\n",
       "b    7\n",
       "c    3\n",
       "dtype: int64"
      ]
     },
     "execution_count": 47,
     "metadata": {},
     "output_type": "execute_result"
    }
   ],
   "source": [
    "obj[obj>0]"
   ]
  },
  {
   "cell_type": "code",
   "execution_count": 48,
   "metadata": {},
   "outputs": [
    {
     "data": {
      "text/plain": [
       "d     8\n",
       "b    14\n",
       "a   -10\n",
       "c     6\n",
       "dtype: int64"
      ]
     },
     "execution_count": 48,
     "metadata": {},
     "output_type": "execute_result"
    }
   ],
   "source": [
    "obj*2"
   ]
  },
  {
   "cell_type": "code",
   "execution_count": 49,
   "metadata": {},
   "outputs": [
    {
     "data": {
      "text/plain": [
       "True"
      ]
     },
     "execution_count": 49,
     "metadata": {},
     "output_type": "execute_result"
    }
   ],
   "source": [
    "'a' in obj"
   ]
  },
  {
   "cell_type": "markdown",
   "metadata": {},
   "source": [
    "Any `dict` can be passed to `Series()` to be converted to a Series."
   ]
  },
  {
   "cell_type": "markdown",
   "metadata": {},
   "source": [
    "### 3.2.2 DataFrame"
   ]
  },
  {
   "cell_type": "markdown",
   "metadata": {},
   "source": [
    "DataFrames are rectangular tables of data with an ordered collection of columns. It has both a row and column index. It is commonly created from a `dict` where the keys are the column headings and the values are lists of row entries for that specific column. "
   ]
  },
  {
   "cell_type": "code",
   "execution_count": 50,
   "metadata": {},
   "outputs": [
    {
     "data": {
      "text/html": [
       "<div>\n",
       "<style scoped>\n",
       "    .dataframe tbody tr th:only-of-type {\n",
       "        vertical-align: middle;\n",
       "    }\n",
       "\n",
       "    .dataframe tbody tr th {\n",
       "        vertical-align: top;\n",
       "    }\n",
       "\n",
       "    .dataframe thead th {\n",
       "        text-align: right;\n",
       "    }\n",
       "</style>\n",
       "<table border=\"1\" class=\"dataframe\">\n",
       "  <thead>\n",
       "    <tr style=\"text-align: right;\">\n",
       "      <th></th>\n",
       "      <th>state</th>\n",
       "      <th>year</th>\n",
       "      <th>pop</th>\n",
       "    </tr>\n",
       "  </thead>\n",
       "  <tbody>\n",
       "    <tr>\n",
       "      <th>0</th>\n",
       "      <td>Ohio</td>\n",
       "      <td>2000</td>\n",
       "      <td>1.5</td>\n",
       "    </tr>\n",
       "    <tr>\n",
       "      <th>1</th>\n",
       "      <td>Ohio</td>\n",
       "      <td>2001</td>\n",
       "      <td>1.7</td>\n",
       "    </tr>\n",
       "    <tr>\n",
       "      <th>2</th>\n",
       "      <td>Ohio</td>\n",
       "      <td>2002</td>\n",
       "      <td>3.6</td>\n",
       "    </tr>\n",
       "    <tr>\n",
       "      <th>3</th>\n",
       "      <td>Nevada</td>\n",
       "      <td>2001</td>\n",
       "      <td>2.4</td>\n",
       "    </tr>\n",
       "    <tr>\n",
       "      <th>4</th>\n",
       "      <td>Nevada</td>\n",
       "      <td>2002</td>\n",
       "      <td>2.9</td>\n",
       "    </tr>\n",
       "    <tr>\n",
       "      <th>5</th>\n",
       "      <td>Nevada</td>\n",
       "      <td>2003</td>\n",
       "      <td>3.2</td>\n",
       "    </tr>\n",
       "  </tbody>\n",
       "</table>\n",
       "</div>"
      ],
      "text/plain": [
       "    state  year  pop\n",
       "0    Ohio  2000  1.5\n",
       "1    Ohio  2001  1.7\n",
       "2    Ohio  2002  3.6\n",
       "3  Nevada  2001  2.4\n",
       "4  Nevada  2002  2.9\n",
       "5  Nevada  2003  3.2"
      ]
     },
     "execution_count": 50,
     "metadata": {},
     "output_type": "execute_result"
    }
   ],
   "source": [
    "data = {'state': ['Ohio', 'Ohio', 'Ohio', 'Nevada', 'Nevada', 'Nevada'],\n",
    "        'year': [2000, 2001, 2002, 2001, 2002, 2003],\n",
    "        'pop': [1.5, 1.7, 3.6, 2.4, 2.9, 3.2]\n",
    "       }\n",
    "frame = pd.DataFrame(data)\n",
    "frame"
   ]
  },
  {
   "cell_type": "code",
   "execution_count": 51,
   "metadata": {},
   "outputs": [
    {
     "data": {
      "text/html": [
       "<div>\n",
       "<style scoped>\n",
       "    .dataframe tbody tr th:only-of-type {\n",
       "        vertical-align: middle;\n",
       "    }\n",
       "\n",
       "    .dataframe tbody tr th {\n",
       "        vertical-align: top;\n",
       "    }\n",
       "\n",
       "    .dataframe thead th {\n",
       "        text-align: right;\n",
       "    }\n",
       "</style>\n",
       "<table border=\"1\" class=\"dataframe\">\n",
       "  <thead>\n",
       "    <tr style=\"text-align: right;\">\n",
       "      <th></th>\n",
       "      <th>year</th>\n",
       "      <th>state</th>\n",
       "      <th>pop</th>\n",
       "    </tr>\n",
       "  </thead>\n",
       "  <tbody>\n",
       "    <tr>\n",
       "      <th>One</th>\n",
       "      <td>2000</td>\n",
       "      <td>Ohio</td>\n",
       "      <td>1.5</td>\n",
       "    </tr>\n",
       "    <tr>\n",
       "      <th>Two</th>\n",
       "      <td>2001</td>\n",
       "      <td>Ohio</td>\n",
       "      <td>1.7</td>\n",
       "    </tr>\n",
       "    <tr>\n",
       "      <th>Three</th>\n",
       "      <td>2002</td>\n",
       "      <td>Ohio</td>\n",
       "      <td>3.6</td>\n",
       "    </tr>\n",
       "    <tr>\n",
       "      <th>Four</th>\n",
       "      <td>2001</td>\n",
       "      <td>Nevada</td>\n",
       "      <td>2.4</td>\n",
       "    </tr>\n",
       "    <tr>\n",
       "      <th>Five</th>\n",
       "      <td>2002</td>\n",
       "      <td>Nevada</td>\n",
       "      <td>2.9</td>\n",
       "    </tr>\n",
       "    <tr>\n",
       "      <th>Six</th>\n",
       "      <td>2003</td>\n",
       "      <td>Nevada</td>\n",
       "      <td>3.2</td>\n",
       "    </tr>\n",
       "  </tbody>\n",
       "</table>\n",
       "</div>"
      ],
      "text/plain": [
       "       year   state  pop\n",
       "One    2000    Ohio  1.5\n",
       "Two    2001    Ohio  1.7\n",
       "Three  2002    Ohio  3.6\n",
       "Four   2001  Nevada  2.4\n",
       "Five   2002  Nevada  2.9\n",
       "Six    2003  Nevada  3.2"
      ]
     },
     "execution_count": 51,
     "metadata": {},
     "output_type": "execute_result"
    }
   ],
   "source": [
    "# Customize column ordering and row indices, and construct new (empty) columns\n",
    "frame = pd.DataFrame(data,  columns=['year', 'state', 'pop'], index=['One', 'Two', 'Three','Four','Five','Six'])\n",
    "frame"
   ]
  },
  {
   "cell_type": "markdown",
   "metadata": {},
   "source": [
    "Each row can be accessed as an object. Each column can be retrieved as a Series."
   ]
  },
  {
   "cell_type": "code",
   "execution_count": 52,
   "metadata": {},
   "outputs": [
    {
     "data": {
      "text/plain": [
       "year     2000\n",
       "state    Ohio\n",
       "pop       1.5\n",
       "Name: One, dtype: object"
      ]
     },
     "execution_count": 52,
     "metadata": {},
     "output_type": "execute_result"
    }
   ],
   "source": [
    "# Access a single row by index\n",
    "frame.loc['One']"
   ]
  },
  {
   "cell_type": "code",
   "execution_count": 53,
   "metadata": {},
   "outputs": [
    {
     "data": {
      "text/plain": [
       "One      2000\n",
       "Two      2001\n",
       "Three    2002\n",
       "Four     2001\n",
       "Five     2002\n",
       "Six      2003\n",
       "Name: year, dtype: int64"
      ]
     },
     "execution_count": 53,
     "metadata": {},
     "output_type": "execute_result"
    }
   ],
   "source": [
    "# Access a column\n",
    "frame.year"
   ]
  },
  {
   "cell_type": "code",
   "execution_count": 54,
   "metadata": {},
   "outputs": [
    {
     "data": {
      "text/html": [
       "<div>\n",
       "<style scoped>\n",
       "    .dataframe tbody tr th:only-of-type {\n",
       "        vertical-align: middle;\n",
       "    }\n",
       "\n",
       "    .dataframe tbody tr th {\n",
       "        vertical-align: top;\n",
       "    }\n",
       "\n",
       "    .dataframe thead th {\n",
       "        text-align: right;\n",
       "    }\n",
       "</style>\n",
       "<table border=\"1\" class=\"dataframe\">\n",
       "  <thead>\n",
       "    <tr style=\"text-align: right;\">\n",
       "      <th></th>\n",
       "      <th>year</th>\n",
       "      <th>state</th>\n",
       "      <th>pop</th>\n",
       "      <th>debt</th>\n",
       "    </tr>\n",
       "  </thead>\n",
       "  <tbody>\n",
       "    <tr>\n",
       "      <th>One</th>\n",
       "      <td>2000</td>\n",
       "      <td>Ohio</td>\n",
       "      <td>1.5</td>\n",
       "      <td>0.0</td>\n",
       "    </tr>\n",
       "    <tr>\n",
       "      <th>Two</th>\n",
       "      <td>2001</td>\n",
       "      <td>Ohio</td>\n",
       "      <td>1.7</td>\n",
       "      <td>1.0</td>\n",
       "    </tr>\n",
       "    <tr>\n",
       "      <th>Three</th>\n",
       "      <td>2002</td>\n",
       "      <td>Ohio</td>\n",
       "      <td>3.6</td>\n",
       "      <td>2.0</td>\n",
       "    </tr>\n",
       "    <tr>\n",
       "      <th>Four</th>\n",
       "      <td>2001</td>\n",
       "      <td>Nevada</td>\n",
       "      <td>2.4</td>\n",
       "      <td>3.0</td>\n",
       "    </tr>\n",
       "    <tr>\n",
       "      <th>Five</th>\n",
       "      <td>2002</td>\n",
       "      <td>Nevada</td>\n",
       "      <td>2.9</td>\n",
       "      <td>4.0</td>\n",
       "    </tr>\n",
       "    <tr>\n",
       "      <th>Six</th>\n",
       "      <td>2003</td>\n",
       "      <td>Nevada</td>\n",
       "      <td>3.2</td>\n",
       "      <td>5.0</td>\n",
       "    </tr>\n",
       "  </tbody>\n",
       "</table>\n",
       "</div>"
      ],
      "text/plain": [
       "       year   state  pop  debt\n",
       "One    2000    Ohio  1.5   0.0\n",
       "Two    2001    Ohio  1.7   1.0\n",
       "Three  2002    Ohio  3.6   2.0\n",
       "Four   2001  Nevada  2.4   3.0\n",
       "Five   2002  Nevada  2.9   4.0\n",
       "Six    2003  Nevada  3.2   5.0"
      ]
     },
     "execution_count": 54,
     "metadata": {},
     "output_type": "execute_result"
    }
   ],
   "source": [
    "# Assign values to a column. If it doesn't exist, it will be created.\n",
    "frame['debt'] = np.arange(6.)\n",
    "frame"
   ]
  },
  {
   "cell_type": "markdown",
   "metadata": {},
   "source": [
    "### 3.2.3 Reading Files"
   ]
  },
  {
   "cell_type": "markdown",
   "metadata": {},
   "source": [
    "Pandas provides functions to read files from various sources, such as [`read_csv`](https://pandas.pydata.org/pandas-docs/stable/reference/api/pandas.read_csv.html), [`read_html`](https://pandas.pydata.org/pandas-docs/stable/reference/api/pandas.read_html.html) and [`read_json`](https://pandas.pydata.org/pandas-docs/stable/reference/api/pandas.read_json.html). Each have their own way of providing a DataFrame object."
   ]
  },
  {
   "cell_type": "code",
   "execution_count": 55,
   "metadata": {},
   "outputs": [
    {
     "data": {
      "text/html": [
       "<div>\n",
       "<style scoped>\n",
       "    .dataframe tbody tr th:only-of-type {\n",
       "        vertical-align: middle;\n",
       "    }\n",
       "\n",
       "    .dataframe tbody tr th {\n",
       "        vertical-align: top;\n",
       "    }\n",
       "\n",
       "    .dataframe thead th {\n",
       "        text-align: right;\n",
       "    }\n",
       "</style>\n",
       "<table border=\"1\" class=\"dataframe\">\n",
       "  <thead>\n",
       "    <tr style=\"text-align: right;\">\n",
       "      <th></th>\n",
       "      <th>DBN</th>\n",
       "      <th>School Name</th>\n",
       "      <th>Grade</th>\n",
       "      <th>Year</th>\n",
       "      <th>Category</th>\n",
       "      <th>Number Tested</th>\n",
       "      <th>Mean Scale Score</th>\n",
       "      <th>Level1_N</th>\n",
       "      <th>Level1_%</th>\n",
       "      <th>Level2_N</th>\n",
       "      <th>Level2_%</th>\n",
       "      <th>Level3_N</th>\n",
       "      <th>Level3_%</th>\n",
       "      <th>Level4_N</th>\n",
       "      <th>Level4_%</th>\n",
       "      <th>Level3+4_N</th>\n",
       "      <th>Level3+4_%</th>\n",
       "    </tr>\n",
       "  </thead>\n",
       "  <tbody>\n",
       "    <tr>\n",
       "      <th>0</th>\n",
       "      <td>01M015</td>\n",
       "      <td>PS 015 ROBERTO CLEMENTE</td>\n",
       "      <td>3</td>\n",
       "      <td>2013</td>\n",
       "      <td>Female</td>\n",
       "      <td>12</td>\n",
       "      <td>274</td>\n",
       "      <td>9</td>\n",
       "      <td>75.0</td>\n",
       "      <td>3</td>\n",
       "      <td>25.0</td>\n",
       "      <td>0</td>\n",
       "      <td>0.0</td>\n",
       "      <td>0</td>\n",
       "      <td>0.0</td>\n",
       "      <td>0</td>\n",
       "      <td>0.0</td>\n",
       "    </tr>\n",
       "    <tr>\n",
       "      <th>1</th>\n",
       "      <td>01M015</td>\n",
       "      <td>PS 015 ROBERTO CLEMENTE</td>\n",
       "      <td>3</td>\n",
       "      <td>2013</td>\n",
       "      <td>Male</td>\n",
       "      <td>15</td>\n",
       "      <td>281</td>\n",
       "      <td>7</td>\n",
       "      <td>46.7</td>\n",
       "      <td>8</td>\n",
       "      <td>53.3</td>\n",
       "      <td>0</td>\n",
       "      <td>0.0</td>\n",
       "      <td>0</td>\n",
       "      <td>0.0</td>\n",
       "      <td>0</td>\n",
       "      <td>0.0</td>\n",
       "    </tr>\n",
       "    <tr>\n",
       "      <th>2</th>\n",
       "      <td>01M015</td>\n",
       "      <td>PS 015 ROBERTO CLEMENTE</td>\n",
       "      <td>3</td>\n",
       "      <td>2014</td>\n",
       "      <td>Female</td>\n",
       "      <td>13</td>\n",
       "      <td>s</td>\n",
       "      <td>s</td>\n",
       "      <td>s</td>\n",
       "      <td>s</td>\n",
       "      <td>s</td>\n",
       "      <td>s</td>\n",
       "      <td>s</td>\n",
       "      <td>s</td>\n",
       "      <td>s</td>\n",
       "      <td>s</td>\n",
       "      <td>s</td>\n",
       "    </tr>\n",
       "    <tr>\n",
       "      <th>3</th>\n",
       "      <td>01M015</td>\n",
       "      <td>PS 015 ROBERTO CLEMENTE</td>\n",
       "      <td>3</td>\n",
       "      <td>2014</td>\n",
       "      <td>Male</td>\n",
       "      <td>5</td>\n",
       "      <td>s</td>\n",
       "      <td>s</td>\n",
       "      <td>s</td>\n",
       "      <td>s</td>\n",
       "      <td>s</td>\n",
       "      <td>s</td>\n",
       "      <td>s</td>\n",
       "      <td>s</td>\n",
       "      <td>s</td>\n",
       "      <td>s</td>\n",
       "      <td>s</td>\n",
       "    </tr>\n",
       "    <tr>\n",
       "      <th>4</th>\n",
       "      <td>01M015</td>\n",
       "      <td>PS 015 ROBERTO CLEMENTE</td>\n",
       "      <td>3</td>\n",
       "      <td>2015</td>\n",
       "      <td>Female</td>\n",
       "      <td>7</td>\n",
       "      <td>297</td>\n",
       "      <td>3</td>\n",
       "      <td>42.9</td>\n",
       "      <td>1</td>\n",
       "      <td>14.3</td>\n",
       "      <td>2</td>\n",
       "      <td>28.6</td>\n",
       "      <td>1</td>\n",
       "      <td>14.3</td>\n",
       "      <td>3</td>\n",
       "      <td>42.9</td>\n",
       "    </tr>\n",
       "  </tbody>\n",
       "</table>\n",
       "</div>"
      ],
      "text/plain": [
       "      DBN              School Name Grade  Year Category  Number Tested  \\\n",
       "0  01M015  PS 015 ROBERTO CLEMENTE     3  2013   Female             12   \n",
       "1  01M015  PS 015 ROBERTO CLEMENTE     3  2013     Male             15   \n",
       "2  01M015  PS 015 ROBERTO CLEMENTE     3  2014   Female             13   \n",
       "3  01M015  PS 015 ROBERTO CLEMENTE     3  2014     Male              5   \n",
       "4  01M015  PS 015 ROBERTO CLEMENTE     3  2015   Female              7   \n",
       "\n",
       "  Mean Scale Score Level1_N Level1_% Level2_N Level2_% Level3_N Level3_%  \\\n",
       "0              274        9     75.0        3     25.0        0      0.0   \n",
       "1              281        7     46.7        8     53.3        0      0.0   \n",
       "2                s        s        s        s        s        s        s   \n",
       "3                s        s        s        s        s        s        s   \n",
       "4              297        3     42.9        1     14.3        2     28.6   \n",
       "\n",
       "  Level4_N Level4_% Level3+4_N Level3+4_%  \n",
       "0        0      0.0          0        0.0  \n",
       "1        0      0.0          0        0.0  \n",
       "2        s        s          s          s  \n",
       "3        s        s          s          s  \n",
       "4        1     14.3          3       42.9  "
      ]
     },
     "execution_count": 55,
     "metadata": {},
     "output_type": "execute_result"
    }
   ],
   "source": [
    "import pandas as pd\n",
    "frame = pd.read_csv('school.csv')\n",
    "frame.head()"
   ]
  },
  {
   "cell_type": "code",
   "execution_count": 85,
   "metadata": {},
   "outputs": [
    {
     "data": {
      "text/plain": [
       "{'view': {'id': 'tpp3-epx2',\n",
       "  'name': 'Schools',\n",
       "  'assetType': 'dataset',\n",
       "  'averageRating': 0,\n",
       "  'category': 'Economy and Community',\n",
       "  'createdAt': 1468275707,\n",
       "  'description': 'Consolidated Infant, Pre-K, and K-14 education points for facilities both public and private.\\r\\n\\r\\nPoint features are intended to be located within a building footprint relevant to each site, so that they can be used to select an appropriate building footprint or parcel as seed for any required buffering.\\r\\n\\r\\nBuffering may be applied when limiting possible sites for certain businesses or specific individuals, whenever these must remain a minimum distance from school locations.\\r\\n\\r\\nSources include: cde.ca.gov  State of California Department of Education\\r\\nCity and County Department of Technology, San Francisco Enterprise Geographic Information System Program\\r\\n\\r\\nData current as of December 8, 2015',\n",
       "  'displayType': 'table',\n",
       "  'downloadCount': 3652,\n",
       "  'hideFromCatalog': False,\n",
       "  'hideFromDataJson': False,\n",
       "  'indexUpdatedAt': 1468278419,\n",
       "  'licenseId': 'PDDL',\n",
       "  'newBackend': True,\n",
       "  'numberOfComments': 0,\n",
       "  'oid': 22322329,\n",
       "  'provenance': 'official',\n",
       "  'publicationAppendEnabled': False,\n",
       "  'publicationDate': 1468276275,\n",
       "  'publicationGroup': 11859046,\n",
       "  'publicationStage': 'published',\n",
       "  'rowsUpdatedAt': 1468275919,\n",
       "  'rowsUpdatedBy': 's7k8-df3k',\n",
       "  'tableId': 11859046,\n",
       "  'totalTimesRated': 0,\n",
       "  'viewCount': 4367,\n",
       "  'viewLastModified': 1584374808,\n",
       "  'viewType': 'tabular',\n",
       "  'approvals': [{'reviewedAt': 1468276551,\n",
       "    'reviewedAutomatically': True,\n",
       "    'state': 'approved',\n",
       "    'submissionId': 645758,\n",
       "    'submissionObject': 'public_audience_request',\n",
       "    'submissionOutcome': 'change_audience',\n",
       "    'submittedAt': 1468276551,\n",
       "    'workflowId': 2017,\n",
       "    'submissionDetails': {'permissionType': 'READ'},\n",
       "    'submissionOutcomeApplication': {'failureCount': 0, 'status': 'success'},\n",
       "    'submitter': {'id': 'dbag-6qd9', 'displayName': 'OpenData'}}],\n",
       "  'columns': [{'id': -1,\n",
       "    'name': 'sid',\n",
       "    'dataTypeName': 'meta_data',\n",
       "    'fieldName': ':sid',\n",
       "    'position': 0,\n",
       "    'renderTypeName': 'meta_data',\n",
       "    'format': {},\n",
       "    'flags': ['hidden']},\n",
       "   {'id': -1,\n",
       "    'name': 'id',\n",
       "    'dataTypeName': 'meta_data',\n",
       "    'fieldName': ':id',\n",
       "    'position': 0,\n",
       "    'renderTypeName': 'meta_data',\n",
       "    'format': {},\n",
       "    'flags': ['hidden']},\n",
       "   {'id': -1,\n",
       "    'name': 'position',\n",
       "    'dataTypeName': 'meta_data',\n",
       "    'fieldName': ':position',\n",
       "    'position': 0,\n",
       "    'renderTypeName': 'meta_data',\n",
       "    'format': {},\n",
       "    'flags': ['hidden']},\n",
       "   {'id': -1,\n",
       "    'name': 'created_at',\n",
       "    'dataTypeName': 'meta_data',\n",
       "    'fieldName': ':created_at',\n",
       "    'position': 0,\n",
       "    'renderTypeName': 'meta_data',\n",
       "    'format': {},\n",
       "    'flags': ['hidden']},\n",
       "   {'id': -1,\n",
       "    'name': 'created_meta',\n",
       "    'dataTypeName': 'meta_data',\n",
       "    'fieldName': ':created_meta',\n",
       "    'position': 0,\n",
       "    'renderTypeName': 'meta_data',\n",
       "    'format': {},\n",
       "    'flags': ['hidden']},\n",
       "   {'id': -1,\n",
       "    'name': 'updated_at',\n",
       "    'dataTypeName': 'meta_data',\n",
       "    'fieldName': ':updated_at',\n",
       "    'position': 0,\n",
       "    'renderTypeName': 'meta_data',\n",
       "    'format': {},\n",
       "    'flags': ['hidden']},\n",
       "   {'id': -1,\n",
       "    'name': 'updated_meta',\n",
       "    'dataTypeName': 'meta_data',\n",
       "    'fieldName': ':updated_meta',\n",
       "    'position': 0,\n",
       "    'renderTypeName': 'meta_data',\n",
       "    'format': {},\n",
       "    'flags': ['hidden']},\n",
       "   {'id': -1,\n",
       "    'name': 'meta',\n",
       "    'dataTypeName': 'meta_data',\n",
       "    'fieldName': ':meta',\n",
       "    'position': 0,\n",
       "    'renderTypeName': 'meta_data',\n",
       "    'format': {},\n",
       "    'flags': ['hidden']},\n",
       "   {'id': 262526898,\n",
       "    'name': 'Campus Name',\n",
       "    'dataTypeName': 'text',\n",
       "    'fieldName': 'campus_name',\n",
       "    'position': 1,\n",
       "    'renderTypeName': 'text',\n",
       "    'tableColumnId': 37163353,\n",
       "    'width': 232,\n",
       "    'cachedContents': {'largest': 'Zion Lutheran School',\n",
       "     'non_null': 445,\n",
       "     'null': '0',\n",
       "     'top': [{'item': 'Cornerstone Academy', 'count': '3'},\n",
       "      {'item': 'Chinese American International School', 'count': '2'},\n",
       "      {'item': 'Lycee Francais De San Francisco', 'count': '2'},\n",
       "      {'item': 'Bright Horizons - Pacific Gas And Electric', 'count': '2'},\n",
       "      {'item': 'Yick Wo Elementary School', 'count': '1'},\n",
       "      {'item': 'Marina Middle School', 'count': '1'},\n",
       "      {'item': 'Little Tree Preschool', 'count': '1'},\n",
       "      {'item': 'True Sunshine Preschool Center', 'count': '1'},\n",
       "      {'item': 'Calvary Presbyterian Church - Calvary Nursery School',\n",
       "       'count': '1'},\n",
       "      {'item': 'Grace Cathederal Community Preschool', 'count': '1'},\n",
       "      {'item': 'City College of San Francisco Downtown Center', 'count': '1'},\n",
       "      {'item': 'Kzv Armenian School - Krouzian Zekarian Armenian School',\n",
       "       'count': '1'},\n",
       "      {'item': 'Holy Name Elementary School', 'count': '1'},\n",
       "      {'item': 'Lincoln, Abraham Lincoln High School', 'count': '1'},\n",
       "      {'item': 'Rooftop (5-8 Mayeda Campus)', 'count': '1'},\n",
       "      {'item': 'Alamo Elementary School', 'count': '1'},\n",
       "      {'item': 'Marina Childrens Center', 'count': '1'},\n",
       "      {'item': 'Drew, Dr. Charles R. Drew Elementary / Early Education',\n",
       "       'count': '1'},\n",
       "      {'item': 'Ortega, Jose Ortega Elementary School', 'count': '1'},\n",
       "      {'item': 'City College of San Francisco Mission Center', 'count': '1'}],\n",
       "     'smallest': 'ABC Preschool',\n",
       "     'not_null': '445',\n",
       "     'cardinality': '440'},\n",
       "    'format': {}},\n",
       "   {'id': 262526895,\n",
       "    'name': 'CCSF Entity',\n",
       "    'dataTypeName': 'text',\n",
       "    'fieldName': 'ccsf_entity',\n",
       "    'position': 2,\n",
       "    'renderTypeName': 'text',\n",
       "    'tableColumnId': 37163350,\n",
       "    'width': 232,\n",
       "    'cachedContents': {'largest': 'SFUSD',\n",
       "     'non_null': 445,\n",
       "     'null': '0',\n",
       "     'top': [{'item': 'Private', 'count': '304'},\n",
       "      {'item': 'SFUSD', 'count': '131'},\n",
       "      {'item': 'SFCCD', 'count': '10'}],\n",
       "     'smallest': 'Private',\n",
       "     'not_null': '445',\n",
       "     'cardinality': '3'},\n",
       "    'format': {}},\n",
       "   {'id': 262526893,\n",
       "    'name': 'Lower Grade',\n",
       "    'dataTypeName': 'number',\n",
       "    'fieldName': 'lower_grade',\n",
       "    'position': 3,\n",
       "    'renderTypeName': 'number',\n",
       "    'tableColumnId': 37163348,\n",
       "    'width': 132,\n",
       "    'cachedContents': {'largest': '13',\n",
       "     'non_null': 445,\n",
       "     'average': '0.4269662921348315',\n",
       "     'null': '0',\n",
       "     'top': [{'item': '-2', 'count': '223'},\n",
       "      {'item': '0', 'count': '131'},\n",
       "      {'item': '9', 'count': '36'},\n",
       "      {'item': '6', 'count': '22'},\n",
       "      {'item': '13', 'count': '10'},\n",
       "      {'item': '-1', 'count': '5'},\n",
       "      {'item': '8', 'count': '4'},\n",
       "      {'item': '-4', 'count': '3'},\n",
       "      {'item': '1', 'count': '2'},\n",
       "      {'item': '3', 'count': '2'},\n",
       "      {'item': '7', 'count': '2'},\n",
       "      {'item': '5', 'count': '2'},\n",
       "      {'item': '4', 'count': '1'},\n",
       "      {'item': '2', 'count': '1'},\n",
       "      {'item': '-3', 'count': '1'}],\n",
       "     'smallest': '-4',\n",
       "     'not_null': '445',\n",
       "     'sum': '190',\n",
       "     'cardinality': '15'},\n",
       "    'format': {}},\n",
       "   {'id': 262526894,\n",
       "    'name': 'Upper Grade',\n",
       "    'dataTypeName': 'number',\n",
       "    'fieldName': 'upper_grade',\n",
       "    'position': 4,\n",
       "    'renderTypeName': 'number',\n",
       "    'tableColumnId': 37163349,\n",
       "    'width': 139,\n",
       "    'cachedContents': {'largest': '14',\n",
       "     'non_null': 445,\n",
       "     'average': '4.364044943820225',\n",
       "     'null': '0',\n",
       "     'top': [{'item': '-1', 'count': '164'},\n",
       "      {'item': '8', 'count': '97'},\n",
       "      {'item': '5', 'count': '77'},\n",
       "      {'item': '12', 'count': '62'},\n",
       "      {'item': '0', 'count': '15'},\n",
       "      {'item': '14', 'count': '10'},\n",
       "      {'item': '4', 'count': '9'},\n",
       "      {'item': '6', 'count': '4'},\n",
       "      {'item': '2', 'count': '3'},\n",
       "      {'item': '-2', 'count': '3'},\n",
       "      {'item': '1', 'count': '1'}],\n",
       "     'smallest': '-2',\n",
       "     'not_null': '445',\n",
       "     'sum': '1942',\n",
       "     'cardinality': '11'},\n",
       "    'format': {}},\n",
       "   {'id': 262526907,\n",
       "    'name': 'Grade Range',\n",
       "    'dataTypeName': 'text',\n",
       "    'fieldName': 'grade_range',\n",
       "    'position': 5,\n",
       "    'renderTypeName': 'text',\n",
       "    'tableColumnId': 37163362,\n",
       "    'width': 232,\n",
       "    'cachedContents': {'largest': 'TK-8',\n",
       "     'non_null': 445,\n",
       "     'null': '0',\n",
       "     'top': [{'item': 'PK', 'count': '165'},\n",
       "      {'item': 'K-8', 'count': '65'},\n",
       "      {'item': 'K-5', 'count': '51'},\n",
       "      {'item': '9-12', 'count': '36'},\n",
       "      {'item': 'PK-5', 'count': '26'},\n",
       "      {'item': '6-8', 'count': '16'},\n",
       "      {'item': 'PK-K', 'count': '13'},\n",
       "      {'item': 'K-12', 'count': '11'},\n",
       "      {'item': '13-14', 'count': '10'},\n",
       "      {'item': 'PK-8', 'count': '8'},\n",
       "      {'item': '6-12', 'count': '6'},\n",
       "      {'item': 'PK-4', 'count': '6'},\n",
       "      {'item': '8-12', 'count': '4'},\n",
       "      {'item': 'INF', 'count': '3'},\n",
       "      {'item': 'TK-8', 'count': '3'},\n",
       "      {'item': 'PK-TK', 'count': '2'},\n",
       "      {'item': '7-12', 'count': '2'},\n",
       "      {'item': 'TK-2', 'count': '2'},\n",
       "      {'item': 'K-6', 'count': '2'},\n",
       "      {'item': '3-8', 'count': '2'}],\n",
       "     'smallest': '13-14',\n",
       "     'not_null': '445',\n",
       "     'cardinality': '32'},\n",
       "    'format': {}},\n",
       "   {'id': 262526896,\n",
       "    'name': 'Category',\n",
       "    'dataTypeName': 'text',\n",
       "    'fieldName': 'category',\n",
       "    'position': 6,\n",
       "    'renderTypeName': 'text',\n",
       "    'tableColumnId': 37163351,\n",
       "    'width': 196,\n",
       "    'cachedContents': {'largest': 'USD PreK/TK-5',\n",
       "     'non_null': 445,\n",
       "     'null': '0',\n",
       "     'top': [{'item': 'Independent / Private', 'count': '304'},\n",
       "      {'item': 'USD Grades K-5', 'count': '45'},\n",
       "      {'item': 'USD Grades 9-12', 'count': '18'},\n",
       "      {'item': 'USD Grades 6-8', 'count': '14'},\n",
       "      {'item': 'Community College District', 'count': '10'},\n",
       "      {'item': 'USD PreK-5', 'count': '9'},\n",
       "      {'item': 'USD Grades K-8', 'count': '7'},\n",
       "      {'item': 'USD Charter School', 'count': '6'},\n",
       "      {'item': 'USD PreK, Grades K-5', 'count': '5'},\n",
       "      {'item': 'USD PreK/TK-5', 'count': '4'},\n",
       "      {'item': 'USD PreK', 'count': '4'},\n",
       "      {'item': 'USD County School', 'count': '3'},\n",
       "      {'item': 'USD PreK/TK', 'count': '2'},\n",
       "      {'item': 'USD Grades 6-12', 'count': '2'},\n",
       "      {'item': 'USD PreK-5, Grades K-5', 'count': '2'},\n",
       "      {'item': 'USD Grades PK-8', 'count': '2'},\n",
       "      {'item': 'USD PreK/TK-4', 'count': '1'},\n",
       "      {'item': 'USD PreK-5                                   ', 'count': '1'},\n",
       "      {'item': 'USD Grades K-5, PreK-5', 'count': '1'},\n",
       "      {'item': 'USD PreK-4, Grades K-5', 'count': '1'}],\n",
       "     'smallest': 'Community College District',\n",
       "     'not_null': '445',\n",
       "     'cardinality': '24'},\n",
       "    'format': {}},\n",
       "   {'id': 262526897,\n",
       "    'name': 'Map Label',\n",
       "    'dataTypeName': 'text',\n",
       "    'fieldName': 'map_label',\n",
       "    'position': 7,\n",
       "    'renderTypeName': 'text',\n",
       "    'tableColumnId': 37163352,\n",
       "    'width': 144,\n",
       "    'cachedContents': {'largest': 'PS127',\n",
       "     'non_null': 445,\n",
       "     'null': '0',\n",
       "     'top': [{'item': 'IND336', 'count': '1'},\n",
       "      {'item': 'PS013', 'count': '1'},\n",
       "      {'item': 'IND317', 'count': '1'},\n",
       "      {'item': 'CDC132', 'count': '1'},\n",
       "      {'item': 'PS026', 'count': '1'},\n",
       "      {'item': 'IND311', 'count': '1'},\n",
       "      {'item': 'PS030', 'count': '1'},\n",
       "      {'item': 'IND303', 'count': '1'},\n",
       "      {'item': 'PS115', 'count': '1'},\n",
       "      {'item': 'CDC059', 'count': '1'},\n",
       "      {'item': 'PS107', 'count': '1'},\n",
       "      {'item': 'CDC108', 'count': '1'},\n",
       "      {'item': 'IND247', 'count': '1'},\n",
       "      {'item': 'CDC152', 'count': '1'},\n",
       "      {'item': 'PS068', 'count': '1'},\n",
       "      {'item': 'PS022', 'count': '1'},\n",
       "      {'item': 'CDC060', 'count': '1'},\n",
       "      {'item': 'PS076', 'count': '1'},\n",
       "      {'item': 'IND221', 'count': '1'},\n",
       "      {'item': 'PS077', 'count': '1'}],\n",
       "     'smallest': 'CC01',\n",
       "     'not_null': '445',\n",
       "     'cardinality': '445'},\n",
       "    'format': {}},\n",
       "   {'id': 262526901,\n",
       "    'name': 'Lower Age',\n",
       "    'dataTypeName': 'number',\n",
       "    'description': \"Low generic age of the site's programs corresponding to grades as below\\n\\nGrade   Age  Identifier (used for school classification)\\n-4       1      INF  (infant care)\\n-3       2      TOD (Toddler care)\\n-2       3      PK1 (pre-Kindergarten year 1 of 2)\\n-1       4      PK2 (pre-Kindergarten year 2 of 2)\\n 0       4      TK (transitional Kindergarten)\\n 0       5      K (Kindergarten)\\n 1       6      (First Grade)\\n 2       7      (Second Grade)\\n 3       8      (Third Grade)\\n 4       9      (Fourth Grade)\\n 5      10      (Fifth Grade)\\n 6      11      (Sixth Grade)\\n 7      12      (Seventh Grade)\\n 8      13      (Eighth Grade)\\n 9      14      (Ninth Grade)\\n10      15      (Tenth Grade)\\n11      16      (Elevnth Grade)\\n12      17      (Twelfth Grade)\\n13      18      (College Freshman)\\n14      19      (College Sophomore)\",\n",
       "    'fieldName': 'lower_age',\n",
       "    'position': 8,\n",
       "    'renderTypeName': 'number',\n",
       "    'tableColumnId': 37163356,\n",
       "    'width': 208,\n",
       "    'cachedContents': {'largest': '18',\n",
       "     'non_null': 445,\n",
       "     'average': '5.431460674157303',\n",
       "     'null': '0',\n",
       "     'top': [{'item': '3', 'count': '221'},\n",
       "      {'item': '5', 'count': '131'},\n",
       "      {'item': '14', 'count': '36'},\n",
       "      {'item': '11', 'count': '22'},\n",
       "      {'item': '18', 'count': '10'},\n",
       "      {'item': '4', 'count': '5'},\n",
       "      {'item': '13', 'count': '4'},\n",
       "      {'item': '1', 'count': '3'},\n",
       "      {'item': '6', 'count': '3'},\n",
       "      {'item': '10', 'count': '2'},\n",
       "      {'item': '12', 'count': '2'},\n",
       "      {'item': '8', 'count': '2'},\n",
       "      {'item': '2', 'count': '2'},\n",
       "      {'item': '7', 'count': '1'},\n",
       "      {'item': '9', 'count': '1'}],\n",
       "     'smallest': '1',\n",
       "     'not_null': '445',\n",
       "     'sum': '2417',\n",
       "     'cardinality': '15'},\n",
       "    'format': {'precisionStyle': 'standard',\n",
       "     'noCommas': 'false',\n",
       "     'align': 'right'}},\n",
       "   {'id': 262526902,\n",
       "    'name': 'Upper Age',\n",
       "    'dataTypeName': 'number',\n",
       "    'fieldName': 'upper_age',\n",
       "    'position': 9,\n",
       "    'renderTypeName': 'number',\n",
       "    'tableColumnId': 37163357,\n",
       "    'width': 208,\n",
       "    'cachedContents': {'largest': '19',\n",
       "     'non_null': 445,\n",
       "     'average': '9.357303370786517',\n",
       "     'null': '0',\n",
       "     'top': [{'item': '4', 'count': '164'},\n",
       "      {'item': '13', 'count': '97'},\n",
       "      {'item': '10', 'count': '78'},\n",
       "      {'item': '17', 'count': '62'},\n",
       "      {'item': '5', 'count': '16'},\n",
       "      {'item': '19', 'count': '10'},\n",
       "      {'item': '9', 'count': '7'},\n",
       "      {'item': '11', 'count': '4'},\n",
       "      {'item': '3', 'count': '3'},\n",
       "      {'item': '7', 'count': '3'},\n",
       "      {'item': '6', 'count': '1'}],\n",
       "     'smallest': '3',\n",
       "     'not_null': '445',\n",
       "     'sum': '4164',\n",
       "     'cardinality': '11'},\n",
       "    'format': {}},\n",
       "   {'id': 262526904,\n",
       "    'name': 'General Type',\n",
       "    'dataTypeName': 'text',\n",
       "    'description': 'This is the broadest category included in these points, to support selections, definition queries, or map symbology\\n\\nCC = Community College\\nCDC = Child Development Center\\nIND = Independent / Private\\nPS = Public School',\n",
       "    'fieldName': 'general_type',\n",
       "    'position': 10,\n",
       "    'renderTypeName': 'text',\n",
       "    'tableColumnId': 37163359,\n",
       "    'width': 244,\n",
       "    'cachedContents': {'largest': 'PS',\n",
       "     'non_null': 445,\n",
       "     'null': '0',\n",
       "     'top': [{'item': 'CDC', 'count': '167'},\n",
       "      {'item': 'IND', 'count': '141'},\n",
       "      {'item': 'PS', 'count': '127'},\n",
       "      {'item': 'CC', 'count': '10'}],\n",
       "     'smallest': 'CC',\n",
       "     'not_null': '445',\n",
       "     'cardinality': '4'},\n",
       "    'format': {'displayStyle': 'plain', 'align': 'left'}},\n",
       "   {'id': 262526903,\n",
       "    'name': 'CDS Code',\n",
       "    'dataTypeName': 'number',\n",
       "    'description': 'California Department of Education (CDE) County-District-School (CDS) code is a unique identifier for the school facility used when State of California provides summary reports to the federal US Department of Education http://www.ed.gov/ \\nSeparately, a related Facility code is used by CDE to track licensing of Cild Development Centers (CDC), and for consistency any CDC Facility Code has been placed in this field.\\n\\n\\nDescription source\\nhttp://www.cde.ca.gov/ds/si/ds/opuscdsfaqs.asp \\n',\n",
       "    'fieldName': 'cds_code',\n",
       "    'position': 11,\n",
       "    'renderTypeName': 'number',\n",
       "    'tableColumnId': 37163358,\n",
       "    'width': 196,\n",
       "    'cachedContents': {'largest': '38684787104631',\n",
       "     'non_null': 403,\n",
       "     'average': '21692924097809.57',\n",
       "     'null': '42',\n",
       "     'top': [{'item': '384000303', 'count': '2'},\n",
       "      {'item': '38684786040893', 'count': '2'},\n",
       "      {'item': '380504362', 'count': '2'},\n",
       "      {'item': '38684786041230', 'count': '2'},\n",
       "      {'item': '38684786089775', 'count': '2'},\n",
       "      {'item': '384000539', 'count': '2'},\n",
       "      {'item': '38684786102479', 'count': '2'},\n",
       "      {'item': '38684783830197', 'count': '1'},\n",
       "      {'item': '38684786041065', 'count': '1'},\n",
       "      {'item': '38684787096514', 'count': '1'},\n",
       "      {'item': '380504073', 'count': '1'},\n",
       "      {'item': '38684786041602', 'count': '1'},\n",
       "      {'item': '384002149', 'count': '1'},\n",
       "      {'item': '384001292', 'count': '1'},\n",
       "      {'item': '384002067', 'count': '1'},\n",
       "      {'item': '38684786040943', 'count': '1'},\n",
       "      {'item': '38684786041321', 'count': '1'},\n",
       "      {'item': '380500487', 'count': '1'},\n",
       "      {'item': '38684786907927', 'count': '1'},\n",
       "      {'item': '384000227', 'count': '1'}],\n",
       "     'smallest': '380500086',\n",
       "     'not_null': '403',\n",
       "     'sum': '8742248411417257',\n",
       "     'cardinality': '396'},\n",
       "    'format': {'precisionStyle': 'standard',\n",
       "     'noCommas': 'true',\n",
       "     'align': 'right'}},\n",
       "   {'id': 262526899,\n",
       "    'name': 'Campus Address',\n",
       "    'dataTypeName': 'text',\n",
       "    'fieldName': 'campus_address',\n",
       "    'position': 12,\n",
       "    'renderTypeName': 'text',\n",
       "    'tableColumnId': 37163354,\n",
       "    'width': 268,\n",
       "    'cachedContents': {'largest': '99 MISOURI ST, SAN FRANCISCO, CA 94107',\n",
       "     'non_null': 445,\n",
       "     'null': '0',\n",
       "     'top': [{'item': '2222 BROADWAY ST, SAN FRANCISCO, CA 94115',\n",
       "       'count': '3'},\n",
       "      {'item': '65 OCEAN AVE, SAN FRANCISCO, CA 94112', 'count': '2'},\n",
       "      {'item': '301 14TH AVE, SAN FRANCISCO, CA 94118', 'count': '2'},\n",
       "      {'item': '65 TURNER TER, SAN FRANCISCO, CA 94107', 'count': '2'},\n",
       "      {'item': '426 33RD AVE, SAN FRANCISCO, CA 94121', 'count': '2'},\n",
       "      {'item': '77 BEALE ST, SAN FRANCISCO, CA 94105', 'count': '2'},\n",
       "      {'item': '655 DE HARO ST, SAN FRANCISCO CA 94107', 'count': '2'},\n",
       "      {'item': '150 OAK ST, SAN FRANCISCO, CA 94102', 'count': '2'},\n",
       "      {'item': '325 LA GRANDE AVE, San Francisco, CA 94112', 'count': '2'},\n",
       "      {'item': '735 FELL ST, SAN FRANCISCO, CA 94117', 'count': '2'},\n",
       "      {'item': '655 BROTHERHOOD WAY, SAN FRANCISCO, CA 94132', 'count': '2'},\n",
       "      {'item': '838 KEARNY STREET, SAN FRANCISCO, CA 94108', 'count': '2'},\n",
       "      {'item': '2354 24TH AVE, SAN FRANCISCO, CA 94116', 'count': '1'},\n",
       "      {'item': '3250 19TH AVE, SAN FRANCISCO, CA 94132', 'count': '1'},\n",
       "      {'item': '298 MONTEREY BLVD, SAN FRANCISCO, CA 94131', 'count': '1'},\n",
       "      {'item': '589 GUERRERO ST, SAN FRANCISCO, CA 94110', 'count': '1'},\n",
       "      {'item': '125 EXCELSIOR AVE, San Francisco, CA 94112', 'count': '1'},\n",
       "      {'item': '2031 BUSH ST, SAN FRANCISCO, CA 94115', 'count': '1'},\n",
       "      {'item': '930 STOCKTON ST, SAN FRANCISCO, CA 94108', 'count': '1'},\n",
       "      {'item': '1387 VALENCIA ST, SAN FRANCISCO, CA 94110', 'count': '1'}],\n",
       "     'smallest': '1000 CAYUGA AVE, San Francisco, CA 94112',\n",
       "     'not_null': '445',\n",
       "     'cardinality': '432'},\n",
       "    'format': {}},\n",
       "   {'id': 262526900,\n",
       "    'name': 'Supervisor District',\n",
       "    'dataTypeName': 'number',\n",
       "    'description': 'Numeric field for City and County Supervisor District number',\n",
       "    'fieldName': 'supervisor_district',\n",
       "    'position': 13,\n",
       "    'renderTypeName': 'number',\n",
       "    'tableColumnId': 37163355,\n",
       "    'width': 174,\n",
       "    'cachedContents': {'largest': '11',\n",
       "     'non_null': 445,\n",
       "     'average': '5.829213483146067',\n",
       "     'null': '0',\n",
       "     'top': [{'item': '2', 'count': '54'},\n",
       "      {'item': '5', 'count': '51'},\n",
       "      {'item': '8', 'count': '47'},\n",
       "      {'item': '7', 'count': '46'},\n",
       "      {'item': '10', 'count': '45'},\n",
       "      {'item': '6', 'count': '39'},\n",
       "      {'item': '9', 'count': '38'},\n",
       "      {'item': '1', 'count': '36'},\n",
       "      {'item': '4', 'count': '36'},\n",
       "      {'item': '3', 'count': '32'},\n",
       "      {'item': '11', 'count': '21'}],\n",
       "     'smallest': '1',\n",
       "     'not_null': '445',\n",
       "     'sum': '2594',\n",
       "     'cardinality': '11'},\n",
       "    'format': {'precisionStyle': 'standard',\n",
       "     'noCommas': 'false',\n",
       "     'align': 'right'}},\n",
       "   {'id': 262526905,\n",
       "    'name': 'County FIPS',\n",
       "    'dataTypeName': 'text',\n",
       "    'fieldName': 'county_fips',\n",
       "    'position': 14,\n",
       "    'renderTypeName': 'text',\n",
       "    'tableColumnId': 37163360,\n",
       "    'width': 232,\n",
       "    'cachedContents': {'largest': '06075',\n",
       "     'non_null': 445,\n",
       "     'null': '0',\n",
       "     'top': [{'item': '06075', 'count': '445'}],\n",
       "     'smallest': '06075',\n",
       "     'not_null': '445',\n",
       "     'cardinality': '1'},\n",
       "    'format': {}},\n",
       "   {'id': 262526906,\n",
       "    'name': 'County Name',\n",
       "    'dataTypeName': 'text',\n",
       "    'fieldName': 'county_name',\n",
       "    'position': 15,\n",
       "    'renderTypeName': 'text',\n",
       "    'tableColumnId': 37163361,\n",
       "    'width': 232,\n",
       "    'cachedContents': {'largest': 'SAN FRANCISCO',\n",
       "     'non_null': 445,\n",
       "     'null': '0',\n",
       "     'top': [{'item': 'SAN FRANCISCO', 'count': '445'}],\n",
       "     'smallest': 'SAN FRANCISCO',\n",
       "     'not_null': '445',\n",
       "     'cardinality': '1'},\n",
       "    'format': {}},\n",
       "   {'id': 262526908,\n",
       "    'name': 'Location 1',\n",
       "    'dataTypeName': 'location',\n",
       "    'fieldName': 'location_1',\n",
       "    'position': 16,\n",
       "    'renderTypeName': 'location',\n",
       "    'tableColumnId': 37163363,\n",
       "    'width': 220,\n",
       "    'format': {},\n",
       "    'subColumnTypes': ['human_address',\n",
       "     'latitude',\n",
       "     'longitude',\n",
       "     'machine_address',\n",
       "     'needs_recoding']},\n",
       "   {'id': 262527000,\n",
       "    'name': 'Neighborhoods (old)',\n",
       "    'dataTypeName': 'number',\n",
       "    'fieldName': ':@computed_region_fyvs_ahh9',\n",
       "    'position': 21,\n",
       "    'renderTypeName': 'number',\n",
       "    'tableColumnId': 37163419,\n",
       "    'computationStrategy': {'source_columns': ['location_1'],\n",
       "     'type': 'georegion_match_on_point',\n",
       "     'parameters': {'region': '_fyvs-ahh9', 'primary_key': '_feature_id'}},\n",
       "    'format': {}},\n",
       "   {'id': 262527001,\n",
       "    'name': 'Zip Codes',\n",
       "    'dataTypeName': 'number',\n",
       "    'fieldName': ':@computed_region_bh8s_q3mv',\n",
       "    'position': 22,\n",
       "    'renderTypeName': 'number',\n",
       "    'tableColumnId': 37163420,\n",
       "    'computationStrategy': {'source_columns': ['location_1'],\n",
       "     'type': 'georegion_match_on_point',\n",
       "     'parameters': {'region': '_bh8s-q3mv', 'primary_key': '_feature_id'}},\n",
       "    'format': {}},\n",
       "   {'id': 262527002,\n",
       "    'name': 'Fire Prevention Districts',\n",
       "    'dataTypeName': 'number',\n",
       "    'fieldName': ':@computed_region_yftq_j783',\n",
       "    'position': 23,\n",
       "    'renderTypeName': 'number',\n",
       "    'tableColumnId': 37163421,\n",
       "    'computationStrategy': {'source_columns': ['location_1'],\n",
       "     'type': 'georegion_match_on_point',\n",
       "     'parameters': {'region': '_yftq-j783', 'primary_key': '_feature_id'}},\n",
       "    'format': {}},\n",
       "   {'id': 262527003,\n",
       "    'name': 'Police Districts',\n",
       "    'dataTypeName': 'number',\n",
       "    'fieldName': ':@computed_region_p5aj_wyqh',\n",
       "    'position': 24,\n",
       "    'renderTypeName': 'number',\n",
       "    'tableColumnId': 37163422,\n",
       "    'computationStrategy': {'source_columns': ['location_1'],\n",
       "     'type': 'georegion_match_on_point',\n",
       "     'parameters': {'region': '_p5aj-wyqh', 'primary_key': '_feature_id'}},\n",
       "    'format': {}},\n",
       "   {'id': 262527004,\n",
       "    'name': 'Supervisor Districts',\n",
       "    'dataTypeName': 'number',\n",
       "    'fieldName': ':@computed_region_rxqg_mtj9',\n",
       "    'position': 25,\n",
       "    'renderTypeName': 'number',\n",
       "    'tableColumnId': 37163423,\n",
       "    'computationStrategy': {'source_columns': ['location_1'],\n",
       "     'type': 'georegion_match_on_point',\n",
       "     'parameters': {'region': '_rxqg-mtj9', 'primary_key': '_feature_id'}},\n",
       "    'format': {}}],\n",
       "  'disabledFeatureFlags': ['allow_comments'],\n",
       "  'grants': [{'inherited': False, 'type': 'viewer', 'flags': ['public']}],\n",
       "  'license': {'name': 'Open Data Commons Public Domain Dedication and License',\n",
       "   'termsLink': 'http://opendatacommons.org/licenses/pddl/1.0/'},\n",
       "  'metadata': {'rdfSubject': '0',\n",
       "   'custom_fields': {'Department Metrics': {'Publishing Department': 'Technology'},\n",
       "    'Detailed Descriptive': {'Geographic unit': 'Latitude/longitude'},\n",
       "    'Publishing Details': {'Data change frequency': 'Not updated (historical only)',\n",
       "     'Publishing frequency': 'Not updated (historical only)'}},\n",
       "   'rowIdentifier': '0',\n",
       "   'availableDisplayTypes': ['table', 'fatrow', 'page'],\n",
       "   'rowLabel': 'Site',\n",
       "   'renderTypeConfig': {'visible': {'table': True}}},\n",
       "  'owner': {'id': 'dbag-6qd9',\n",
       "   'displayName': 'OpenData',\n",
       "   'screenName': 'OpenData',\n",
       "   'type': 'interactive',\n",
       "   'flags': ['acceptedEula']},\n",
       "  'query': {},\n",
       "  'rights': ['read'],\n",
       "  'tableAuthor': {'id': 'dbag-6qd9',\n",
       "   'displayName': 'OpenData',\n",
       "   'screenName': 'OpenData',\n",
       "   'type': 'interactive',\n",
       "   'flags': ['acceptedEula']},\n",
       "  'tags': ['public schools',\n",
       "   'private schools',\n",
       "   'child development centers',\n",
       "   'community college'],\n",
       "  'flags': ['default', 'restorable', 'restorePossibleForType', 'unsaved']}}"
      ]
     },
     "execution_count": 85,
     "metadata": {},
     "output_type": "execute_result"
    }
   ],
   "source": [
    "import json\n",
    "jsonData = json.load(open('schools.json'))\n",
    "\n",
    "#jsonData = pd.json_normalize(jsonData['data'])\n",
    "#frame = pd.DataFrame(jsonData['meta']['view'])\n",
    "#pd.DataFrame(jsonData['meta']['view'])\n",
    "jsonData['meta']\n",
    "#meta = pd.DataFrame(jsonData['meta'])\n",
    "#meta.loc['columns']"
   ]
  },
  {
   "cell_type": "code",
   "execution_count": null,
   "metadata": {},
   "outputs": [],
   "source": []
  }
 ],
 "metadata": {
  "kernelspec": {
   "display_name": "Python 3",
   "language": "python",
   "name": "python3"
  },
  "language_info": {
   "codemirror_mode": {
    "name": "ipython",
    "version": 3
   },
   "file_extension": ".py",
   "mimetype": "text/x-python",
   "name": "python",
   "nbconvert_exporter": "python",
   "pygments_lexer": "ipython3",
   "version": "3.8.3"
  }
 },
 "nbformat": 4,
 "nbformat_minor": 4
}
