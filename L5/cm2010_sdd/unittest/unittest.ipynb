{
 "cells": [
  {
   "cell_type": "code",
   "execution_count": 7,
   "metadata": {},
   "outputs": [
    {
     "name": "stderr",
     "output_type": "stream",
     "text": [
      "test_a_test (__main__.TestSetForOneModule) ... ok\n",
      "\n",
      "----------------------------------------------------------------------\n",
      "Ran 1 test in 0.001s\n",
      "\n",
      "OK\n"
     ]
    },
    {
     "data": {
      "text/plain": [
       "<unittest.main.TestProgram at 0x7f7f4dc7fd30>"
      ]
     },
     "execution_count": 7,
     "metadata": {},
     "output_type": "execute_result"
    }
   ],
   "source": [
    "import unittest \n",
    "\n",
    "class TestSetForOneModule(unittest.TestCase):\n",
    "\n",
    "\t## Tests need to be prefixed with 'test'\n",
    "\tdef test_a_test(self):\n",
    "\t\tself.assertEqual(10, 10.0)\n",
    "\t\tself.assertNotEqual(12, 10)\n",
    "\t\tself.assertTrue(2 == 2)\n",
    "\t\tself.assertFalse(2 == 4)\n",
    "\n",
    "\t\ta = 10\n",
    "\t\tb = a \n",
    "\t\tc = 10.0\n",
    "\t\t# assertIs() tests for object identity, not just logical equivalence\n",
    "\t\tself.assertIs(a,b)\n",
    "\t\tself.assertIsNot(a,c)\n",
    "        \n",
    "unittest.main(argv=[''], verbosity=2, exit=False)"
   ]
  },
  {
   "cell_type": "code",
   "execution_count": null,
   "metadata": {},
   "outputs": [],
   "source": []
  },
  {
   "cell_type": "code",
   "execution_count": null,
   "metadata": {},
   "outputs": [],
   "source": []
  }
 ],
 "metadata": {
  "kernelspec": {
   "display_name": "Python 3",
   "language": "python",
   "name": "python3"
  },
  "language_info": {
   "codemirror_mode": {
    "name": "ipython",
    "version": 3
   },
   "file_extension": ".py",
   "mimetype": "text/x-python",
   "name": "python",
   "nbconvert_exporter": "python",
   "pygments_lexer": "ipython3",
   "version": "3.8.3"
  }
 },
 "nbformat": 4,
 "nbformat_minor": 4
}
