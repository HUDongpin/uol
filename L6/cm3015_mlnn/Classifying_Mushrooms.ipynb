{
  "cells": [
    {
      "cell_type": "markdown",
      "metadata": {
        "id": "G-c4WcQmzBGU"
      },
      "source": [
        "# Classifying Mushrooms - Machine Learning & Neural Networks End of Term Assignment\n",
        "\n",
        "This coursework aims to implement the universal workflow from Francois Chollet's Deep Learning with Python and apply it to classify mushrooms as either edible or not edible.\n",
        "\n",
        "We are using the [Mushroom Dataset](https://archive.ics.uci.edu/ml/datasets/mushroom) [1] from UCI’s Machine Learning Repository to implement our model.\n",
        "\n",
        "The overall workflow will reflect the literature [2]."
      ]
    },
    {
      "cell_type": "markdown",
      "metadata": {
        "id": "SV1Xn35S0P6g"
      },
      "source": [
        "**The Universial Machine Learning Workflow**\n"
      ]
    },
    {
      "cell_type": "markdown",
      "metadata": {
        "id": "sj-wauZ12zlp"
      },
      "source": [
        "1. Define the problem and assemble a dataset\n",
        "2. Choose a measure of success\n",
        "3. Decide on an evaluation protocol\n",
        "4. Prepare the data\n",
        "5. Develop a model that does better than a baseline\n",
        "6. Develop a model that overfits\n",
        "7. Regularize the model and tune its hyperparameters "
      ]
    },
    {
      "cell_type": "markdown",
      "metadata": {
        "id": "5AfFF5sHpH88"
      },
      "source": [
        "# 1. Define the problem and assemble a dataset"
      ]
    },
    {
      "cell_type": "markdown",
      "metadata": {
        "id": "j19GoDgk0nKa"
      },
      "source": [
        "Our hypothetical problem is the classification of mushrooms as edible or non-edible, with the purpose of selecting mushrooms for use in human food production. Since mushrooms can be poisonous, the goal is to prevent humans from getting sick by eating poisonous mushrooms.\n",
        "\n",
        "Let's frame the problem in more detail. Our input data is the aforementioned dataset, which is a multivariate set of data about mushrooms and 22 features about the sample mushrooms. Based on these features, we are trying to predict if the mushrooms are suitable for human consumption.\n",
        "\n",
        "The task at hand is binary classification - we determine if a mushroom edible or not.\n",
        "\n",
        "Using the data information file, we can load up a list of features for our data."
      ]
    },
    {
      "cell_type": "markdown",
      "metadata": {
        "id": "0oReNGkS__I0"
      },
      "source": [
        "Feature Information:\n",
        "\n",
        "- classes:\n",
        "  - edible=e, poisonous=p\n",
        "  \n",
        "- cap-shape:\n",
        "  - bell=b ,conical=c ,convex=x, flat=f, knobbed=k, sunken=s\n",
        "  \n",
        "- cap-surface:\n",
        "  - fibrous=f, grooves=g, scaly=y, smooth=s\n",
        "  \n",
        "- cap-color:\n",
        "  - brown=n, buff=b, cinnamon=c, gray=g, green=r, pink=p, purple=u, red=e, white=w, yellow=y\n",
        "  \n",
        "- bruises?:\n",
        "  - bruises=t, no=f\n",
        "  \n",
        "- odor:\n",
        "  - almond=a, anise=l, creosote=c, fishy=y, foul=f, musty=m, none=n, pungent=p, spicy=s\n",
        "  \n",
        "- gill-attachment:\n",
        "  - attached=a, descending=d, free=f, notched=n\n",
        "  \n",
        "- gill-spacing:\n",
        "  - close=c, crowded=w, distant=d\n",
        "  \n",
        "- gill-size:\n",
        "  - broad=b, narrow=n\n",
        "  \n",
        "- gill-color:\n",
        "  - black=k, brown=n, buff=b, chocolate=h, gray=g, green=r, orange=o, pink=p, purple=u, red=e, white=w, yellow=y\n",
        "  \n",
        "- stalk-shape:\n",
        "  - enlarging=e, tapering=t\n",
        "  \n",
        "- stalk-root:\n",
        "  - bulbous=b, club=c, cup=u, equal=e, rhizomorphs=z, rooted=r, missing=?\n",
        "  \n",
        "- stalk-surface-above-ring:\n",
        "  - fibrous=f, scaly=y, silky=k, smooth=s\n",
        "  \n",
        "- stalk-surface-below-ring:\n",
        "  - fibrous=f, scaly=y, silky=k, smooth=s\n",
        "  \n",
        "- stalk-color-above-ring:\n",
        "  - brown=n, buff=b, cinnamon=c, gray=g, orange=o, pink=p, red=e, white=w, yellow=y\n",
        "  \n",
        "- stalk-color-below-ring:\n",
        "  - brown=n, buff=b, cinnamon=c, gray=g, orange=o, pink=p, red=e, white=w, yellow=y\n",
        "  \n",
        "- veil-type:\n",
        "  - partial=p, universal=u\n",
        "  \n",
        "- veil-color:\n",
        "  - brown=n, orange=o, white=w, yellow=y\n",
        "  \n",
        "- ring-number:\n",
        "  - none=n, one=o, two=t\n",
        "  \n",
        "- ring-type:\n",
        "  - cobwebby=c, evanescent=e, flaring=f, large=l, none=n, pendant=p, sheathing=s, zone=z\n",
        "  \n",
        "- spore-print-color:\n",
        "  - black=k, brown=n, buff=b, chocolate=h, green=r, orange=o, purple=u, white=w, yellow=y\n",
        "  \n",
        "- population:\n",
        "  - abundant=a, clustered=c, numerous=n, scattered=s, several=v, solitary=y\n",
        "  \n",
        "- habitat:\n",
        "  - grasses=g, leaves=l, meadows=m, paths=p, urban=u, waste=w, woods=d"
      ]
    },
    {
      "cell_type": "markdown",
      "metadata": {
        "id": "CwUVQ-bvGqTv"
      },
      "source": [
        "From these features we can create a list of column names for our dataset\n",
        "\n",
        "\n"
      ]
    },
    {
      "cell_type": "code",
      "execution_count": 1,
      "metadata": {
        "id": "mKzwtUS7DvCI"
      },
      "outputs": [],
      "source": [
        "column_names = ['class',\n",
        "                'cap-shape',\n",
        "                'cap-surface',\n",
        "                'cap-color',\n",
        "                'bruises?',\n",
        "                'odor',\n",
        "                'gill-attachment',\n",
        "                'gill-spacing',\n",
        "                'gill-size',\n",
        "                'gill-color',\n",
        "                'stalk-shape',\n",
        "                'stalk-root',\n",
        "                'stalk-surface-above-ring',\n",
        "                'stalk-surface-below-ring',\n",
        "                'stalk-color-above-ring',\n",
        "                'stalk-color-below-ring',\n",
        "                'veil-type',\n",
        "                'veil-color',\n",
        "                'ring-number',\n",
        "                'ring-type',\n",
        "                'spore-print-color',\n",
        "                'population',\n",
        "                'habitat']"
      ]
    },
    {
      "cell_type": "markdown",
      "metadata": {
        "id": "vxKPiRJSGxMx"
      },
      "source": [
        "Lets import our dataset and create a Pandas DataFrame from the `.data` file "
      ]
    },
    {
      "cell_type": "code",
      "execution_count": 2,
      "metadata": {
        "colab": {
          "base_uri": "https://localhost:8080/",
          "height": 275
        },
        "id": "xOvjQUSK_A1z",
        "outputId": "9d18ec82-00b7-4c43-f896-fb17af47ac1d"
      },
      "outputs": [
        {
          "data": {
            "text/html": [
              "<div>\n",
              "<style scoped>\n",
              "    .dataframe tbody tr th:only-of-type {\n",
              "        vertical-align: middle;\n",
              "    }\n",
              "\n",
              "    .dataframe tbody tr th {\n",
              "        vertical-align: top;\n",
              "    }\n",
              "\n",
              "    .dataframe thead th {\n",
              "        text-align: right;\n",
              "    }\n",
              "</style>\n",
              "<table border=\"1\" class=\"dataframe\">\n",
              "  <thead>\n",
              "    <tr style=\"text-align: right;\">\n",
              "      <th></th>\n",
              "      <th>class</th>\n",
              "      <th>cap-shape</th>\n",
              "      <th>cap-surface</th>\n",
              "      <th>cap-color</th>\n",
              "      <th>bruises?</th>\n",
              "      <th>odor</th>\n",
              "      <th>gill-attachment</th>\n",
              "      <th>gill-spacing</th>\n",
              "      <th>gill-size</th>\n",
              "      <th>gill-color</th>\n",
              "      <th>...</th>\n",
              "      <th>stalk-surface-below-ring</th>\n",
              "      <th>stalk-color-above-ring</th>\n",
              "      <th>stalk-color-below-ring</th>\n",
              "      <th>veil-type</th>\n",
              "      <th>veil-color</th>\n",
              "      <th>ring-number</th>\n",
              "      <th>ring-type</th>\n",
              "      <th>spore-print-color</th>\n",
              "      <th>population</th>\n",
              "      <th>habitat</th>\n",
              "    </tr>\n",
              "  </thead>\n",
              "  <tbody>\n",
              "    <tr>\n",
              "      <th>0</th>\n",
              "      <td>p</td>\n",
              "      <td>x</td>\n",
              "      <td>s</td>\n",
              "      <td>n</td>\n",
              "      <td>t</td>\n",
              "      <td>p</td>\n",
              "      <td>f</td>\n",
              "      <td>c</td>\n",
              "      <td>n</td>\n",
              "      <td>k</td>\n",
              "      <td>...</td>\n",
              "      <td>s</td>\n",
              "      <td>w</td>\n",
              "      <td>w</td>\n",
              "      <td>p</td>\n",
              "      <td>w</td>\n",
              "      <td>o</td>\n",
              "      <td>p</td>\n",
              "      <td>k</td>\n",
              "      <td>s</td>\n",
              "      <td>u</td>\n",
              "    </tr>\n",
              "    <tr>\n",
              "      <th>1</th>\n",
              "      <td>e</td>\n",
              "      <td>x</td>\n",
              "      <td>s</td>\n",
              "      <td>y</td>\n",
              "      <td>t</td>\n",
              "      <td>a</td>\n",
              "      <td>f</td>\n",
              "      <td>c</td>\n",
              "      <td>b</td>\n",
              "      <td>k</td>\n",
              "      <td>...</td>\n",
              "      <td>s</td>\n",
              "      <td>w</td>\n",
              "      <td>w</td>\n",
              "      <td>p</td>\n",
              "      <td>w</td>\n",
              "      <td>o</td>\n",
              "      <td>p</td>\n",
              "      <td>n</td>\n",
              "      <td>n</td>\n",
              "      <td>g</td>\n",
              "    </tr>\n",
              "    <tr>\n",
              "      <th>2</th>\n",
              "      <td>e</td>\n",
              "      <td>b</td>\n",
              "      <td>s</td>\n",
              "      <td>w</td>\n",
              "      <td>t</td>\n",
              "      <td>l</td>\n",
              "      <td>f</td>\n",
              "      <td>c</td>\n",
              "      <td>b</td>\n",
              "      <td>n</td>\n",
              "      <td>...</td>\n",
              "      <td>s</td>\n",
              "      <td>w</td>\n",
              "      <td>w</td>\n",
              "      <td>p</td>\n",
              "      <td>w</td>\n",
              "      <td>o</td>\n",
              "      <td>p</td>\n",
              "      <td>n</td>\n",
              "      <td>n</td>\n",
              "      <td>m</td>\n",
              "    </tr>\n",
              "    <tr>\n",
              "      <th>3</th>\n",
              "      <td>p</td>\n",
              "      <td>x</td>\n",
              "      <td>y</td>\n",
              "      <td>w</td>\n",
              "      <td>t</td>\n",
              "      <td>p</td>\n",
              "      <td>f</td>\n",
              "      <td>c</td>\n",
              "      <td>n</td>\n",
              "      <td>n</td>\n",
              "      <td>...</td>\n",
              "      <td>s</td>\n",
              "      <td>w</td>\n",
              "      <td>w</td>\n",
              "      <td>p</td>\n",
              "      <td>w</td>\n",
              "      <td>o</td>\n",
              "      <td>p</td>\n",
              "      <td>k</td>\n",
              "      <td>s</td>\n",
              "      <td>u</td>\n",
              "    </tr>\n",
              "    <tr>\n",
              "      <th>4</th>\n",
              "      <td>e</td>\n",
              "      <td>x</td>\n",
              "      <td>s</td>\n",
              "      <td>g</td>\n",
              "      <td>f</td>\n",
              "      <td>n</td>\n",
              "      <td>f</td>\n",
              "      <td>w</td>\n",
              "      <td>b</td>\n",
              "      <td>k</td>\n",
              "      <td>...</td>\n",
              "      <td>s</td>\n",
              "      <td>w</td>\n",
              "      <td>w</td>\n",
              "      <td>p</td>\n",
              "      <td>w</td>\n",
              "      <td>o</td>\n",
              "      <td>e</td>\n",
              "      <td>n</td>\n",
              "      <td>a</td>\n",
              "      <td>g</td>\n",
              "    </tr>\n",
              "  </tbody>\n",
              "</table>\n",
              "<p>5 rows × 23 columns</p>\n",
              "</div>"
            ],
            "text/plain": [
              "  class cap-shape cap-surface cap-color bruises? odor gill-attachment  \\\n",
              "0     p         x           s         n        t    p               f   \n",
              "1     e         x           s         y        t    a               f   \n",
              "2     e         b           s         w        t    l               f   \n",
              "3     p         x           y         w        t    p               f   \n",
              "4     e         x           s         g        f    n               f   \n",
              "\n",
              "  gill-spacing gill-size gill-color  ... stalk-surface-below-ring  \\\n",
              "0            c         n          k  ...                        s   \n",
              "1            c         b          k  ...                        s   \n",
              "2            c         b          n  ...                        s   \n",
              "3            c         n          n  ...                        s   \n",
              "4            w         b          k  ...                        s   \n",
              "\n",
              "  stalk-color-above-ring stalk-color-below-ring veil-type veil-color  \\\n",
              "0                      w                      w         p          w   \n",
              "1                      w                      w         p          w   \n",
              "2                      w                      w         p          w   \n",
              "3                      w                      w         p          w   \n",
              "4                      w                      w         p          w   \n",
              "\n",
              "  ring-number ring-type spore-print-color population habitat  \n",
              "0           o         p                 k          s       u  \n",
              "1           o         p                 n          n       g  \n",
              "2           o         p                 n          n       m  \n",
              "3           o         p                 k          s       u  \n",
              "4           o         e                 n          a       g  \n",
              "\n",
              "[5 rows x 23 columns]"
            ]
          },
          "execution_count": 2,
          "metadata": {},
          "output_type": "execute_result"
        }
      ],
      "source": [
        "import pandas as pd\n",
        "\n",
        "url = 'https://archive.ics.uci.edu/ml/machine-learning-databases/mushroom/agaricus-lepiota.data'\n",
        "\n",
        "mushrooms = pd.read_csv(url, header=None, names=column_names)\n",
        "\n",
        "mushrooms.head()"
      ]
    },
    {
      "cell_type": "markdown",
      "metadata": {
        "id": "rrOjzmyS43xT"
      },
      "source": [
        "\n",
        "\n",
        "---\n",
        "\n"
      ]
    },
    {
      "cell_type": "markdown",
      "metadata": {
        "id": "uShQh9oR44PR"
      },
      "source": [
        "# 2. Choose a measure of success"
      ]
    },
    {
      "cell_type": "markdown",
      "metadata": {
        "id": "itGumO4L48CD"
      },
      "source": [
        "Since our problem involves the prevention of human sickness or death, we will use precision as a measure of success. Precision is the ability of the classifier not to label mushrooms which are poisonous as edible. This places a preference for correct predictions of poisonous mushrooms, as we prefer if edible mushrooms are misidentified as poisonous rather than poisonous mushrooms being misidentified as edible."
      ]
    },
    {
      "cell_type": "markdown",
      "metadata": {
        "id": "UikGWv046Mgo"
      },
      "source": [
        "$Precision = \\frac{True Positives}{True Positives + False Positive}$"
      ]
    },
    {
      "cell_type": "code",
      "execution_count": 3,
      "metadata": {
        "id": "DSEu3_0P46hK"
      },
      "outputs": [],
      "source": [
        "from sklearn.metrics import precision_score"
      ]
    },
    {
      "cell_type": "markdown",
      "metadata": {
        "id": "1IFQnyMQ46AI"
      },
      "source": [
        "\n",
        "\n",
        "---\n",
        "\n"
      ]
    },
    {
      "cell_type": "markdown",
      "metadata": {
        "id": "ESmJNZzt7YuA"
      },
      "source": [
        "# 3. Decide on an evaluation protocol"
      ]
    },
    {
      "cell_type": "markdown",
      "metadata": {
        "id": "R691rP_Y7Y81"
      },
      "source": [
        "I'll apply 10-fold cross validation to evaluate our model. While a simple holdout validation set might be enough, our dataset of 8.000 samples might not be enough."
      ]
    },
    {
      "cell_type": "code",
      "execution_count": 4,
      "metadata": {
        "id": "tDDdsa_w7Y1b"
      },
      "outputs": [],
      "source": [
        "from sklearn.model_selection import train_test_split, RandomizedSearchCV"
      ]
    },
    {
      "cell_type": "markdown",
      "metadata": {
        "id": "7fNXw9Y1HUEn"
      },
      "source": [
        "First lets split our data into a feature matrix `(X)`, and a target vector`(y)`. We will use `OneHotEncoder` to encode our catagorical variables."
      ]
    },
    {
      "cell_type": "code",
      "execution_count": 5,
      "metadata": {
        "colab": {
          "base_uri": "https://localhost:8080/"
        },
        "id": "yw2VZRs-qOik",
        "outputId": "af0236dd-fc47-4796-d385-bf63b8add66b"
      },
      "outputs": [
        {
          "name": "stdout",
          "output_type": "stream",
          "text": [
            "Feature matrix size: (8124, 117)\n",
            "Target vector size: 8124\n"
          ]
        }
      ],
      "source": [
        "import category_encoders as ce\n",
        "\n",
        "X = mushrooms.drop(columns='class')\n",
        "X = ce.OneHotEncoder(use_cat_names=True).fit_transform(X)\n",
        "y = mushrooms['class'].replace({'p':0, 'e':1})\n",
        "\n",
        "print('Feature matrix size:',X.shape)\n",
        "print('Target vector size:',len(y))"
      ]
    },
    {
      "cell_type": "markdown",
      "metadata": {
        "id": "s4eGfenrAyG7"
      },
      "source": [
        "Next we will split our data into a training set and a test set."
      ]
    },
    {
      "cell_type": "code",
      "execution_count": 6,
      "metadata": {
        "colab": {
          "base_uri": "https://localhost:8080/"
        },
        "id": "T7jDON17wXQi",
        "outputId": "036ec3ac-9af8-4dbb-eb46-d970ca138ce6"
      },
      "outputs": [
        {
          "name": "stdout",
          "output_type": "stream",
          "text": [
            "Training feature matrix size: (6499, 117)\n",
            "Training target vector size: (6499,)\n",
            "Test feature matrix size: (1625, 117)\n",
            "Test target vector size: (1625,)\n"
          ]
        }
      ],
      "source": [
        "X_train, X_test, y_train, y_test = train_test_split(X,\n",
        "                                                    y,\n",
        "                                                    random_state=42,\n",
        "                                                    test_size=.2,\n",
        "                                                    stratify=y)\n",
        "\n",
        "print('Training feature matrix size:',X_train.shape)\n",
        "print('Training target vector size:',y_train.shape)\n",
        "print('Test feature matrix size:',X_test.shape)\n",
        "print('Test target vector size:',y_test.shape)"
      ]
    },
    {
      "cell_type": "markdown",
      "metadata": {
        "id": "QNhKDa-g7ZA_"
      },
      "source": [
        "\n",
        "\n",
        "---\n",
        "\n"
      ]
    },
    {
      "cell_type": "markdown",
      "metadata": {
        "id": "JXYGwa_0pQQs"
      },
      "source": [
        "# 4. Prepare the data"
      ]
    },
    {
      "cell_type": "markdown",
      "metadata": {
        "id": "yxSFCCFU9uAi"
      },
      "source": [
        "Before we begin training our model, we shall explore the data and note some important characteristics, and potentially fix any issues."
      ]
    },
    {
      "cell_type": "markdown",
      "metadata": {
        "id": "85OyeGt8Esbt"
      },
      "source": [
        "We could use `.dtypes()`, `.columns`, and `.shape` to examine our dataset, but Pandas provides a `.info` function that will allow us to view all this information in one place."
      ]
    },
    {
      "cell_type": "code",
      "execution_count": 7,
      "metadata": {
        "colab": {
          "base_uri": "https://localhost:8080/"
        },
        "id": "Jeaf_MDDEZAi",
        "outputId": "acf25ce7-291e-4e1e-c1ef-6ec275cbc74b"
      },
      "outputs": [
        {
          "name": "stdout",
          "output_type": "stream",
          "text": [
            "<class 'pandas.core.frame.DataFrame'>\n",
            "RangeIndex: 8124 entries, 0 to 8123\n",
            "Data columns (total 23 columns):\n",
            " #   Column                    Non-Null Count  Dtype \n",
            "---  ------                    --------------  ----- \n",
            " 0   class                     8124 non-null   object\n",
            " 1   cap-shape                 8124 non-null   object\n",
            " 2   cap-surface               8124 non-null   object\n",
            " 3   cap-color                 8124 non-null   object\n",
            " 4   bruises?                  8124 non-null   object\n",
            " 5   odor                      8124 non-null   object\n",
            " 6   gill-attachment           8124 non-null   object\n",
            " 7   gill-spacing              8124 non-null   object\n",
            " 8   gill-size                 8124 non-null   object\n",
            " 9   gill-color                8124 non-null   object\n",
            " 10  stalk-shape               8124 non-null   object\n",
            " 11  stalk-root                8124 non-null   object\n",
            " 12  stalk-surface-above-ring  8124 non-null   object\n",
            " 13  stalk-surface-below-ring  8124 non-null   object\n",
            " 14  stalk-color-above-ring    8124 non-null   object\n",
            " 15  stalk-color-below-ring    8124 non-null   object\n",
            " 16  veil-type                 8124 non-null   object\n",
            " 17  veil-color                8124 non-null   object\n",
            " 18  ring-number               8124 non-null   object\n",
            " 19  ring-type                 8124 non-null   object\n",
            " 20  spore-print-color         8124 non-null   object\n",
            " 21  population                8124 non-null   object\n",
            " 22  habitat                   8124 non-null   object\n",
            "dtypes: object(23)\n",
            "memory usage: 1.4+ MB\n",
            "None\n"
          ]
        }
      ],
      "source": [
        "print(mushrooms.info())"
      ]
    },
    {
      "cell_type": "markdown",
      "metadata": {
        "id": "Y8TToWjmFV2F"
      },
      "source": [
        "Another useful step is to check is the number of null values and where they are in the DataFrame."
      ]
    },
    {
      "cell_type": "code",
      "execution_count": 8,
      "metadata": {
        "colab": {
          "base_uri": "https://localhost:8080/"
        },
        "id": "YbgB8PX4FVZj",
        "outputId": "574b6655-5c3e-48e3-8958-2c43ea5d774a"
      },
      "outputs": [
        {
          "name": "stdout",
          "output_type": "stream",
          "text": [
            "class                       0\n",
            "cap-shape                   0\n",
            "cap-surface                 0\n",
            "cap-color                   0\n",
            "bruises?                    0\n",
            "odor                        0\n",
            "gill-attachment             0\n",
            "gill-spacing                0\n",
            "gill-size                   0\n",
            "gill-color                  0\n",
            "stalk-shape                 0\n",
            "stalk-root                  0\n",
            "stalk-surface-above-ring    0\n",
            "stalk-surface-below-ring    0\n",
            "stalk-color-above-ring      0\n",
            "stalk-color-below-ring      0\n",
            "veil-type                   0\n",
            "veil-color                  0\n",
            "ring-number                 0\n",
            "ring-type                   0\n",
            "spore-print-color           0\n",
            "population                  0\n",
            "habitat                     0\n",
            "dtype: int64\n"
          ]
        }
      ],
      "source": [
        "print(mushrooms.isna().sum())"
      ]
    },
    {
      "cell_type": "markdown",
      "metadata": {
        "id": "lePdBX8iFiUr"
      },
      "source": [
        "It is unlikely that this dataset actually has no null values at all. We should check if there are placeholder values, often denoted with question marks."
      ]
    },
    {
      "cell_type": "code",
      "execution_count": 9,
      "metadata": {
        "id": "zqL1a7FjFwP_"
      },
      "outputs": [],
      "source": [
        "import numpy as np\n",
        "mushrooms = mushrooms.replace({'?':np.NaN})"
      ]
    },
    {
      "cell_type": "code",
      "execution_count": 10,
      "metadata": {
        "colab": {
          "base_uri": "https://localhost:8080/"
        },
        "id": "PxZc4LwTFdCC",
        "outputId": "c9a892d4-0589-477d-c37b-4875be8e97a8"
      },
      "outputs": [
        {
          "name": "stdout",
          "output_type": "stream",
          "text": [
            "class                          0\n",
            "cap-shape                      0\n",
            "cap-surface                    0\n",
            "cap-color                      0\n",
            "bruises?                       0\n",
            "odor                           0\n",
            "gill-attachment                0\n",
            "gill-spacing                   0\n",
            "gill-size                      0\n",
            "gill-color                     0\n",
            "stalk-shape                    0\n",
            "stalk-root                  2480\n",
            "stalk-surface-above-ring       0\n",
            "stalk-surface-below-ring       0\n",
            "stalk-color-above-ring         0\n",
            "stalk-color-below-ring         0\n",
            "veil-type                      0\n",
            "veil-color                     0\n",
            "ring-number                    0\n",
            "ring-type                      0\n",
            "spore-print-color              0\n",
            "population                     0\n",
            "habitat                        0\n",
            "dtype: int64\n"
          ]
        }
      ],
      "source": [
        "print(mushrooms.isna().sum())"
      ]
    },
    {
      "cell_type": "markdown",
      "metadata": {
        "id": "sklVfO_8HBUl"
      },
      "source": [
        "As we can see, `stalk_root` has 2480 blank features. We can replace these with `n` for none."
      ]
    },
    {
      "cell_type": "code",
      "execution_count": 11,
      "metadata": {
        "id": "EhEL4u1i6guV"
      },
      "outputs": [],
      "source": [
        "mushrooms['stalk-root'] = mushrooms['stalk-root'].replace(np.NaN,'n')"
      ]
    },
    {
      "cell_type": "code",
      "execution_count": 12,
      "metadata": {
        "colab": {
          "base_uri": "https://localhost:8080/"
        },
        "id": "fCDn3Nwh7KMl",
        "outputId": "de473c30-3c5f-499e-9cd4-2c9ce9a07374"
      },
      "outputs": [
        {
          "name": "stdout",
          "output_type": "stream",
          "text": [
            "b    3776\n",
            "n    2480\n",
            "e    1120\n",
            "c     556\n",
            "r     192\n",
            "Name: stalk-root, dtype: int64\n"
          ]
        }
      ],
      "source": [
        "print(mushrooms['stalk-root'].value_counts())"
      ]
    },
    {
      "cell_type": "markdown",
      "metadata": {
        "id": "EiPruLtopXMV"
      },
      "source": [
        "# 5. Develop a model that does better than a baseline"
      ]
    },
    {
      "cell_type": "markdown",
      "metadata": {
        "id": "joYx6ai4rsAc"
      },
      "source": [
        "## Baseline Model\n",
        "\n",
        "Using the most common label from our dataset we will create a baseline model that we hope to beat. First lets look at how class is distributed."
      ]
    },
    {
      "cell_type": "code",
      "execution_count": 13,
      "metadata": {
        "colab": {
          "base_uri": "https://localhost:8080/"
        },
        "id": "mmQssf3io0UD",
        "outputId": "039d04ee-711d-4937-c8b9-9e750af6a025"
      },
      "outputs": [
        {
          "data": {
            "text/plain": [
              "e    0.517971\n",
              "p    0.482029\n",
              "Name: class, dtype: float64"
            ]
          },
          "execution_count": 13,
          "metadata": {},
          "output_type": "execute_result"
        }
      ],
      "source": [
        "mushrooms['class'].value_counts(normalize=True)"
      ]
    },
    {
      "cell_type": "markdown",
      "metadata": {
        "id": "wefTV3POtpR4"
      },
      "source": [
        "We will use the mode of the class attribute to create our baseline prediction."
      ]
    },
    {
      "cell_type": "code",
      "execution_count": 14,
      "metadata": {
        "id": "exHLb1xIo_c8"
      },
      "outputs": [],
      "source": [
        "majority_class = y_train.mode()[0]\n",
        "\n",
        "baseline_predictions = [majority_class] * len(y_train)"
      ]
    },
    {
      "cell_type": "markdown",
      "metadata": {
        "id": "TCH0xPN-t5Zy"
      },
      "source": [
        "Let's see how accurate our baseline model is."
      ]
    },
    {
      "cell_type": "code",
      "execution_count": 15,
      "metadata": {
        "colab": {
          "base_uri": "https://localhost:8080/"
        },
        "id": "c_ylosrerCqA",
        "outputId": "ee2c1a4f-689d-49fc-f5a6-d16d6458ab25"
      },
      "outputs": [
        {
          "data": {
            "text/plain": [
              "0.5179258347438067"
            ]
          },
          "execution_count": 15,
          "metadata": {},
          "output_type": "execute_result"
        }
      ],
      "source": [
        "from sklearn.metrics import accuracy_score\n",
        "\n",
        "majority_class_accuracy = accuracy_score(baseline_predictions,\n",
        "                                         y_train)\n",
        "\n",
        "majority_class_accuracy"
      ]
    },
    {
      "cell_type": "markdown",
      "metadata": {
        "id": "7b7k8QXUuBFn"
      },
      "source": [
        "The accuracy is around 52%, which is expected given the nature of our dataset."
      ]
    },
    {
      "cell_type": "markdown",
      "metadata": {
        "id": "fMdns39ive_8"
      },
      "source": [
        "\n",
        "\n",
        "---\n",
        "\n"
      ]
    },
    {
      "cell_type": "markdown",
      "metadata": {
        "id": "I-27lvz0fJMN"
      },
      "source": [
        "## Decision Tree\n",
        "\n",
        "We will attempt to fit a decision stump to our training data and produce an accuracy score greater than 52%."
      ]
    },
    {
      "cell_type": "code",
      "execution_count": 16,
      "metadata": {
        "colab": {
          "base_uri": "https://localhost:8080/"
        },
        "id": "3JeKVZCjfLh9",
        "outputId": "1dfb74c8-4e84-4a4d-9758-b6631af1a6d5"
      },
      "outputs": [
        {
          "data": {
            "image/svg+xml": "<?xml version=\"1.0\" encoding=\"UTF-8\" standalone=\"no\"?>\n<!DOCTYPE svg PUBLIC \"-//W3C//DTD SVG 1.1//EN\"\n \"http://www.w3.org/Graphics/SVG/1.1/DTD/svg11.dtd\">\n<!-- Generated by graphviz version 3.0.0 (20220226.1711)\n -->\n<!-- Title: Tree Pages: 1 -->\n<svg width=\"320pt\" height=\"165pt\"\n viewBox=\"0.00 0.00 320.00 165.00\" xmlns=\"http://www.w3.org/2000/svg\" xmlns:xlink=\"http://www.w3.org/1999/xlink\">\n<g id=\"graph0\" class=\"graph\" transform=\"scale(1 1) rotate(0) translate(4 161)\">\n<title>Tree</title>\n<polygon fill=\"white\" stroke=\"transparent\" points=\"-4,4 -4,-161 316,-161 316,4 -4,4\"/>\n<!-- 0 -->\n<g id=\"node1\" class=\"node\">\n<title>0</title>\n<polygon fill=\"#f1f8fd\" stroke=\"black\" points=\"229,-157 82,-157 82,-89 229,-89 229,-157\"/>\n<text text-anchor=\"middle\" x=\"155.5\" y=\"-141.8\" font-family=\"Helvetica,sans-Serif\" font-size=\"14.00\">odor_n &lt;= 0.5</text>\n<text text-anchor=\"middle\" x=\"155.5\" y=\"-126.8\" font-family=\"Helvetica,sans-Serif\" font-size=\"14.00\">samples = 100.0%</text>\n<text text-anchor=\"middle\" x=\"155.5\" y=\"-111.8\" font-family=\"Helvetica,sans-Serif\" font-size=\"14.00\">value = [0.482, 0.518]</text>\n<text text-anchor=\"middle\" x=\"155.5\" y=\"-96.8\" font-family=\"Helvetica,sans-Serif\" font-size=\"14.00\">class = Edible</text>\n</g>\n<!-- 1 -->\n<g id=\"node2\" class=\"node\">\n<title>1</title>\n<polygon fill=\"#ea9b63\" stroke=\"black\" points=\"147,-53 0,-53 0,0 147,0 147,-53\"/>\n<text text-anchor=\"middle\" x=\"73.5\" y=\"-37.8\" font-family=\"Helvetica,sans-Serif\" font-size=\"14.00\">samples = 56.4%</text>\n<text text-anchor=\"middle\" x=\"73.5\" y=\"-22.8\" font-family=\"Helvetica,sans-Serif\" font-size=\"14.00\">value = [0.826, 0.174]</text>\n<text text-anchor=\"middle\" x=\"73.5\" y=\"-7.8\" font-family=\"Helvetica,sans-Serif\" font-size=\"14.00\">class = Poisonous</text>\n</g>\n<!-- 0&#45;&gt;1 -->\n<g id=\"edge1\" class=\"edge\">\n<title>0&#45;&gt;1</title>\n<path fill=\"none\" stroke=\"black\" d=\"M126.82,-88.95C118.96,-79.89 110.44,-70.07 102.56,-60.99\"/>\n<polygon fill=\"black\" stroke=\"black\" points=\"105.03,-58.5 95.83,-53.24 99.74,-63.08 105.03,-58.5\"/>\n<text text-anchor=\"middle\" x=\"94.07\" y=\"-74.47\" font-family=\"Helvetica,sans-Serif\" font-size=\"14.00\">True</text>\n</g>\n<!-- 2 -->\n<g id=\"node3\" class=\"node\">\n<title>2</title>\n<polygon fill=\"#40a1e6\" stroke=\"black\" points=\"312,-53 165,-53 165,0 312,0 312,-53\"/>\n<text text-anchor=\"middle\" x=\"238.5\" y=\"-37.8\" font-family=\"Helvetica,sans-Serif\" font-size=\"14.00\">samples = 43.6%</text>\n<text text-anchor=\"middle\" x=\"238.5\" y=\"-22.8\" font-family=\"Helvetica,sans-Serif\" font-size=\"14.00\">value = [0.036, 0.964]</text>\n<text text-anchor=\"middle\" x=\"238.5\" y=\"-7.8\" font-family=\"Helvetica,sans-Serif\" font-size=\"14.00\">class = Edible</text>\n</g>\n<!-- 0&#45;&gt;2 -->\n<g id=\"edge2\" class=\"edge\">\n<title>0&#45;&gt;2</title>\n<path fill=\"none\" stroke=\"black\" d=\"M184.53,-88.95C192.48,-79.89 201.11,-70.07 209.09,-60.99\"/>\n<polygon fill=\"black\" stroke=\"black\" points=\"211.93,-63.06 215.9,-53.24 206.67,-58.44 211.93,-63.06\"/>\n<text text-anchor=\"middle\" x=\"217.51\" y=\"-74.48\" font-family=\"Helvetica,sans-Serif\" font-size=\"14.00\">False</text>\n</g>\n</g>\n</svg>\n",
            "text/plain": [
              "<graphviz.sources.Source at 0x13fa312e0>"
            ]
          },
          "execution_count": 16,
          "metadata": {},
          "output_type": "execute_result"
        }
      ],
      "source": [
        "from sklearn.tree import DecisionTreeClassifier\n",
        "import graphviz\n",
        "from sklearn.tree import export_graphviz\n",
        "\n",
        "tree = DecisionTreeClassifier(max_depth=1)\n",
        "\n",
        "tree.fit(X_train, y_train)\n",
        "\n",
        "dot_data = export_graphviz(tree, out_file=None, feature_names=X_train.columns, \n",
        "                           class_names=['Poisonous', 'Edible'], filled=True, impurity=False, proportion=True)\n",
        "\n",
        "graphviz.Source(dot_data)"
      ]
    },
    {
      "cell_type": "markdown",
      "metadata": {
        "id": "dGlbOVXJ-ZSC"
      },
      "source": [
        "Let's look at the prediction probability distribution for our model. In simple terms this represents how sure the model is about its classification label. `sklearn` provides us with a simple way to see many of the ralevant scores for classification models with `classification_report`. We can also generate a confusion matrix using sklearn's `confusion_matrix`.\n",
        "\n"
      ]
    },
    {
      "cell_type": "code",
      "execution_count": 17,
      "metadata": {
        "id": "H02bCOmGxXl0"
      },
      "outputs": [],
      "source": [
        "import matplotlib.pyplot as plt\n",
        "import seaborn as sns\n",
        "from sklearn.metrics import classification_report, confusion_matrix\n",
        "\n",
        "\n",
        "def model_analysis(model, train_X, train_y, model_name):\n",
        "  model_probabilities = model.predict_proba(train_X)\n",
        "\n",
        "  Model_Prediction_Probability = []\n",
        "\n",
        "  for _ in range(len(train_X)):\n",
        "    x = max(model_probabilities[_])\n",
        "    Model_Prediction_Probability.append(x)\n",
        "\n",
        "  plt.figure(figsize=(15,10))  \n",
        "  sns.displot(Model_Prediction_Probability, kde=True)\n",
        "  plt.title(model_name+'Prediction Probabilities')\n",
        "  # Set x and y ticks\n",
        "  plt.xticks(color='gray')\n",
        "  #plt.xlim(.5,1)\n",
        "  plt.yticks(color='gray')\n",
        "\n",
        "  # Create axes object with plt. get current axes\n",
        "  ax = plt.gca()\n",
        "\n",
        "  # Set grid lines\n",
        "  ax.grid(visible=True, which='major', axis='y', color='black', alpha=.2)\n",
        "\n",
        "  # Set facecolor\n",
        "  ax.set_facecolor('white')\n",
        "\n",
        "  # Remove box\n",
        "  ax.spines['top'].set_visible(False)\n",
        "  ax.spines['right'].set_visible(False)\n",
        "  ax.spines['bottom'].set_visible(False)\n",
        "  ax.spines['left'].set_visible(False)\n",
        "  ax.tick_params(color='white')\n",
        "  plt.show();\n",
        "  \n",
        "  model_predictions = model.predict(train_X)\n",
        "  \n",
        "  print('\\n\\n', classification_report(train_y, model_predictions,\n",
        "                            target_names=['0-Poisonous', '1-Edible']))\n",
        "  \n",
        "  con_matrix = pd.DataFrame(confusion_matrix(train_y, model_predictions),\n",
        "                                        columns=['Predicted Poison', 'Predicted Edible'], \n",
        "                                        index=['Actual Poison', 'Actual Edible'])\n",
        "  \n",
        "  plt.figure(figsize=(15,10))\n",
        "  sns.heatmap(data=con_matrix, cmap='cool');\n",
        "  plt.title(model_name + 'Confusion Matrix')\n",
        "  plt.show();\n",
        "  \n",
        "  #print('\\n\\n', con_matrix)\n",
        "  return con_matrix"
      ]
    },
    {
      "cell_type": "code",
      "execution_count": 18,
      "metadata": {
        "colab": {
          "base_uri": "https://localhost:8080/"
        },
        "id": "74pmF0c-x_Tg",
        "outputId": "11d9013b-8091-43e7-feb1-c8611872feb7"
      },
      "outputs": [
        {
          "data": {
            "text/plain": [
              "<Figure size 1080x720 with 0 Axes>"
            ]
          },
          "metadata": {},
          "output_type": "display_data"
        },
        {
          "data": {
            "image/png": "[encoded data removed]",
            "text/plain": [
              "<Figure size 360x360 with 1 Axes>"
            ]
          },
          "metadata": {
            "needs_background": "dark"
          },
          "output_type": "display_data"
        },
        {
          "name": "stdout",
          "output_type": "stream",
          "text": [
            "\n",
            "\n",
            "               precision    recall  f1-score   support\n",
            "\n",
            " 0-Poisonous       0.83      0.97      0.89      3133\n",
            "    1-Edible       0.96      0.81      0.88      3366\n",
            "\n",
            "    accuracy                           0.89      6499\n",
            "   macro avg       0.90      0.89      0.89      6499\n",
            "weighted avg       0.90      0.89      0.89      6499\n",
            "\n"
          ]
        },
        {
          "data": {
            "image/png": "[encoded data removed]",
            "text/plain": [
              "<Figure size 1080x720 with 2 Axes>"
            ]
          },
          "metadata": {
            "needs_background": "light"
          },
          "output_type": "display_data"
        },
        {
          "data": {
            "text/html": [
              "<div>\n",
              "<style scoped>\n",
              "    .dataframe tbody tr th:only-of-type {\n",
              "        vertical-align: middle;\n",
              "    }\n",
              "\n",
              "    .dataframe tbody tr th {\n",
              "        vertical-align: top;\n",
              "    }\n",
              "\n",
              "    .dataframe thead th {\n",
              "        text-align: right;\n",
              "    }\n",
              "</style>\n",
              "<table border=\"1\" class=\"dataframe\">\n",
              "  <thead>\n",
              "    <tr style=\"text-align: right;\">\n",
              "      <th></th>\n",
              "      <th>Predicted Poison</th>\n",
              "      <th>Predicted Edible</th>\n",
              "    </tr>\n",
              "  </thead>\n",
              "  <tbody>\n",
              "    <tr>\n",
              "      <th>Actual Poison</th>\n",
              "      <td>3031</td>\n",
              "      <td>102</td>\n",
              "    </tr>\n",
              "    <tr>\n",
              "      <th>Actual Edible</th>\n",
              "      <td>637</td>\n",
              "      <td>2729</td>\n",
              "    </tr>\n",
              "  </tbody>\n",
              "</table>\n",
              "</div>"
            ],
            "text/plain": [
              "               Predicted Poison  Predicted Edible\n",
              "Actual Poison              3031               102\n",
              "Actual Edible               637              2729"
            ]
          },
          "execution_count": 18,
          "metadata": {},
          "output_type": "execute_result"
        }
      ],
      "source": [
        "model_analysis(tree, X_train, y_train, 'Decision Tree ')"
      ]
    },
    {
      "cell_type": "markdown",
      "metadata": {
        "id": "EFJOXRN6-I0u"
      },
      "source": [
        "We will store our predictions as a `tree_predictions` variable for use in interpreting the models accuracy."
      ]
    },
    {
      "cell_type": "code",
      "execution_count": 19,
      "metadata": {
        "id": "0KJLw1zkkAh2"
      },
      "outputs": [],
      "source": [
        "tree_predictions = tree.predict(X_train)"
      ]
    },
    {
      "cell_type": "code",
      "execution_count": 20,
      "metadata": {
        "colab": {
          "base_uri": "https://localhost:8080/"
        },
        "id": "h6RXUXOporQK",
        "outputId": "29ce40f6-6a07-4a95-86a1-1d8ed99f2d4f"
      },
      "outputs": [
        {
          "data": {
            "text/plain": [
              "0.8862901984920757"
            ]
          },
          "execution_count": 20,
          "metadata": {},
          "output_type": "execute_result"
        }
      ],
      "source": [
        "accuracy_score(y_train, tree_predictions)"
      ]
    },
    {
      "cell_type": "markdown",
      "metadata": {
        "id": "mGuAbH9KnFI2"
      },
      "source": [
        "\n",
        "\n",
        "---\n",
        "\n"
      ]
    },
    {
      "cell_type": "markdown",
      "metadata": {
        "id": "JZkDaXeT_twQ"
      },
      "source": [
        "# 6. Develop a model that overfits"
      ]
    },
    {
      "cell_type": "markdown",
      "metadata": {
        "id": "X48KlTRm_5Sw"
      },
      "source": [
        "We will use the `RandomForestClassifier` for our overfitting model."
      ]
    },
    {
      "cell_type": "code",
      "execution_count": 21,
      "metadata": {
        "id": "n9rjSSCn_4r0"
      },
      "outputs": [],
      "source": [
        "from sklearn.ensemble import RandomForestClassifier\n",
        "from sklearn.model_selection import cross_validate\n",
        "\n",
        "random_forest = RandomForestClassifier(n_estimators=100, max_depth=5)"
      ]
    },
    {
      "cell_type": "code",
      "execution_count": 22,
      "metadata": {
        "colab": {
          "base_uri": "https://localhost:8080/",
          "height": 89
        },
        "id": "w_TqehdhPAwq",
        "outputId": "04544bb2-588e-483e-e682-df678da91158"
      },
      "outputs": [
        {
          "name": "stderr",
          "output_type": "stream",
          "text": [
            "[Parallel(n_jobs=-1)]: Using backend LokyBackend with 10 concurrent workers.\n"
          ]
        },
        {
          "name": "stdout",
          "output_type": "stream",
          "text": [
            "[CV] END ..................., score=(train=0.990, test=0.986) total time=   0.2s\n",
            "[CV] END ..................., score=(train=0.993, test=0.992) total time=   0.2s\n",
            "[CV] END ..................., score=(train=0.991, test=0.995) total time=   0.2s\n",
            "[CV] END ..................., score=(train=0.990, test=0.994) total time=   0.2s\n",
            "[CV] END ..................., score=(train=0.990, test=0.986) total time=   0.2s\n",
            "[CV] END ..................., score=(train=0.990, test=0.991) total time=   0.2s\n",
            "[CV] END ..................., score=(train=0.989, test=0.997) total time=   0.2s\n",
            "[CV] END ..................., score=(train=0.990, test=0.992) total time=   0.2s\n",
            "[CV] END ..................., score=(train=0.991, test=0.985) total time=   0.2s\n",
            "[CV] END ..................., score=(train=0.991, test=0.985) total time=   0.2s\n"
          ]
        },
        {
          "name": "stderr",
          "output_type": "stream",
          "text": [
            "[Parallel(n_jobs=-1)]: Done   3 out of  10 | elapsed:    0.8s remaining:    1.8s\n",
            "[Parallel(n_jobs=-1)]: Done   6 out of  10 | elapsed:    0.8s remaining:    0.5s\n",
            "[Parallel(n_jobs=-1)]: Done  10 out of  10 | elapsed:    0.9s finished\n"
          ]
        }
      ],
      "source": [
        "cv = cross_validate(estimator = random_forest,\n",
        "                    X = X_train,\n",
        "                    y = y_train,\n",
        "                    scoring='accuracy',\n",
        "                    n_jobs=-1,\n",
        "                    cv=10,\n",
        "                    verbose=5,\n",
        "                    return_train_score=True)"
      ]
    },
    {
      "cell_type": "code",
      "execution_count": 23,
      "metadata": {
        "colab": {
          "base_uri": "https://localhost:8080/",
          "height": 359
        },
        "id": "EMAMXAgtSdB7",
        "outputId": "f8c0760b-796f-4beb-f297-1359610fe43f"
      },
      "outputs": [
        {
          "data": {
            "text/html": [
              "<div>\n",
              "<style scoped>\n",
              "    .dataframe tbody tr th:only-of-type {\n",
              "        vertical-align: middle;\n",
              "    }\n",
              "\n",
              "    .dataframe tbody tr th {\n",
              "        vertical-align: top;\n",
              "    }\n",
              "\n",
              "    .dataframe thead th {\n",
              "        text-align: right;\n",
              "    }\n",
              "</style>\n",
              "<table border=\"1\" class=\"dataframe\">\n",
              "  <thead>\n",
              "    <tr style=\"text-align: right;\">\n",
              "      <th></th>\n",
              "      <th>fit_time</th>\n",
              "      <th>score_time</th>\n",
              "      <th>test_score</th>\n",
              "      <th>train_score</th>\n",
              "    </tr>\n",
              "  </thead>\n",
              "  <tbody>\n",
              "    <tr>\n",
              "      <th>0</th>\n",
              "      <td>0.160542</td>\n",
              "      <td>0.011479</td>\n",
              "      <td>0.986154</td>\n",
              "      <td>0.990426</td>\n",
              "    </tr>\n",
              "    <tr>\n",
              "      <th>1</th>\n",
              "      <td>0.162347</td>\n",
              "      <td>0.006062</td>\n",
              "      <td>0.986154</td>\n",
              "      <td>0.990426</td>\n",
              "    </tr>\n",
              "    <tr>\n",
              "      <th>2</th>\n",
              "      <td>0.158364</td>\n",
              "      <td>0.006197</td>\n",
              "      <td>0.992308</td>\n",
              "      <td>0.993161</td>\n",
              "    </tr>\n",
              "    <tr>\n",
              "      <th>3</th>\n",
              "      <td>0.169151</td>\n",
              "      <td>0.016858</td>\n",
              "      <td>0.990769</td>\n",
              "      <td>0.989913</td>\n",
              "    </tr>\n",
              "    <tr>\n",
              "      <th>4</th>\n",
              "      <td>0.173562</td>\n",
              "      <td>0.006016</td>\n",
              "      <td>0.993846</td>\n",
              "      <td>0.990255</td>\n",
              "    </tr>\n",
              "    <tr>\n",
              "      <th>5</th>\n",
              "      <td>0.149473</td>\n",
              "      <td>0.006624</td>\n",
              "      <td>0.995385</td>\n",
              "      <td>0.990939</td>\n",
              "    </tr>\n",
              "    <tr>\n",
              "      <th>6</th>\n",
              "      <td>0.172313</td>\n",
              "      <td>0.006033</td>\n",
              "      <td>0.992308</td>\n",
              "      <td>0.989742</td>\n",
              "    </tr>\n",
              "    <tr>\n",
              "      <th>7</th>\n",
              "      <td>0.171101</td>\n",
              "      <td>0.006212</td>\n",
              "      <td>0.996923</td>\n",
              "      <td>0.989229</td>\n",
              "    </tr>\n",
              "    <tr>\n",
              "      <th>8</th>\n",
              "      <td>0.172027</td>\n",
              "      <td>0.006203</td>\n",
              "      <td>0.984615</td>\n",
              "      <td>0.990597</td>\n",
              "    </tr>\n",
              "    <tr>\n",
              "      <th>9</th>\n",
              "      <td>0.171147</td>\n",
              "      <td>0.005821</td>\n",
              "      <td>0.984592</td>\n",
              "      <td>0.990940</td>\n",
              "    </tr>\n",
              "  </tbody>\n",
              "</table>\n",
              "</div>"
            ],
            "text/plain": [
              "   fit_time  score_time  test_score  train_score\n",
              "0  0.160542    0.011479    0.986154     0.990426\n",
              "1  0.162347    0.006062    0.986154     0.990426\n",
              "2  0.158364    0.006197    0.992308     0.993161\n",
              "3  0.169151    0.016858    0.990769     0.989913\n",
              "4  0.173562    0.006016    0.993846     0.990255\n",
              "5  0.149473    0.006624    0.995385     0.990939\n",
              "6  0.172313    0.006033    0.992308     0.989742\n",
              "7  0.171101    0.006212    0.996923     0.989229\n",
              "8  0.172027    0.006203    0.984615     0.990597\n",
              "9  0.171147    0.005821    0.984592     0.990940"
            ]
          },
          "execution_count": 23,
          "metadata": {},
          "output_type": "execute_result"
        }
      ],
      "source": [
        "cv_df = pd.DataFrame(cv)\n",
        "cv_df"
      ]
    },
    {
      "cell_type": "code",
      "execution_count": 24,
      "metadata": {
        "colab": {
          "base_uri": "https://localhost:8080/",
          "height": 35
        },
        "id": "GNVYoEyZ6sPf",
        "outputId": "1a6cc2f2-2867-4cb1-8952-50192971dc8a"
      },
      "outputs": [
        {
          "data": {
            "text/plain": [
              "0.9890752423449761"
            ]
          },
          "execution_count": 24,
          "metadata": {},
          "output_type": "execute_result"
        }
      ],
      "source": [
        "random_forest.fit(X_test, y_test)\n",
        "test_predictions = random_forest.predict(X_train)\n",
        "\n",
        "accuracy_score(y_train, test_predictions)"
      ]
    },
    {
      "cell_type": "markdown",
      "metadata": {
        "id": "aJCcIOxXGrad"
      },
      "source": [
        "A very high accuracy score such as 99% is a sign of overfitting. We will write a function to preform all of our classification analysis from earlier."
      ]
    },
    {
      "cell_type": "code",
      "execution_count": 25,
      "metadata": {
        "colab": {
          "base_uri": "https://localhost:8080/",
          "height": 1489
        },
        "id": "T3R5NXfWEZ3B",
        "outputId": "401ee1f3-69a3-49a9-864e-0d50f1b94a2b"
      },
      "outputs": [
        {
          "data": {
            "text/plain": [
              "<Figure size 1080x720 with 0 Axes>"
            ]
          },
          "metadata": {},
          "output_type": "display_data"
        },
        {
          "data": {
            "image/png": "[encoded data removed]",
            "text/plain": [
              "<Figure size 360x360 with 1 Axes>"
            ]
          },
          "metadata": {
            "needs_background": "dark"
          },
          "output_type": "display_data"
        },
        {
          "name": "stdout",
          "output_type": "stream",
          "text": [
            "\n",
            "\n",
            "               precision    recall  f1-score   support\n",
            "\n",
            " 0-Poisonous       1.00      0.98      0.99      3133\n",
            "    1-Edible       0.98      1.00      0.99      3366\n",
            "\n",
            "    accuracy                           0.99      6499\n",
            "   macro avg       0.99      0.99      0.99      6499\n",
            "weighted avg       0.99      0.99      0.99      6499\n",
            "\n"
          ]
        },
        {
          "data": {
            "image/png": "[encoded data removed]",
            "text/plain": [
              "<Figure size 1080x720 with 2 Axes>"
            ]
          },
          "metadata": {
            "needs_background": "light"
          },
          "output_type": "display_data"
        },
        {
          "data": {
            "text/html": [
              "<div>\n",
              "<style scoped>\n",
              "    .dataframe tbody tr th:only-of-type {\n",
              "        vertical-align: middle;\n",
              "    }\n",
              "\n",
              "    .dataframe tbody tr th {\n",
              "        vertical-align: top;\n",
              "    }\n",
              "\n",
              "    .dataframe thead th {\n",
              "        text-align: right;\n",
              "    }\n",
              "</style>\n",
              "<table border=\"1\" class=\"dataframe\">\n",
              "  <thead>\n",
              "    <tr style=\"text-align: right;\">\n",
              "      <th></th>\n",
              "      <th>Predicted Poison</th>\n",
              "      <th>Predicted Edible</th>\n",
              "    </tr>\n",
              "  </thead>\n",
              "  <tbody>\n",
              "    <tr>\n",
              "      <th>Actual Poison</th>\n",
              "      <td>3062</td>\n",
              "      <td>71</td>\n",
              "    </tr>\n",
              "    <tr>\n",
              "      <th>Actual Edible</th>\n",
              "      <td>0</td>\n",
              "      <td>3366</td>\n",
              "    </tr>\n",
              "  </tbody>\n",
              "</table>\n",
              "</div>"
            ],
            "text/plain": [
              "               Predicted Poison  Predicted Edible\n",
              "Actual Poison              3062                71\n",
              "Actual Edible                 0              3366"
            ]
          },
          "execution_count": 25,
          "metadata": {},
          "output_type": "execute_result"
        }
      ],
      "source": [
        "model_analysis(random_forest, X_train, y_train, 'Random Forest ')"
      ]
    },
    {
      "cell_type": "markdown",
      "metadata": {
        "id": "EfKuJBcUAHJB"
      },
      "source": [
        "\n",
        "\n",
        "---\n",
        "\n"
      ]
    },
    {
      "cell_type": "markdown",
      "metadata": {
        "id": "bu6KEuY_Gxe7"
      },
      "source": [
        "# 7. Regularize the model and tune its hyperparameters "
      ]
    },
    {
      "cell_type": "markdown",
      "metadata": {
        "id": "NrbhB2ReHuMT"
      },
      "source": [
        "Now we will tune the hyperparameters of our `RandomForestClassifier` and attempt to walk the line between underfitting and overfitting."
      ]
    },
    {
      "cell_type": "code",
      "execution_count": 26,
      "metadata": {
        "colab": {
          "base_uri": "https://localhost:8080/",
          "height": 757
        },
        "id": "TwWEkYvjH9xb",
        "outputId": "05dbcb51-8030-406f-fec8-eacbb11fe8fd"
      },
      "outputs": [
        {
          "name": "stdout",
          "output_type": "stream",
          "text": [
            "Fitting 10 folds for each of 30 candidates, totalling 300 fits\n"
          ]
        },
        {
          "data": {
            "text/plain": [
              "RandomizedSearchCV(cv=10, estimator=RandomForestClassifier(), n_iter=30,\n",
              "                   n_jobs=-1,\n",
              "                   param_distributions={'max_depth': [1, 2, 3, 4, 5],\n",
              "                                        'n_estimators': [10, 25, 50, 100, 150,\n",
              "                                                         200]},\n",
              "                   return_train_score=True, scoring='precision', verbose=1)"
            ]
          },
          "execution_count": 26,
          "metadata": {},
          "output_type": "execute_result"
        }
      ],
      "source": [
        "from sklearn.model_selection import RandomizedSearchCV\n",
        "\n",
        "param_distributions = {\n",
        "    'max_depth':[1, 2, 3, 4, 5],\n",
        "    'n_estimators': [10, 25, 50, 100, 150, 200]\n",
        "}\n",
        "\n",
        "search = RandomizedSearchCV(estimator = RandomForestClassifier(),\n",
        "                            param_distributions = param_distributions,\n",
        "                            n_iter=30,\n",
        "                            scoring='precision',\n",
        "                            n_jobs=-1,\n",
        "                            cv=10,\n",
        "                            verbose=1,\n",
        "                            return_train_score=True)\n",
        " \n",
        "search.fit(X_train, y_train)"
      ]
    },
    {
      "cell_type": "markdown",
      "metadata": {},
      "source": [
        "We can use `search.best_estimator_` to see which model has the highest precision score."
      ]
    },
    {
      "cell_type": "code",
      "execution_count": 27,
      "metadata": {
        "colab": {
          "base_uri": "https://localhost:8080/",
          "height": 143
        },
        "id": "v3jRr1CU4utD",
        "outputId": "c766a82d-43f1-4e85-890e-3f1e61aa41ab"
      },
      "outputs": [
        {
          "data": {
            "text/plain": [
              "RandomForestClassifier(max_depth=5, n_estimators=50)"
            ]
          },
          "execution_count": 27,
          "metadata": {},
          "output_type": "execute_result"
        }
      ],
      "source": [
        "best_model = search.best_estimator_\n",
        "best_model"
      ]
    },
    {
      "cell_type": "markdown",
      "metadata": {},
      "source": [
        "From the model description we can see that a RandomForestClassifier with a max_depth of 5 and 25 estimators is our optimal model. Now we can run our analysis function."
      ]
    },
    {
      "cell_type": "code",
      "execution_count": 28,
      "metadata": {
        "colab": {
          "base_uri": "https://localhost:8080/",
          "height": 35
        },
        "id": "ecPgC_FHJIsX",
        "outputId": "8c1dffaa-b730-4866-8951-38bae2a13c37"
      },
      "outputs": [
        {
          "data": {
            "text/plain": [
              "0.9836836764257519"
            ]
          },
          "execution_count": 28,
          "metadata": {},
          "output_type": "execute_result"
        }
      ],
      "source": [
        "search.best_score_"
      ]
    },
    {
      "cell_type": "code",
      "execution_count": 29,
      "metadata": {
        "colab": {
          "base_uri": "https://localhost:8080/",
          "height": 1489
        },
        "id": "RZ-Y66F3JWW2",
        "outputId": "1e7d0b21-cfce-4a34-ae4f-db7b677daf54"
      },
      "outputs": [
        {
          "data": {
            "text/plain": [
              "<Figure size 1080x720 with 0 Axes>"
            ]
          },
          "metadata": {},
          "output_type": "display_data"
        },
        {
          "data": {
            "image/png": "[encoded data removed]",
            "text/plain": [
              "<Figure size 360x360 with 1 Axes>"
            ]
          },
          "metadata": {
            "needs_background": "dark"
          },
          "output_type": "display_data"
        },
        {
          "name": "stdout",
          "output_type": "stream",
          "text": [
            "\n",
            "\n",
            "               precision    recall  f1-score   support\n",
            "\n",
            " 0-Poisonous       1.00      0.98      0.99       783\n",
            "    1-Edible       0.98      1.00      0.99       842\n",
            "\n",
            "    accuracy                           0.99      1625\n",
            "   macro avg       0.99      0.99      0.99      1625\n",
            "weighted avg       0.99      0.99      0.99      1625\n",
            "\n"
          ]
        },
        {
          "data": {
            "image/png": "[encoded data removed]",
            "text/plain": [
              "<Figure size 1080x720 with 2 Axes>"
            ]
          },
          "metadata": {
            "needs_background": "light"
          },
          "output_type": "display_data"
        },
        {
          "data": {
            "text/html": [
              "<div>\n",
              "<style scoped>\n",
              "    .dataframe tbody tr th:only-of-type {\n",
              "        vertical-align: middle;\n",
              "    }\n",
              "\n",
              "    .dataframe tbody tr th {\n",
              "        vertical-align: top;\n",
              "    }\n",
              "\n",
              "    .dataframe thead th {\n",
              "        text-align: right;\n",
              "    }\n",
              "</style>\n",
              "<table border=\"1\" class=\"dataframe\">\n",
              "  <thead>\n",
              "    <tr style=\"text-align: right;\">\n",
              "      <th></th>\n",
              "      <th>Predicted Poison</th>\n",
              "      <th>Predicted Edible</th>\n",
              "    </tr>\n",
              "  </thead>\n",
              "  <tbody>\n",
              "    <tr>\n",
              "      <th>Actual Poison</th>\n",
              "      <td>768</td>\n",
              "      <td>15</td>\n",
              "    </tr>\n",
              "    <tr>\n",
              "      <th>Actual Edible</th>\n",
              "      <td>0</td>\n",
              "      <td>842</td>\n",
              "    </tr>\n",
              "  </tbody>\n",
              "</table>\n",
              "</div>"
            ],
            "text/plain": [
              "               Predicted Poison  Predicted Edible\n",
              "Actual Poison               768                15\n",
              "Actual Edible                 0               842"
            ]
          },
          "execution_count": 29,
          "metadata": {},
          "output_type": "execute_result"
        }
      ],
      "source": [
        "model_analysis(best_model, X_test, y_test, 'Random Forest ')"
      ]
    },
    {
      "cell_type": "markdown",
      "metadata": {},
      "source": [
        "The final model produced 6 false positives, which isn't perfect but quite close to a good model. In conclusion, we can state that we have found a model based on random forest generation that accurately predicts if mushrooms are edible or not 98% of the time."
      ]
    },
    {
      "cell_type": "markdown",
      "metadata": {},
      "source": [
        "# References\n",
        "\n",
        "[1] Chollet, Francois. [Deep Learning with Python](https://www.amazon.com/Deep-Learning-Python-Francois-Chollet/dp/1617294438). Manning Publications, 2017.\n",
        "\n",
        "[2] University of California, Irvine. [Mushroom Data Set](https://archive.ics.uci.edu/ml/datasets/mushroom). UCI, 1987."
      ]
    },
    {
      "cell_type": "markdown",
      "metadata": {},
      "source": []
    }
  ],
  "metadata": {
    "colab": {
      "collapsed_sections": [
        "ESmJNZzt7YuA",
        "JXYGwa_0pQQs",
        "EiPruLtopXMV"
      ],
      "name": "Classifying Mushrooms.ipynb",
      "provenance": []
    },
    "kernelspec": {
      "display_name": "Python 3",
      "name": "python3"
    },
    "language_info": {
      "codemirror_mode": {
        "name": "ipython",
        "version": 3
      },
      "file_extension": ".py",
      "mimetype": "text/x-python",
      "name": "python",
      "nbconvert_exporter": "python",
      "pygments_lexer": "ipython3",
      "version": "3.9.10"
    }
  },
  "nbformat": 4,
  "nbformat_minor": 0
}
