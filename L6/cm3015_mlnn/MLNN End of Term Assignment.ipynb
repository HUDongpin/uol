{
 "cells": [
  {
   "cell_type": "markdown",
   "metadata": {},
   "source": [
    "## Introduction\n",
    "\n",
    "This coursework aims to implement the universal workflow from Francois Chollet's Deep Learning with Python and apply it to classify mushrooms as either edible or not edible.\n",
    "\n",
    "We are using the [Mushroom Dataset](https://archive.ics.uci.edu/ml/datasets/mushroom) from UCI’s Machine Learning Repository to implement our model.\n",
    "\n",
    "The overall workflow will reflect the literature:\n",
    "\n",
    "1. Define the problem and assemble a dataset\n",
    "2. Choose a measure of success\n",
    "2. Decide on an evaluation protocol\n",
    "2. Prepare the data\n",
    "2. Develop a model that does better than a baseline\n",
    "2. Develop a model that overfits\n",
    "2. Regularize the model and tune its hyperparameters"
   ]
  },
  {
   "cell_type": "markdown",
   "metadata": {},
   "source": []
  },
  {
   "cell_type": "markdown",
   "metadata": {},
   "source": [
    "# Define the problem and assemble a dataset\n",
    "\n",
    "Our hypothetical problem is the classification of mushrooms as edible or non-edible, with the purpose of selecting mushrooms for use in human food production. Since mushrooms can be poisonous, the goal is to prevent humans from getting sick by eating poisonous mushrooms.\n",
    "\n",
    "Let's frame the problem in more detail. Our input data is the aforementioned dataset, which is a multivariate set of data about mushrooms and 22 features about the sample mushrooms. Based on these features, we are trying to predict if the mushrooms are suitable for human consumption.\n",
    "\n",
    "The task at hand is binary classification - we determine if a mushroom edible or not.\n",
    "\n",
    "Using the data information file, we can load up a list of features for our data."
   ]
  },
  {
   "cell_type": "code",
   "execution_count": 1,
   "metadata": {},
   "outputs": [],
   "source": [
    "column_names = ['class',\n",
    "                'cap-shape',\n",
    "                'cap-surface',\n",
    "                'cap-color',\n",
    "                'bruises?',\n",
    "                'odor',\n",
    "                'gill-attachment',\n",
    "                'gill-spacing',\n",
    "                'gill-size',\n",
    "                'gill-color',\n",
    "                'stalk-shape',\n",
    "                'stalk-root',\n",
    "                'stalk-surface-above-ring',\n",
    "                'stalk-surface-below-ring',\n",
    "                'stalk-color-above-ring',\n",
    "                'stalk-color-below-ring',\n",
    "                'veil-type',\n",
    "                'veil-color',\n",
    "                'ring-number',\n",
    "                'ring-type',\n",
    "                'spore-print-color',\n",
    "                'population',\n",
    "                'habitat']"
   ]
  },
  {
   "cell_type": "markdown",
   "metadata": {},
   "source": [
    "We can import our dataset using `pandas`."
   ]
  },
  {
   "cell_type": "markdown",
   "metadata": {},
   "source": []
  },
  {
   "cell_type": "code",
   "execution_count": 2,
   "metadata": {},
   "outputs": [],
   "source": [
    "import pandas as pd\n",
    "\n",
    "url = 'https://archive.ics.uci.edu/ml/machine-learning-databases/mushroom/agaricus-lepiota.data'\n",
    "\n",
    "mushrooms = pd.read_csv(url, header=None, names=column_names)"
   ]
  },
  {
   "cell_type": "markdown",
   "metadata": {},
   "source": [
    "# Choose a measure of success\n",
    "\n",
    "Since our problem involves the prevention of human sickness or death, we will use precision as a measure of success. Precision is the ability of the classifier not to label mushrooms which are poisonous as edible. This places a preference for correct predictions of poisonous mushrooms, as we prefer if edible mushrooms are misidentified as poisonous rather than poisonous mushrooms being misidentified as edible."
   ]
  },
  {
   "cell_type": "code",
   "execution_count": 4,
   "metadata": {},
   "outputs": [],
   "source": [
    "from sklearn.metrics import precision_score"
   ]
  },
  {
   "cell_type": "markdown",
   "metadata": {},
   "source": [
    "# Decide on an evaluation protocol\n",
    "\n",
    "I'll apply 10-fold cross validation to evaluate our model. While a simple holdout validation set might be enough, our dataset of 8.000 samples might not be enough."
   ]
  },
  {
   "cell_type": "code",
   "execution_count": 14,
   "metadata": {},
   "outputs": [],
   "source": [
    "from sklearn.model_selection import train_test_split, cross_validate"
   ]
  },
  {
   "cell_type": "markdown",
   "metadata": {},
   "source": [
    "First lets split our data into a feature matrix (`X`), and a target vector (`y`). We will use [`OneHotEncoder`](https://scikit-learn.org/stable/modules/generated/sklearn.preprocessing.OneHotEncoder.html) to encode our categorical variables."
   ]
  },
  {
   "cell_type": "code",
   "execution_count": 33,
   "metadata": {},
   "outputs": [
    {
     "name": "stdout",
     "output_type": "stream",
     "text": [
      "Feature matrix size: (8124, 117)\n",
      "Target vector size: 8124\n"
     ]
    }
   ],
   "source": [
    "import category_encoders as ce\n",
    "\n",
    "#Drop target feature\n",
    "X = mushrooms.drop(columns='class') #Encode categorical features\n",
    "X = ce.OneHotEncoder(use_cat_names=True).fit_transform(X)\n",
    "y = mushrooms['class'].replace({'p':0, 'e':1})\n",
    "\n",
    "print('Feature matrix size:',X.shape)\n",
    "print('Target vector size:',len(y))"
   ]
  },
  {
   "cell_type": "markdown",
   "metadata": {},
   "source": []
  },
  {
   "cell_type": "markdown",
   "metadata": {},
   "source": []
  },
  {
   "cell_type": "code",
   "execution_count": 34,
   "metadata": {},
   "outputs": [
    {
     "name": "stdout",
     "output_type": "stream",
     "text": [
      "Training feature matrix size: (6499, 117)\n",
      "Training target vector size: (6499,)\n",
      "Test feature matrix size: (1625, 117)\n",
      "Test target vector size: (1625,)\n"
     ]
    }
   ],
   "source": [
    "X_train, X_test, y_train, y_test = train_test_split(X, y, random_state=42, test_size=.2, stratify=y)\n",
    "\n",
    "print('Training feature matrix size:',X_train.shape)\n",
    "print('Training target vector size:',y_train.shape)\n",
    "print('Test feature matrix size:',X_test.shape)\n",
    "print('Test target vector size:',y_test.shape)"
   ]
  },
  {
   "cell_type": "code",
   "execution_count": null,
   "metadata": {},
   "outputs": [],
   "source": []
  },
  {
   "cell_type": "code",
   "execution_count": 35,
   "metadata": {},
   "outputs": [
    {
     "name": "stdout",
     "output_type": "stream",
     "text": [
      "<class 'pandas.core.frame.DataFrame'>\n",
      "RangeIndex: 8124 entries, 0 to 8123\n",
      "Data columns (total 23 columns):\n",
      " #   Column                    Non-Null Count  Dtype \n",
      "---  ------                    --------------  ----- \n",
      " 0   class                     8124 non-null   object\n",
      " 1   cap-shape                 8124 non-null   object\n",
      " 2   cap-surface               8124 non-null   object\n",
      " 3   cap-color                 8124 non-null   object\n",
      " 4   bruises?                  8124 non-null   object\n",
      " 5   odor                      8124 non-null   object\n",
      " 6   gill-attachment           8124 non-null   object\n",
      " 7   gill-spacing              8124 non-null   object\n",
      " 8   gill-size                 8124 non-null   object\n",
      " 9   gill-color                8124 non-null   object\n",
      " 10  stalk-shape               8124 non-null   object\n",
      " 11  stalk-root                8124 non-null   object\n",
      " 12  stalk-surface-above-ring  8124 non-null   object\n",
      " 13  stalk-surface-below-ring  8124 non-null   object\n",
      " 14  stalk-color-above-ring    8124 non-null   object\n",
      " 15  stalk-color-below-ring    8124 non-null   object\n",
      " 16  veil-type                 8124 non-null   object\n",
      " 17  veil-color                8124 non-null   object\n",
      " 18  ring-number               8124 non-null   object\n",
      " 19  ring-type                 8124 non-null   object\n",
      " 20  spore-print-color         8124 non-null   object\n",
      " 21  population                8124 non-null   object\n",
      " 22  habitat                   8124 non-null   object\n",
      "dtypes: object(23)\n",
      "memory usage: 1.4+ MB\n",
      "None\n"
     ]
    }
   ],
   "source": [
    "print(mushrooms.info())"
   ]
  },
  {
   "cell_type": "code",
   "execution_count": null,
   "metadata": {},
   "outputs": [],
   "source": []
  },
  {
   "cell_type": "code",
   "execution_count": 36,
   "metadata": {},
   "outputs": [
    {
     "name": "stdout",
     "output_type": "stream",
     "text": [
      "class                       0\n",
      "cap-shape                   0\n",
      "cap-surface                 0\n",
      "cap-color                   0\n",
      "bruises?                    0\n",
      "odor                        0\n",
      "gill-attachment             0\n",
      "gill-spacing                0\n",
      "gill-size                   0\n",
      "gill-color                  0\n",
      "stalk-shape                 0\n",
      "stalk-root                  0\n",
      "stalk-surface-above-ring    0\n",
      "stalk-surface-below-ring    0\n",
      "stalk-color-above-ring      0\n",
      "stalk-color-below-ring      0\n",
      "veil-type                   0\n",
      "veil-color                  0\n",
      "ring-number                 0\n",
      "ring-type                   0\n",
      "spore-print-color           0\n",
      "population                  0\n",
      "habitat                     0\n",
      "dtype: int64\n"
     ]
    }
   ],
   "source": [
    "print(mushrooms.isna().sum())"
   ]
  },
  {
   "cell_type": "code",
   "execution_count": null,
   "metadata": {},
   "outputs": [],
   "source": []
  },
  {
   "cell_type": "code",
   "execution_count": 37,
   "metadata": {},
   "outputs": [
    {
     "name": "stdout",
     "output_type": "stream",
     "text": [
      "class                       0\n",
      "cap-shape                   0\n",
      "cap-surface                 0\n",
      "cap-color                   0\n",
      "bruises?                    0\n",
      "odor                        0\n",
      "gill-attachment             0\n",
      "gill-spacing                0\n",
      "gill-size                   0\n",
      "gill-color                  0\n",
      "stalk-shape                 0\n",
      "stalk-root                  0\n",
      "stalk-surface-above-ring    0\n",
      "stalk-surface-below-ring    0\n",
      "stalk-color-above-ring      0\n",
      "stalk-color-below-ring      0\n",
      "veil-type                   0\n",
      "veil-color                  0\n",
      "ring-number                 0\n",
      "ring-type                   0\n",
      "spore-print-color           0\n",
      "population                  0\n",
      "habitat                     0\n",
      "dtype: int64\n"
     ]
    }
   ],
   "source": [
    "import numpy as np\n",
    "mushrooms = mushrooms.replace({'?':np.NaN})\n",
    "print(mushrooms.isna().sum())"
   ]
  },
  {
   "cell_type": "code",
   "execution_count": null,
   "metadata": {},
   "outputs": [],
   "source": []
  },
  {
   "cell_type": "code",
   "execution_count": 38,
   "metadata": {},
   "outputs": [
    {
     "name": "stdout",
     "output_type": "stream",
     "text": [
      "b    3776\n",
      "m    2480\n",
      "e    1120\n",
      "c     556\n",
      "r     192\n",
      "Name: stalk-root, dtype: int64\n"
     ]
    }
   ],
   "source": [
    "mushrooms['stalk-root'] = mushrooms['stalk-root'].replace(np.NaN,'m')\n",
    "\n",
    "print(mushrooms['stalk-root'].value_counts())"
   ]
  },
  {
   "cell_type": "code",
   "execution_count": null,
   "metadata": {},
   "outputs": [],
   "source": []
  },
  {
   "cell_type": "code",
   "execution_count": 39,
   "metadata": {},
   "outputs": [
    {
     "data": {
      "text/plain": [
       "e    0.517971\n",
       "p    0.482029\n",
       "Name: class, dtype: float64"
      ]
     },
     "execution_count": 39,
     "metadata": {},
     "output_type": "execute_result"
    }
   ],
   "source": [
    "mushrooms['class'].value_counts(normalize=True)"
   ]
  },
  {
   "cell_type": "code",
   "execution_count": null,
   "metadata": {},
   "outputs": [],
   "source": []
  },
  {
   "cell_type": "code",
   "execution_count": 40,
   "metadata": {},
   "outputs": [],
   "source": [
    "majority_class = y_train.mode()[0]\n",
    "\n",
    "baseline_predictions = [majority_class] * len(y_train)"
   ]
  },
  {
   "cell_type": "code",
   "execution_count": 41,
   "metadata": {},
   "outputs": [
    {
     "name": "stdout",
     "output_type": "stream",
     "text": [
      "      cap-shape_x  cap-shape_b  cap-shape_s  cap-shape_f  cap-shape_k  \\\n",
      "972             0            0            0            1            0   \n",
      "6451            1            0            0            0            0   \n",
      "3869            1            0            0            0            0   \n",
      "3732            0            0            0            1            0   \n",
      "482             0            0            0            1            0   \n",
      "...           ...          ...          ...          ...          ...   \n",
      "3275            0            0            0            1            0   \n",
      "4913            1            0            0            0            0   \n",
      "5338            0            0            0            1            0   \n",
      "3933            1            0            0            0            0   \n",
      "731             1            0            0            0            0   \n",
      "\n",
      "      cap-shape_c  cap-surface_s  cap-surface_y  cap-surface_f  cap-surface_g  \\\n",
      "972             0              0              0              1              0   \n",
      "6451            0              1              0              0              0   \n",
      "3869            0              1              0              0              0   \n",
      "3732            0              0              1              0              0   \n",
      "482             0              1              0              0              0   \n",
      "...           ...            ...            ...            ...            ...   \n",
      "3275            0              0              0              1              0   \n",
      "4913            0              0              1              0              0   \n",
      "5338            0              0              1              0              0   \n",
      "3933            0              0              1              0              0   \n",
      "731             0              0              0              1              0   \n",
      "\n",
      "      ...  population_v  population_y  population_c  habitat_u  habitat_g  \\\n",
      "972   ...             1             0             0          0          0   \n",
      "6451  ...             1             0             0          0          0   \n",
      "3869  ...             0             0             0          0          0   \n",
      "3732  ...             0             1             0          0          0   \n",
      "482   ...             1             0             0          0          0   \n",
      "...   ...           ...           ...           ...        ...        ...   \n",
      "3275  ...             0             1             0          0          0   \n",
      "4913  ...             0             1             0          0          0   \n",
      "5338  ...             1             0             0          0          1   \n",
      "3933  ...             0             1             0          0          0   \n",
      "731   ...             0             0             0          0          1   \n",
      "\n",
      "      habitat_m  habitat_d  habitat_p  habitat_w  habitat_l  \n",
      "972           0          1          0          0          0  \n",
      "6451          0          0          0          0          1  \n",
      "3869          0          1          0          0          0  \n",
      "3732          0          1          0          0          0  \n",
      "482           0          1          0          0          0  \n",
      "...         ...        ...        ...        ...        ...  \n",
      "3275          0          1          0          0          0  \n",
      "4913          0          0          1          0          0  \n",
      "5338          0          0          0          0          0  \n",
      "3933          0          0          1          0          0  \n",
      "731           0          0          0          0          0  \n",
      "\n",
      "[6499 rows x 117 columns]\n"
     ]
    }
   ],
   "source": [
    "print(X_train)"
   ]
  },
  {
   "cell_type": "code",
   "execution_count": 42,
   "metadata": {},
   "outputs": [
    {
     "name": "stdout",
     "output_type": "stream",
     "text": [
      "0.5179258347438067\n"
     ]
    }
   ],
   "source": [
    "from sklearn.metrics import accuracy_score\n",
    "\n",
    "majority_class_accuracy = accuracy_score(baseline_predictions, y_train)\n",
    "print(majority_class_accuracy)"
   ]
  },
  {
   "cell_type": "code",
   "execution_count": null,
   "metadata": {},
   "outputs": [],
   "source": []
  },
  {
   "cell_type": "code",
   "execution_count": 44,
   "metadata": {},
   "outputs": [
    {
     "data": {
      "image/svg+xml": "<?xml version=\"1.0\" encoding=\"UTF-8\" standalone=\"no\"?>\n<!DOCTYPE svg PUBLIC \"-//W3C//DTD SVG 1.1//EN\"\n \"http://www.w3.org/Graphics/SVG/1.1/DTD/svg11.dtd\">\n<!-- Generated by graphviz version 3.0.0 (20220226.1711)\n -->\n<!-- Title: Tree Pages: 1 -->\n<svg width=\"320pt\" height=\"165pt\"\n viewBox=\"0.00 0.00 320.00 165.00\" xmlns=\"http://www.w3.org/2000/svg\" xmlns:xlink=\"http://www.w3.org/1999/xlink\">\n<g id=\"graph0\" class=\"graph\" transform=\"scale(1 1) rotate(0) translate(4 161)\">\n<title>Tree</title>\n<polygon fill=\"white\" stroke=\"transparent\" points=\"-4,4 -4,-161 316,-161 316,4 -4,4\"/>\n<!-- 0 -->\n<g id=\"node1\" class=\"node\">\n<title>0</title>\n<polygon fill=\"#f1f8fd\" stroke=\"black\" points=\"229,-157 82,-157 82,-89 229,-89 229,-157\"/>\n<text text-anchor=\"middle\" x=\"155.5\" y=\"-141.8\" font-family=\"Helvetica,sans-Serif\" font-size=\"14.00\">odor_n &lt;= 0.5</text>\n<text text-anchor=\"middle\" x=\"155.5\" y=\"-126.8\" font-family=\"Helvetica,sans-Serif\" font-size=\"14.00\">samples = 100.0%</text>\n<text text-anchor=\"middle\" x=\"155.5\" y=\"-111.8\" font-family=\"Helvetica,sans-Serif\" font-size=\"14.00\">value = [0.482, 0.518]</text>\n<text text-anchor=\"middle\" x=\"155.5\" y=\"-96.8\" font-family=\"Helvetica,sans-Serif\" font-size=\"14.00\">class = Edible</text>\n</g>\n<!-- 1 -->\n<g id=\"node2\" class=\"node\">\n<title>1</title>\n<polygon fill=\"#ea9b63\" stroke=\"black\" points=\"147,-53 0,-53 0,0 147,0 147,-53\"/>\n<text text-anchor=\"middle\" x=\"73.5\" y=\"-37.8\" font-family=\"Helvetica,sans-Serif\" font-size=\"14.00\">samples = 56.4%</text>\n<text text-anchor=\"middle\" x=\"73.5\" y=\"-22.8\" font-family=\"Helvetica,sans-Serif\" font-size=\"14.00\">value = [0.826, 0.174]</text>\n<text text-anchor=\"middle\" x=\"73.5\" y=\"-7.8\" font-family=\"Helvetica,sans-Serif\" font-size=\"14.00\">class = Poisonous</text>\n</g>\n<!-- 0&#45;&gt;1 -->\n<g id=\"edge1\" class=\"edge\">\n<title>0&#45;&gt;1</title>\n<path fill=\"none\" stroke=\"black\" d=\"M126.82,-88.95C118.96,-79.89 110.44,-70.07 102.56,-60.99\"/>\n<polygon fill=\"black\" stroke=\"black\" points=\"105.03,-58.5 95.83,-53.24 99.74,-63.08 105.03,-58.5\"/>\n<text text-anchor=\"middle\" x=\"94.07\" y=\"-74.47\" font-family=\"Helvetica,sans-Serif\" font-size=\"14.00\">True</text>\n</g>\n<!-- 2 -->\n<g id=\"node3\" class=\"node\">\n<title>2</title>\n<polygon fill=\"#40a1e6\" stroke=\"black\" points=\"312,-53 165,-53 165,0 312,0 312,-53\"/>\n<text text-anchor=\"middle\" x=\"238.5\" y=\"-37.8\" font-family=\"Helvetica,sans-Serif\" font-size=\"14.00\">samples = 43.6%</text>\n<text text-anchor=\"middle\" x=\"238.5\" y=\"-22.8\" font-family=\"Helvetica,sans-Serif\" font-size=\"14.00\">value = [0.036, 0.964]</text>\n<text text-anchor=\"middle\" x=\"238.5\" y=\"-7.8\" font-family=\"Helvetica,sans-Serif\" font-size=\"14.00\">class = Edible</text>\n</g>\n<!-- 0&#45;&gt;2 -->\n<g id=\"edge2\" class=\"edge\">\n<title>0&#45;&gt;2</title>\n<path fill=\"none\" stroke=\"black\" d=\"M184.53,-88.95C192.48,-79.89 201.11,-70.07 209.09,-60.99\"/>\n<polygon fill=\"black\" stroke=\"black\" points=\"211.93,-63.06 215.9,-53.24 206.67,-58.44 211.93,-63.06\"/>\n<text text-anchor=\"middle\" x=\"217.51\" y=\"-74.48\" font-family=\"Helvetica,sans-Serif\" font-size=\"14.00\">False</text>\n</g>\n</g>\n</svg>\n",
      "text/plain": [
       "<graphviz.sources.Source at 0x16c127040>"
      ]
     },
     "execution_count": 44,
     "metadata": {},
     "output_type": "execute_result"
    }
   ],
   "source": [
    "from sklearn.tree import DecisionTreeClassifier\n",
    "import graphviz\n",
    "from sklearn.tree import export_graphviz\n",
    "\n",
    "tree = DecisionTreeClassifier(max_depth=1)\n",
    "\n",
    "# Fit the model\n",
    "tree.fit(X_train, y_train)# Visualize the tree\n",
    "dot_data = export_graphviz(tree, out_file=None, feature_names=X_train.columns, class_names=['Poisonous', 'Edible'], filled=True, impurity=False, proportion=True)\n",
    "\n",
    "graphviz.Source(dot_data)"
   ]
  },
  {
   "cell_type": "code",
   "execution_count": null,
   "metadata": {},
   "outputs": [],
   "source": []
  },
  {
   "cell_type": "code",
   "execution_count": 55,
   "metadata": {},
   "outputs": [],
   "source": [
    "import matplotlib.pyplot as plt\n",
    "import seaborn as sns\n",
    "from sklearn.metrics import classification_report, confusion_matrix\n",
    "\n",
    "def model_analysis(model, train_X, train_y):\n",
    "\tmodel_probabilities = model.predict_proba(train_X)\n",
    "\t\n",
    "\tModel_Prediction_Probability = []\n",
    "\n",
    "\tfor _ in range(len(train_X)):\n",
    "\t\tx = max(model_probabilities[_])\n",
    "\t\tModel_Prediction_Probability.append(x)\n",
    "\t\t\n",
    "\tplt.figure(figsize=(15,10)) \n",
    "\t\n",
    "\tsns.histplot(Model_Prediction_Probability)\n",
    "\t\n",
    "\tplt.title('Best Model Prediction Probabilities') \n",
    "\t\n",
    "\t# Set x and y ticks\n",
    "\tplt.xticks(color='gray')\n",
    "\tplt.yticks(color='gray')  \n",
    "\t\n",
    "\t# Create axes object with plt. get current axes\n",
    "\tax = plt.gca()\n",
    "\t\n",
    "\t# Set grid lines\n",
    "\tax.grid(visible=True, which='major', axis='y', color='black', alpha=.2)\n",
    "\t\n",
    "\t# Set facecolor\n",
    "\tax.set_facecolor('white')\n",
    "\t\n",
    "\t# Remove box\n",
    "\tax.spines['top'].set_visible(False)\n",
    "\tax.spines['right'].set_visible(False)\n",
    "\tax.spines['bottom'].set_visible(False)\n",
    "\tax.spines['left'].set_visible(False)\n",
    "\tax.tick_params(color='white')\n",
    "\t\n",
    "\tplt.show();\n",
    "\n",
    "\tmodel_predictions = model.predict(train_X)\n",
    "\t\n",
    "\t# Classification Report\n",
    "\tprint('\\n\\n', classification_report(train_y, model_predictions, target_names=['0-Poisonous', '1-Edible']))  \n",
    "\t\n",
    "\t# Confusion Matrix\n",
    "\tcon_matrix = pd.DataFrame(confusion_matrix(train_y, model_predictions), columns=['Predicted Poison', 'Predicted Edible'], index=['Actual Poison', 'Actual Edible'])\n",
    "\n",
    "\tplt.figure(figsize=(15,10))\n",
    "\tsns.heatmap(data=con_matrix, cmap='cool'); \n",
    "\tplt.title('Model Confusion Matrix')\n",
    "\tplt.show();\n",
    "\n",
    "\treturn con_matrix"
   ]
  },
  {
   "cell_type": "markdown",
   "metadata": {},
   "source": []
  },
  {
   "cell_type": "code",
   "execution_count": 56,
   "metadata": {},
   "outputs": [
    {
     "data": {
      "image/png": "[encoded data removed]",
      "text/plain": [
       "<Figure size 1080x720 with 1 Axes>"
      ]
     },
     "metadata": {
      "needs_background": "dark"
     },
     "output_type": "display_data"
    },
    {
     "name": "stdout",
     "output_type": "stream",
     "text": [
      "\n",
      "\n",
      "               precision    recall  f1-score   support\n",
      "\n",
      " 0-Poisonous       0.83      0.97      0.89      3133\n",
      "    1-Edible       0.96      0.81      0.88      3366\n",
      "\n",
      "    accuracy                           0.89      6499\n",
      "   macro avg       0.90      0.89      0.89      6499\n",
      "weighted avg       0.90      0.89      0.89      6499\n",
      "\n"
     ]
    },
    {
     "data": {
      "image/png": "[encoded data removed]",
      "text/plain": [
       "<Figure size 1080x720 with 2 Axes>"
      ]
     },
     "metadata": {
      "needs_background": "light"
     },
     "output_type": "display_data"
    },
    {
     "data": {
      "text/html": [
       "<div>\n",
       "<style scoped>\n",
       "    .dataframe tbody tr th:only-of-type {\n",
       "        vertical-align: middle;\n",
       "    }\n",
       "\n",
       "    .dataframe tbody tr th {\n",
       "        vertical-align: top;\n",
       "    }\n",
       "\n",
       "    .dataframe thead th {\n",
       "        text-align: right;\n",
       "    }\n",
       "</style>\n",
       "<table border=\"1\" class=\"dataframe\">\n",
       "  <thead>\n",
       "    <tr style=\"text-align: right;\">\n",
       "      <th></th>\n",
       "      <th>Predicted Poison</th>\n",
       "      <th>Predicted Edible</th>\n",
       "    </tr>\n",
       "  </thead>\n",
       "  <tbody>\n",
       "    <tr>\n",
       "      <th>Actual Poison</th>\n",
       "      <td>3031</td>\n",
       "      <td>102</td>\n",
       "    </tr>\n",
       "    <tr>\n",
       "      <th>Actual Edible</th>\n",
       "      <td>637</td>\n",
       "      <td>2729</td>\n",
       "    </tr>\n",
       "  </tbody>\n",
       "</table>\n",
       "</div>"
      ],
      "text/plain": [
       "               Predicted Poison  Predicted Edible\n",
       "Actual Poison              3031               102\n",
       "Actual Edible               637              2729"
      ]
     },
     "execution_count": 56,
     "metadata": {},
     "output_type": "execute_result"
    }
   ],
   "source": [
    "model_analysis(tree, X_train, y_train)"
   ]
  },
  {
   "cell_type": "markdown",
   "metadata": {},
   "source": []
  },
  {
   "cell_type": "code",
   "execution_count": 57,
   "metadata": {},
   "outputs": [
    {
     "data": {
      "text/plain": [
       "0.8862901984920757"
      ]
     },
     "execution_count": 57,
     "metadata": {},
     "output_type": "execute_result"
    }
   ],
   "source": [
    "tree_predictions = tree.predict(X_train)\n",
    "\n",
    "accuracy_score(y_train, tree_predictions)"
   ]
  },
  {
   "cell_type": "markdown",
   "metadata": {},
   "source": []
  },
  {
   "cell_type": "code",
   "execution_count": 58,
   "metadata": {},
   "outputs": [
    {
     "name": "stderr",
     "output_type": "stream",
     "text": [
      "[Parallel(n_jobs=-1)]: Using backend LokyBackend with 10 concurrent workers.\n"
     ]
    },
    {
     "name": "stdout",
     "output_type": "stream",
     "text": [
      "[CV] START .....................................................................\n",
      "[CV] START .....................................................................[CV] START .....................................................................\n",
      "\n",
      "[CV] START .....................................................................\n",
      "[CV] START .....................................................................\n",
      "[CV] START .....................................................................\n",
      "[CV] START .....................................................................\n",
      "[CV] START .....................................................................\n",
      "[CV] START .....................................................................\n",
      "[CV] START .....................................................................\n",
      "[CV] END ..................., score=(train=0.991, test=0.985) total time=   0.2s\n",
      "[CV] END ..................., score=(train=0.990, test=0.991) total time=   0.2s\n",
      "[CV] END ..................., score=(train=0.991, test=0.997) total time=   0.2s\n",
      "[CV] END ..................., score=(train=0.992, test=0.989) total time=   0.2s\n",
      "[CV] END ..................., score=(train=0.990, test=0.997) total time=   0.2s\n",
      "[CV] END ..................., score=(train=0.990, test=0.994) total time=   0.2s\n",
      "[CV] END ..................., score=(train=0.991, test=0.983) total time=   0.2s\n",
      "[CV] END ..................., score=(train=0.990, test=0.992) total time=   0.2s\n",
      "[CV] END ..................., score=(train=0.990, test=0.986) total time=   0.2s\n",
      "[CV] END ..................., score=(train=0.990, test=0.991) total time=   0.2s\n"
     ]
    },
    {
     "name": "stderr",
     "output_type": "stream",
     "text": [
      "[Parallel(n_jobs=-1)]: Done   3 out of  10 | elapsed:    1.0s remaining:    2.4s\n",
      "[Parallel(n_jobs=-1)]: Done   5 out of  10 | elapsed:    1.0s remaining:    1.0s\n",
      "[Parallel(n_jobs=-1)]: Done   7 out of  10 | elapsed:    1.0s remaining:    0.4s\n",
      "[Parallel(n_jobs=-1)]: Done  10 out of  10 | elapsed:    1.0s finished\n"
     ]
    }
   ],
   "source": [
    "from sklearn.ensemble import RandomForestClassifier\n",
    "\n",
    "random_forest = RandomForestClassifier(n_estimators=100, max_depth=5)\n",
    "\n",
    "cv = cross_validate(estimator = random_forest, X = X_train, y = y_train, scoring='accuracy', n_jobs=-1, cv=10, verbose=10, return_train_score=True)"
   ]
  },
  {
   "cell_type": "code",
   "execution_count": null,
   "metadata": {},
   "outputs": [],
   "source": []
  },
  {
   "cell_type": "code",
   "execution_count": 59,
   "metadata": {},
   "outputs": [
    {
     "data": {
      "text/plain": [
       "0.9906139406062471"
      ]
     },
     "execution_count": 59,
     "metadata": {},
     "output_type": "execute_result"
    }
   ],
   "source": [
    "random_forest.fit(X_test, y_test)\n",
    "\n",
    "test_predictions = random_forest.predict(X_train)\n",
    "\n",
    "accuracy_score(y_train, test_predictions)"
   ]
  },
  {
   "cell_type": "code",
   "execution_count": null,
   "metadata": {},
   "outputs": [],
   "source": []
  },
  {
   "cell_type": "code",
   "execution_count": 60,
   "metadata": {},
   "outputs": [
    {
     "data": {
      "image/png": "[encoded data removed]",
      "text/plain": [
       "<Figure size 1080x720 with 1 Axes>"
      ]
     },
     "metadata": {
      "needs_background": "dark"
     },
     "output_type": "display_data"
    },
    {
     "name": "stdout",
     "output_type": "stream",
     "text": [
      "\n",
      "\n",
      "               precision    recall  f1-score   support\n",
      "\n",
      " 0-Poisonous       1.00      0.98      0.99      3133\n",
      "    1-Edible       0.98      1.00      0.99      3366\n",
      "\n",
      "    accuracy                           0.99      6499\n",
      "   macro avg       0.99      0.99      0.99      6499\n",
      "weighted avg       0.99      0.99      0.99      6499\n",
      "\n"
     ]
    },
    {
     "data": {
      "image/png": "[encoded data removed]",
      "text/plain": [
       "<Figure size 1080x720 with 2 Axes>"
      ]
     },
     "metadata": {
      "needs_background": "light"
     },
     "output_type": "display_data"
    },
    {
     "data": {
      "text/html": [
       "<div>\n",
       "<style scoped>\n",
       "    .dataframe tbody tr th:only-of-type {\n",
       "        vertical-align: middle;\n",
       "    }\n",
       "\n",
       "    .dataframe tbody tr th {\n",
       "        vertical-align: top;\n",
       "    }\n",
       "\n",
       "    .dataframe thead th {\n",
       "        text-align: right;\n",
       "    }\n",
       "</style>\n",
       "<table border=\"1\" class=\"dataframe\">\n",
       "  <thead>\n",
       "    <tr style=\"text-align: right;\">\n",
       "      <th></th>\n",
       "      <th>Predicted Poison</th>\n",
       "      <th>Predicted Edible</th>\n",
       "    </tr>\n",
       "  </thead>\n",
       "  <tbody>\n",
       "    <tr>\n",
       "      <th>Actual Poison</th>\n",
       "      <td>3072</td>\n",
       "      <td>61</td>\n",
       "    </tr>\n",
       "    <tr>\n",
       "      <th>Actual Edible</th>\n",
       "      <td>0</td>\n",
       "      <td>3366</td>\n",
       "    </tr>\n",
       "  </tbody>\n",
       "</table>\n",
       "</div>"
      ],
      "text/plain": [
       "               Predicted Poison  Predicted Edible\n",
       "Actual Poison              3072                61\n",
       "Actual Edible                 0              3366"
      ]
     },
     "execution_count": 60,
     "metadata": {},
     "output_type": "execute_result"
    }
   ],
   "source": [
    "model_analysis(random_forest, X_train, y_train)"
   ]
  },
  {
   "cell_type": "code",
   "execution_count": null,
   "metadata": {},
   "outputs": [],
   "source": []
  },
  {
   "cell_type": "code",
   "execution_count": 61,
   "metadata": {},
   "outputs": [
    {
     "name": "stderr",
     "output_type": "stream",
     "text": [
      "/opt/homebrew/lib/python3.9/site-packages/sklearn/model_selection/_search.py:292: UserWarning: The total space of parameters 30 is smaller than n_iter=100. Running 30 iterations. For exhaustive searches, use GridSearchCV.\n",
      "  warnings.warn(\n"
     ]
    },
    {
     "name": "stdout",
     "output_type": "stream",
     "text": [
      "Fitting 10 folds for each of 30 candidates, totalling 300 fits\n",
      "[CV 2/10; 1/30] START max_depth=1, n_estimators=10..............................\n",
      "[CV 1/10; 1/30] START max_depth=1, n_estimators=10..............................\n",
      "[CV 3/10; 1/30] START max_depth=1, n_estimators=10..............................\n",
      "[CV 5/10; 1/30] START max_depth=1, n_estimators=10..............................\n",
      "[CV 4/10; 1/30] START max_depth=1, n_estimators=10..............................\n",
      "[CV 6/10; 1/30] START max_depth=1, n_estimators=10..............................\n",
      "[CV 5/10; 1/30] END max_depth=1, n_estimators=10;, score=(train=0.915, test=0.929) total time=   0.0s\n",
      "[CV 4/10; 1/30] END max_depth=1, n_estimators=10;, score=(train=0.856, test=0.889) total time=   0.0s\n",
      "[CV 1/10; 1/30] END max_depth=1, n_estimators=10;, score=(train=0.869, test=0.844) total time=   0.0s\n",
      "[CV 3/10; 1/30] END max_depth=1, n_estimators=10;, score=(train=0.898, test=0.889) total time=   0.0s\n",
      "[CV 2/10; 1/30] END max_depth=1, n_estimators=10;, score=(train=0.881, test=0.851) total time=   0.0s\n",
      "[CV 6/10; 1/30] END max_depth=1, n_estimators=10;, score=(train=0.845, test=0.861) total time=   0.0s\n",
      "[CV 7/10; 1/30] START max_depth=1, n_estimators=10..............................\n",
      "[CV 8/10; 1/30] START max_depth=1, n_estimators=10..............................\n",
      "[CV 9/10; 1/30] START max_depth=1, n_estimators=10..............................\n",
      "[CV 10/10; 1/30] START max_depth=1, n_estimators=10.............................\n",
      "[CV 1/10; 2/30] START max_depth=1, n_estimators=25..............................\n",
      "[CV 2/10; 2/30] START max_depth=1, n_estimators=25..............................\n",
      "[CV 3/10; 2/30] START max_depth=1, n_estimators=25..............................\n",
      "[CV 4/10; 2/30] START max_depth=1, n_estimators=25..............................\n",
      "[CV 7/10; 1/30] END max_depth=1, n_estimators=10;, score=(train=0.933, test=0.942) total time=   0.0s\n",
      "[CV 8/10; 1/30] END max_depth=1, n_estimators=10;, score=(train=0.847, test=0.855) total time=   0.0s\n",
      "[CV 9/10; 1/30] END max_depth=1, n_estimators=10;, score=(train=0.827, test=0.814) total time=   0.0s\n",
      "[CV 5/10; 2/30] START max_depth=1, n_estimators=25..............................\n",
      "[CV 6/10; 2/30] START max_depth=1, n_estimators=25..............................\n",
      "[CV 10/10; 1/30] END max_depth=1, n_estimators=10;, score=(train=0.802, test=0.805) total time=   0.0s\n",
      "[CV 7/10; 2/30] START max_depth=1, n_estimators=25..............................\n",
      "[CV 8/10; 2/30] START max_depth=1, n_estimators=25..............................\n",
      "[CV 1/10; 2/30] END max_depth=1, n_estimators=25;, score=(train=0.853, test=0.804) total time=   0.0s\n",
      "[CV 9/10; 2/30] START max_depth=1, n_estimators=25..............................\n",
      "[CV 2/10; 2/30] END max_depth=1, n_estimators=25;, score=(train=0.881, test=0.851) total time=   0.0s\n",
      "[CV 3/10; 2/30] END max_depth=1, n_estimators=25;, score=(train=0.871, test=0.867) total time=   0.0s\n",
      "[CV 10/10; 2/30] START max_depth=1, n_estimators=25.............................\n",
      "[CV 4/10; 2/30] END max_depth=1, n_estimators=25;, score=(train=0.970, test=0.973) total time=   0.0s\n",
      "[CV 1/10; 3/30] START max_depth=1, n_estimators=50..............................\n",
      "[CV 6/10; 2/30] END max_depth=1, n_estimators=25;, score=(train=0.869, test=0.885) total time=   0.0s\n",
      "[CV 5/10; 2/30] END max_depth=1, n_estimators=25;, score=(train=0.928, test=0.948) total time=   0.0s\n",
      "[CV 7/10; 2/30] END max_depth=1, n_estimators=25;, score=(train=0.827, test=0.834) total time=   0.0s\n",
      "[CV 8/10; 2/30] END max_depth=1, n_estimators=25;, score=(train=0.856, test=0.866) total time=   0.0s\n",
      "[CV 9/10; 2/30] END max_depth=1, n_estimators=25;, score=(train=0.923, test=0.898) total time=   0.0s\n",
      "[CV 10/10; 2/30] END max_depth=1, n_estimators=25;, score=(train=0.825, test=0.816) total time=   0.0s\n",
      "[CV 3/10; 3/30] START max_depth=1, n_estimators=50..............................\n",
      "[CV 1/10; 4/30] START max_depth=1, n_estimators=100.............................\n",
      "[CV 7/10; 4/30] START max_depth=1, n_estimators=100.............................\n",
      "[CV 5/10; 3/30] START max_depth=1, n_estimators=50..............................\n",
      "[CV 7/10; 3/30] START max_depth=1, n_estimators=50..............................\n",
      "[CV 5/10; 4/30] START max_depth=1, n_estimators=100.............................\n",
      "[CV 9/10; 3/30] START max_depth=1, n_estimators=50..............................\n",
      "[CV 3/10; 4/30] START max_depth=1, n_estimators=100.............................\n",
      "[CV 1/10; 3/30] END max_depth=1, n_estimators=50;, score=(train=0.843, test=0.793) total time=   0.1s\n",
      "[CV 2/10; 3/30] START max_depth=1, n_estimators=50..............................\n",
      "[CV 9/10; 4/30] START max_depth=1, n_estimators=100.............................\n",
      "[CV 3/10; 3/30] END max_depth=1, n_estimators=50;, score=(train=0.830, test=0.827) total time=   0.1s\n",
      "[CV 4/10; 3/30] START max_depth=1, n_estimators=50..............................\n",
      "[CV 9/10; 3/30] END max_depth=1, n_estimators=50;, score=(train=0.835, test=0.823) total time=   0.1s\n",
      "[CV 10/10; 3/30] START max_depth=1, n_estimators=50.............................\n",
      "[CV 5/10; 3/30] END max_depth=1, n_estimators=50;, score=(train=0.825, test=0.857) total time=   0.1s\n",
      "[CV 6/10; 3/30] START max_depth=1, n_estimators=50..............................\n",
      "[CV 7/10; 3/30] END max_depth=1, n_estimators=50;, score=(train=0.826, test=0.838) total time=   0.1s\n",
      "[CV 8/10; 3/30] START max_depth=1, n_estimators=50..............................\n",
      "[CV 4/10; 3/30] END max_depth=1, n_estimators=50;, score=(train=0.844, test=0.875) total time=   0.1s\n",
      "[CV 1/10; 5/30] START max_depth=1, n_estimators=150.............................\n",
      "[CV 5/10; 4/30] END max_depth=1, n_estimators=100;, score=(train=0.880, test=0.911) total time=   0.1s\n",
      "[CV 6/10; 4/30] START max_depth=1, n_estimators=100.............................\n",
      "[CV 2/10; 3/30] END max_depth=1, n_estimators=50;, score=(train=0.852, test=0.822) total time=   0.1s\n",
      "[CV 3/10; 5/30] START max_depth=1, n_estimators=150.............................\n",
      "[CV 6/10; 3/30] END max_depth=1, n_estimators=50;, score=(train=0.906, test=0.931) total time=   0.1s\n",
      "[CV 5/10; 5/30] START max_depth=1, n_estimators=150.............................\n",
      "[CV 10/10; 3/30] END max_depth=1, n_estimators=50;, score=(train=0.827, test=0.824) total time=   0.1s\n",
      "[CV 8/10; 3/30] END max_depth=1, n_estimators=50;, score=(train=0.830, test=0.838) total time=   0.1s\n",
      "[CV 7/10; 5/30] START max_depth=1, n_estimators=150.............................\n",
      "[CV 9/10; 5/30] START max_depth=1, n_estimators=150.............................\n",
      "[CV 9/10; 4/30] END max_depth=1, n_estimators=100;, score=(train=0.863, test=0.851) total time=   0.1s\n",
      "[CV 10/10; 4/30] START max_depth=1, n_estimators=100............................\n",
      "[CV 1/10; 4/30] END max_depth=1, n_estimators=100;, score=(train=0.835, test=0.787) total time=   0.1s\n",
      "[CV 2/10; 4/30] START max_depth=1, n_estimators=100.............................\n",
      "[CV 7/10; 4/30] END max_depth=1, n_estimators=100;, score=(train=0.878, test=0.875) total time=   0.2s\n",
      "[CV 8/10; 4/30] START max_depth=1, n_estimators=100.............................\n",
      "[CV 3/10; 4/30] END max_depth=1, n_estimators=100;, score=(train=0.852, test=0.849) total time=   0.2s\n",
      "[CV 4/10; 4/30] START max_depth=1, n_estimators=100.............................\n",
      "[CV 6/10; 4/30] END max_depth=1, n_estimators=100;, score=(train=0.834, test=0.849) total time=   0.1s\n",
      "[CV 1/10; 6/30] START max_depth=1, n_estimators=200.............................\n",
      "[CV 2/10; 4/30] END max_depth=1, n_estimators=100;, score=(train=0.844, test=0.820) total time=   0.1s\n",
      "[CV 3/10; 6/30] START max_depth=1, n_estimators=200.............................\n",
      "[CV 10/10; 4/30] END max_depth=1, n_estimators=100;, score=(train=0.868, test=0.868) total time=   0.2s\n",
      "[CV 8/10; 4/30] END max_depth=1, n_estimators=100;, score=(train=0.837, test=0.851) total time=   0.1s\n",
      "[CV 5/10; 6/30] START max_depth=1, n_estimators=200.............................\n",
      "[CV 7/10; 6/30] START max_depth=1, n_estimators=200.............................\n",
      "[CV 4/10; 4/30] END max_depth=1, n_estimators=100;, score=(train=0.840, test=0.885) total time=   0.2s\n",
      "[CV 3/10; 5/30] END max_depth=1, n_estimators=150;, score=(train=0.833, test=0.830) total time=   0.2s\n",
      "[CV 4/10; 5/30] START max_depth=1, n_estimators=150.............................\n",
      "[CV 9/10; 6/30] START max_depth=1, n_estimators=200.............................\n",
      "[CV 5/10; 5/30] END max_depth=1, n_estimators=150;, score=(train=0.848, test=0.877) total time=   0.2s\n",
      "[CV 6/10; 5/30] START max_depth=1, n_estimators=150.............................\n",
      "[CV 1/10; 5/30] END max_depth=1, n_estimators=150;, score=(train=0.864, test=0.814) total time=   0.2s\n",
      "[CV 2/10; 5/30] START max_depth=1, n_estimators=150.............................\n",
      "[CV 7/10; 5/30] END max_depth=1, n_estimators=150;, score=(train=0.837, test=0.844) total time=   0.2s\n",
      "[CV 8/10; 5/30] START max_depth=1, n_estimators=150.............................\n",
      "[CV 9/10; 5/30] END max_depth=1, n_estimators=150;, score=(train=0.850, test=0.838) total time=   0.2s\n",
      "[CV 10/10; 5/30] START max_depth=1, n_estimators=150............................\n",
      "[CV 6/10; 5/30] END max_depth=1, n_estimators=150;, score=(train=0.874, test=0.895) total time=   0.2s\n",
      "[CV 4/10; 5/30] END max_depth=1, n_estimators=150;, score=(train=0.835, test=0.869) total time=   0.2s\n",
      "[CV 8/10; 5/30] END max_depth=1, n_estimators=150;, score=(train=0.855, test=0.866) total time=   0.2s\n",
      "[CV 2/10; 5/30] END max_depth=1, n_estimators=150;, score=(train=0.840, test=0.815) total time=   0.2s\n",
      "[CV 1/10; 7/30] START max_depth=2, n_estimators=10..............................[CV 3/10; 7/30] START max_depth=2, n_estimators=10..............................\n",
      "\n",
      "[CV 7/10; 7/30] START max_depth=2, n_estimators=10..............................[CV 10/10; 5/30] END max_depth=1, n_estimators=150;, score=(train=0.837, test=0.836) total time=   0.2s\n",
      "\n",
      "[CV 5/10; 7/30] START max_depth=2, n_estimators=10..............................\n",
      "[CV 9/10; 7/30] START max_depth=2, n_estimators=10..............................\n",
      "[CV 1/10; 7/30] END max_depth=2, n_estimators=10;, score=(train=0.879, test=0.843) total time=   0.0s\n",
      "[CV 2/10; 7/30] START max_depth=2, n_estimators=10..............................\n",
      "[CV 3/10; 7/30] END max_depth=2, n_estimators=10;, score=(train=0.881, test=0.875) total time=   0.0s\n",
      "[CV 4/10; 7/30] START max_depth=2, n_estimators=10..............................\n",
      "[CV 7/10; 6/30] END max_depth=1, n_estimators=200;, score=(train=0.863, test=0.857) total time=   0.2s\n",
      "[CV 8/10; 6/30] START max_depth=1, n_estimators=200.............................\n",
      "[CV 3/10; 6/30] END max_depth=1, n_estimators=200;, score=(train=0.858, test=0.849) total time=   0.2s\n",
      "[CV 4/10; 6/30] START max_depth=1, n_estimators=200.............................\n",
      "[CV 5/10; 7/30] END max_depth=2, n_estimators=10;, score=(train=0.948, test=0.954) total time=   0.0s\n",
      "[CV 6/10; 7/30] START max_depth=2, n_estimators=10..............................\n",
      "[CV 7/10; 7/30] END max_depth=2, n_estimators=10;, score=(train=0.921, test=0.933) total time=   0.0s\n",
      "[CV 8/10; 7/30] START max_depth=2, n_estimators=10..............................\n",
      "[CV 9/10; 7/30] END max_depth=2, n_estimators=10;, score=(train=0.973, test=0.957) total time=   0.0s\n",
      "[CV 10/10; 7/30] START max_depth=2, n_estimators=10.............................\n",
      "[CV 1/10; 6/30] END max_depth=1, n_estimators=200;, score=(train=0.870, test=0.824) total time=   0.3s\n",
      "[CV 2/10; 6/30] START max_depth=1, n_estimators=200.............................\n",
      "[CV 2/10; 7/30] END max_depth=2, n_estimators=10;, score=(train=0.915, test=0.880) total time=   0.0s\n",
      "[CV 4/10; 7/30] END max_depth=2, n_estimators=10;, score=(train=0.898, test=0.911) total time=   0.0s\n",
      "[CV 1/10; 8/30] START max_depth=2, n_estimators=25..............................\n",
      "[CV 5/10; 6/30] END max_depth=1, n_estimators=200;, score=(train=0.829, test=0.862) total time=   0.2s\n",
      "[CV 6/10; 6/30] START max_depth=1, n_estimators=200.............................\n",
      "[CV 3/10; 8/30] START max_depth=2, n_estimators=25..............................\n",
      "[CV 6/10; 7/30] END max_depth=2, n_estimators=10;, score=(train=0.855, test=0.853) total time=   0.0s\n",
      "[CV 5/10; 8/30] START max_depth=2, n_estimators=25..............................\n",
      "[CV 8/10; 7/30] END max_depth=2, n_estimators=10;, score=(train=0.952, test=0.968) total time=   0.0s\n",
      "[CV 10/10; 7/30] END max_depth=2, n_estimators=10;, score=(train=0.946, test=0.938) total time=   0.0s\n",
      "[CV 9/10; 6/30] END max_depth=1, n_estimators=200;, score=(train=0.834, test=0.820) total time=   0.2s\n",
      "[CV 10/10; 6/30] START max_depth=1, n_estimators=200............................\n",
      "[CV 7/10; 8/30] START max_depth=2, n_estimators=25..............................\n",
      "[CV 9/10; 8/30] START max_depth=2, n_estimators=25..............................\n",
      "[CV 3/10; 8/30] END max_depth=2, n_estimators=25;, score=(train=0.909, test=0.895) total time=   0.0s\n",
      "[CV 4/10; 8/30] START max_depth=2, n_estimators=25..............................\n",
      "[CV 1/10; 8/30] END max_depth=2, n_estimators=25;, score=(train=0.956, test=0.943) total time=   0.0s\n",
      "[CV 2/10; 8/30] START max_depth=2, n_estimators=25..............................\n",
      "[CV 7/10; 8/30] END max_depth=2, n_estimators=25;, score=(train=0.929, test=0.936) total time=   0.0s\n",
      "[CV 8/10; 8/30] START max_depth=2, n_estimators=25..............................\n",
      "[CV 9/10; 8/30] END max_depth=2, n_estimators=25;, score=(train=0.902, test=0.869) total time=   0.0s\n",
      "[CV 10/10; 8/30] START max_depth=2, n_estimators=25.............................\n",
      "[CV 5/10; 8/30] END max_depth=2, n_estimators=25;, score=(train=0.891, test=0.922) total time=   0.1s\n",
      "[CV 6/10; 8/30] START max_depth=2, n_estimators=25..............................\n",
      "[CV 2/10; 8/30] END max_depth=2, n_estimators=25;, score=(train=0.887, test=0.856) total time=   0.0s\n",
      "[CV 10/10; 8/30] END max_depth=2, n_estimators=25;, score=(train=0.846, test=0.842) total time=   0.0s\n",
      "[CV 8/10; 8/30] END max_depth=2, n_estimators=25;, score=(train=0.857, test=0.862) total time=   0.0s\n",
      "[CV 4/10; 8/30] END max_depth=2, n_estimators=25;, score=(train=0.896, test=0.916) total time=   0.1s\n",
      "[CV 7/10; 9/30] START max_depth=2, n_estimators=50..............................\n",
      "[CV 3/10; 9/30] START max_depth=2, n_estimators=50..............................\n",
      "[CV 1/10; 9/30] START max_depth=2, n_estimators=50..............................\n",
      "[CV 6/10; 8/30] END max_depth=2, n_estimators=25;, score=(train=0.891, test=0.908) total time=   0.0s\n",
      "[CV 9/10; 9/30] START max_depth=2, n_estimators=50..............................\n",
      "[CV 5/10; 9/30] START max_depth=2, n_estimators=50..............................\n",
      "[CV 1/10; 9/30] END max_depth=2, n_estimators=50;, score=(train=0.951, test=0.949) total time=   0.1s\n",
      "[CV 8/10; 6/30] END max_depth=1, n_estimators=200;, score=(train=0.835, test=0.848) total time=   0.2s\n",
      "[CV 2/10; 9/30] START max_depth=2, n_estimators=50..............................\n",
      "[CV 7/10; 9/30] END max_depth=2, n_estimators=50;, score=(train=0.876, test=0.874) total time=   0.1s\n",
      "[CV 8/10; 9/30] START max_depth=2, n_estimators=50..............................\n",
      "[CV 1/10; 10/30] START max_depth=2, n_estimators=100............................\n",
      "[CV 3/10; 9/30] END max_depth=2, n_estimators=50;, score=(train=0.857, test=0.856) total time=   0.1s\n",
      "[CV 4/10; 9/30] START max_depth=2, n_estimators=50..............................\n",
      "[CV 2/10; 6/30] END max_depth=1, n_estimators=200;, score=(train=0.862, test=0.826) total time=   0.2s\n",
      "[CV 9/10; 9/30] END max_depth=2, n_estimators=50;, score=(train=0.888, test=0.866) total time=   0.1s\n",
      "[CV 10/10; 9/30] START max_depth=2, n_estimators=50.............................\n",
      "[CV 5/10; 9/30] END max_depth=2, n_estimators=50;, score=(train=0.871, test=0.896) total time=   0.1s\n",
      "[CV 6/10; 9/30] START max_depth=2, n_estimators=50..............................\n",
      "[CV 3/10; 10/30] START max_depth=2, n_estimators=100............................\n",
      "[CV 6/10; 6/30] END max_depth=1, n_estimators=200;, score=(train=0.836, test=0.850) total time=   0.2s\n",
      "[CV 2/10; 9/30] END max_depth=2, n_estimators=50;, score=(train=0.910, test=0.896) total time=   0.1s\n",
      "[CV 4/10; 6/30] END max_depth=1, n_estimators=200;, score=(train=0.854, test=0.885) total time=   0.3s\n",
      "[CV 5/10; 10/30] START max_depth=2, n_estimators=100............................\n",
      "[CV 7/10; 10/30] START max_depth=2, n_estimators=100............................\n",
      "[CV 4/10; 9/30] END max_depth=2, n_estimators=50;, score=(train=0.923, test=0.947) total time=   0.1s\n",
      "[CV 8/10; 9/30] END max_depth=2, n_estimators=50;, score=(train=0.866, test=0.886) total time=   0.1s\n",
      "[CV 9/10; 10/30] START max_depth=2, n_estimators=100............................\n",
      "[CV 6/10; 9/30] END max_depth=2, n_estimators=50;, score=(train=0.933, test=0.966) total time=   0.1s\n",
      "[CV 10/10; 9/30] END max_depth=2, n_estimators=50;, score=(train=0.858, test=0.851) total time=   0.1s\n",
      "[CV 10/10; 6/30] END max_depth=1, n_estimators=200;, score=(train=0.846, test=0.841) total time=   0.3s\n",
      "[CV 1/10; 11/30] START max_depth=2, n_estimators=150............................\n",
      "[CV 1/10; 10/30] END max_depth=2, n_estimators=100;, score=(train=0.875, test=0.848) total time=   0.1s\n",
      "[CV 2/10; 10/30] START max_depth=2, n_estimators=100............................\n",
      "[CV 5/10; 11/30] START max_depth=2, n_estimators=150............................\n",
      "[CV 9/10; 11/30] START max_depth=2, n_estimators=150............................\n",
      "[CV 3/10; 11/30] START max_depth=2, n_estimators=150............................\n",
      "[CV 7/10; 11/30] START max_depth=2, n_estimators=150............................\n",
      "[CV 3/10; 10/30] END max_depth=2, n_estimators=100;, score=(train=0.896, test=0.880) total time=   0.1s\n",
      "[CV 4/10; 10/30] START max_depth=2, n_estimators=100............................\n",
      "[CV 7/10; 10/30] END max_depth=2, n_estimators=100;, score=(train=0.872, test=0.873) total time=   0.1s\n",
      "[CV 8/10; 10/30] START max_depth=2, n_estimators=100............................\n",
      "[CV 9/10; 10/30] END max_depth=2, n_estimators=100;, score=(train=0.951, test=0.928) total time=   0.1s\n",
      "[CV 10/10; 10/30] START max_depth=2, n_estimators=100...........................\n",
      "[CV 5/10; 10/30] END max_depth=2, n_estimators=100;, score=(train=0.904, test=0.921) total time=   0.2s\n",
      "[CV 6/10; 10/30] START max_depth=2, n_estimators=100............................\n",
      "[CV 2/10; 10/30] END max_depth=2, n_estimators=100;, score=(train=0.891, test=0.880) total time=   0.1s\n",
      "[CV 4/10; 10/30] END max_depth=2, n_estimators=100;, score=(train=0.933, test=0.954) total time=   0.2s\n",
      "[CV 1/10; 12/30] START max_depth=2, n_estimators=200............................\n",
      "[CV 5/10; 11/30] END max_depth=2, n_estimators=150;, score=(train=0.883, test=0.906) total time=   0.2s\n",
      "[CV 6/10; 11/30] START max_depth=2, n_estimators=150............................\n",
      "[CV 1/10; 11/30] END max_depth=2, n_estimators=150;, score=(train=0.900, test=0.882) total time=   0.2s\n",
      "[CV 2/10; 11/30] START max_depth=2, n_estimators=150............................\n",
      "[CV 3/10; 11/30] END max_depth=2, n_estimators=150;, score=(train=0.918, test=0.918) total time=   0.2s\n",
      "[CV 4/10; 11/30] START max_depth=2, n_estimators=150............................\n",
      "[CV 9/10; 11/30] END max_depth=2, n_estimators=150;, score=(train=0.914, test=0.887) total time=   0.2s\n",
      "[CV 10/10; 11/30] START max_depth=2, n_estimators=150...........................\n",
      "[CV 10/10; 10/30] END max_depth=2, n_estimators=100;, score=(train=0.880, test=0.873) total time=   0.1s\n",
      "[CV 3/10; 12/30] START max_depth=2, n_estimators=200............................\n",
      "[CV 8/10; 10/30] END max_depth=2, n_estimators=100;, score=(train=0.939, test=0.957) total time=   0.2s\n",
      "[CV 6/10; 10/30] END max_depth=2, n_estimators=100;, score=(train=0.902, test=0.921) total time=   0.1s\n",
      "[CV 5/10; 12/30] START max_depth=2, n_estimators=200............................\n",
      "[CV 7/10; 11/30] END max_depth=2, n_estimators=150;, score=(train=0.862, test=0.857) total time=   0.2s\n",
      "[CV 8/10; 11/30] START max_depth=2, n_estimators=150............................\n",
      "[CV 7/10; 12/30] START max_depth=2, n_estimators=200............................\n",
      "[CV 9/10; 12/30] START max_depth=2, n_estimators=200............................\n",
      "[CV 6/10; 11/30] END max_depth=2, n_estimators=150;, score=(train=0.912, test=0.926) total time=   0.2s\n",
      "[CV 10/10; 11/30] END max_depth=2, n_estimators=150;, score=(train=0.909, test=0.908) total time=   0.2s\n",
      "[CV 2/10; 11/30] END max_depth=2, n_estimators=150;, score=(train=0.880, test=0.851) total time=   0.2s\n",
      "[CV 4/10; 11/30] END max_depth=2, n_estimators=150;, score=(train=0.941, test=0.947) total time=   0.2s\n",
      "[CV 3/10; 13/30] START max_depth=3, n_estimators=10.............................\n",
      "[CV 8/10; 11/30] END max_depth=2, n_estimators=150;, score=(train=0.923, test=0.936) total time=   0.2s\n",
      "[CV 1/10; 13/30] START max_depth=3, n_estimators=10.............................\n",
      "[CV 5/10; 13/30] START max_depth=3, n_estimators=10.............................\n",
      "[CV 7/10; 13/30] START max_depth=3, n_estimators=10.............................\n",
      "[CV 9/10; 13/30] START max_depth=3, n_estimators=10.............................\n",
      "[CV 3/10; 13/30] END max_depth=3, n_estimators=10;, score=(train=0.922, test=0.911) total time=   0.0s\n",
      "[CV 4/10; 13/30] START max_depth=3, n_estimators=10.............................\n",
      "[CV 1/10; 13/30] END max_depth=3, n_estimators=10;, score=(train=0.982, test=0.974) total time=   0.0s\n",
      "[CV 2/10; 13/30] START max_depth=3, n_estimators=10.............................\n",
      "[CV 5/10; 13/30] END max_depth=3, n_estimators=10;, score=(train=0.911, test=0.933) total time=   0.0s\n",
      "[CV 6/10; 13/30] START max_depth=3, n_estimators=10.............................\n",
      "[CV 7/10; 13/30] END max_depth=3, n_estimators=10;, score=(train=0.917, test=0.926) total time=   0.0s\n",
      "[CV 8/10; 13/30] START max_depth=3, n_estimators=10.............................\n",
      "[CV 1/10; 12/30] END max_depth=2, n_estimators=200;, score=(train=0.897, test=0.882) total time=   0.3s\n",
      "[CV 2/10; 12/30] START max_depth=2, n_estimators=200............................\n",
      "[CV 9/10; 13/30] END max_depth=3, n_estimators=10;, score=(train=0.903, test=0.898) total time=   0.0s\n",
      "[CV 10/10; 13/30] START max_depth=3, n_estimators=10............................\n",
      "[CV 4/10; 13/30] END max_depth=3, n_estimators=10;, score=(train=0.932, test=0.947) total time=   0.0s\n",
      "[CV 6/10; 13/30] END max_depth=3, n_estimators=10;, score=(train=0.974, test=0.988) total time=   0.0s\n",
      "[CV 2/10; 13/30] END max_depth=3, n_estimators=10;, score=(train=0.953, test=0.929) total time=   0.0s\n",
      "[CV 8/10; 13/30] END max_depth=3, n_estimators=10;, score=(train=0.913, test=0.939) total time=   0.0s\n",
      "[CV 10/10; 13/30] END max_depth=3, n_estimators=10;, score=(train=0.964, test=0.948) total time=   0.0s\n",
      "[CV 3/10; 12/30] END max_depth=2, n_estimators=200;, score=(train=0.884, test=0.885) total time=   0.3s\n",
      "[CV 4/10; 12/30] START max_depth=2, n_estimators=200............................\n",
      "[CV 3/10; 14/30] START max_depth=3, n_estimators=25.............................\n",
      "[CV 1/10; 14/30] START max_depth=3, n_estimators=25.............................\n",
      "[CV 9/10; 14/30] START max_depth=3, n_estimators=25.............................\n",
      "[CV 5/10; 14/30] START max_depth=3, n_estimators=25.............................\n",
      "[CV 7/10; 14/30] START max_depth=3, n_estimators=25.............................\n",
      "[CV 9/10; 12/30] END max_depth=2, n_estimators=200;, score=(train=0.875, test=0.856) total time=   0.3s\n",
      "[CV 10/10; 12/30] START max_depth=2, n_estimators=200...........................\n",
      "[CV 5/10; 12/30] END max_depth=2, n_estimators=200;, score=(train=0.902, test=0.918) total time=   0.3s\n",
      "[CV 6/10; 12/30] START max_depth=2, n_estimators=200............................\n",
      "[CV 1/10; 14/30] END max_depth=3, n_estimators=25;, score=(train=0.978, test=0.968) total time=   0.0s\n",
      "[CV 2/10; 14/30] START max_depth=3, n_estimators=25.............................\n",
      "[CV 5/10; 14/30] END max_depth=3, n_estimators=25;, score=(train=0.897, test=0.918) total time=   0.0s\n",
      "[CV 6/10; 14/30] START max_depth=3, n_estimators=25.............................\n",
      "[CV 7/10; 14/30] END max_depth=3, n_estimators=25;, score=(train=0.980, test=0.985) total time=   0.0s\n",
      "[CV 8/10; 14/30] START max_depth=3, n_estimators=25.............................\n",
      "[CV 9/10; 14/30] END max_depth=3, n_estimators=25;, score=(train=0.973, test=0.957) total time=   0.0s\n",
      "[CV 10/10; 14/30] START max_depth=3, n_estimators=25............................\n",
      "[CV 3/10; 14/30] END max_depth=3, n_estimators=25;, score=(train=0.980, test=0.982) total time=   0.1s\n",
      "[CV 4/10; 14/30] START max_depth=3, n_estimators=25.............................\n",
      "[CV 7/10; 12/30] END max_depth=2, n_estimators=200;, score=(train=0.936, test=0.931) total time=   0.3s\n",
      "[CV 8/10; 12/30] START max_depth=2, n_estimators=200............................\n",
      "[CV 6/10; 14/30] END max_depth=3, n_estimators=25;, score=(train=0.923, test=0.949) total time=   0.0s\n",
      "[CV 8/10; 14/30] END max_depth=3, n_estimators=25;, score=(train=0.935, test=0.946) total time=   0.0s\n",
      "[CV 2/10; 14/30] END max_depth=3, n_estimators=25;, score=(train=0.980, test=0.971) total time=   0.0s\n",
      "[CV 4/10; 14/30] END max_depth=3, n_estimators=25;, score=(train=0.974, test=0.971) total time=   0.0s\n",
      "[CV 10/10; 14/30] END max_depth=3, n_estimators=25;, score=(train=0.957, test=0.944) total time=   0.0s\n",
      "[CV 1/10; 15/30] START max_depth=3, n_estimators=50.............................\n",
      "[CV 3/10; 15/30] START max_depth=3, n_estimators=50.............................\n",
      "[CV 9/10; 15/30] START max_depth=3, n_estimators=50.............................\n",
      "[CV 5/10; 15/30] START max_depth=3, n_estimators=50.............................\n",
      "[CV 7/10; 15/30] START max_depth=3, n_estimators=50.............................\n",
      "[CV 1/10; 15/30] END max_depth=3, n_estimators=50;, score=(train=0.969, test=0.966) total time=   0.1s\n",
      "[CV 2/10; 15/30] START max_depth=3, n_estimators=50.............................\n",
      "[CV 5/10; 15/30] END max_depth=3, n_estimators=50;, score=(train=0.973, test=0.977) total time=   0.1s\n",
      "[CV 6/10; 15/30] START max_depth=3, n_estimators=50.............................\n",
      "[CV 3/10; 15/30] END max_depth=3, n_estimators=50;, score=(train=0.980, test=0.983) total time=   0.1s\n",
      "[CV 4/10; 15/30] START max_depth=3, n_estimators=50.............................\n",
      "[CV 7/10; 15/30] END max_depth=3, n_estimators=50;, score=(train=0.981, test=0.985) total time=   0.1s\n",
      "[CV 8/10; 15/30] START max_depth=3, n_estimators=50.............................\n",
      "[CV 9/10; 15/30] END max_depth=3, n_estimators=50;, score=(train=0.981, test=0.963) total time=   0.1s\n",
      "[CV 10/10; 15/30] START max_depth=3, n_estimators=50............................\n",
      "[CV 2/10; 15/30] END max_depth=3, n_estimators=50;, score=(train=0.916, test=0.880) total time=   0.1s\n",
      "[CV 4/10; 12/30] END max_depth=2, n_estimators=200;, score=(train=0.941, test=0.939) total time=   0.3s\n",
      "[CV 4/10; 15/30] END max_depth=3, n_estimators=50;, score=(train=0.980, test=0.980) total time=   0.1s\n",
      "[CV 10/10; 12/30] END max_depth=2, n_estimators=200;, score=(train=0.892, test=0.906) total time=   0.3s\n",
      "[CV 6/10; 15/30] END max_depth=3, n_estimators=50;, score=(train=0.932, test=0.935) total time=   0.1s\n",
      "[CV 2/10; 12/30] END max_depth=2, n_estimators=200;, score=(train=0.891, test=0.862) total time=   0.3s\n",
      "[CV 1/10; 16/30] START max_depth=3, n_estimators=100............................\n",
      "[CV 8/10; 15/30] END max_depth=3, n_estimators=50;, score=(train=0.963, test=0.982) total time=   0.1s\n",
      "[CV 10/10; 15/30] END max_depth=3, n_estimators=50;, score=(train=0.967, test=0.963) total time=   0.1s\n",
      "[CV 7/10; 16/30] START max_depth=3, n_estimators=100............................\n",
      "[CV 3/10; 16/30] START max_depth=3, n_estimators=100............................[CV 1/10; 17/30] START max_depth=3, n_estimators=150............................\n",
      "\n",
      "[CV 9/10; 16/30] START max_depth=3, n_estimators=100............................\n",
      "[CV 5/10; 16/30] START max_depth=3, n_estimators=100............................\n",
      "[CV 6/10; 12/30] END max_depth=2, n_estimators=200;, score=(train=0.927, test=0.947) total time=   0.3s\n",
      "[CV 5/10; 17/30] START max_depth=3, n_estimators=150............................\n",
      "[CV 3/10; 17/30] START max_depth=3, n_estimators=150............................\n",
      "[CV 8/10; 12/30] END max_depth=2, n_estimators=200;, score=(train=0.927, test=0.944) total time=   0.3s\n",
      "[CV 7/10; 17/30] START max_depth=3, n_estimators=150............................\n",
      "[CV 9/10; 17/30] START max_depth=3, n_estimators=150............................\n",
      "[CV 7/10; 16/30] END max_depth=3, n_estimators=100;, score=(train=0.981, test=0.985) total time=   0.1s\n",
      "[CV 8/10; 16/30] START max_depth=3, n_estimators=100............................\n",
      "[CV 9/10; 16/30] END max_depth=3, n_estimators=100;, score=(train=0.976, test=0.963) total time=   0.1s\n",
      "[CV 10/10; 16/30] START max_depth=3, n_estimators=100...........................\n",
      "[CV 3/10; 16/30] END max_depth=3, n_estimators=100;, score=(train=0.981, test=0.983) total time=   0.1s\n",
      "[CV 4/10; 16/30] START max_depth=3, n_estimators=100............................\n",
      "[CV 1/10; 16/30] END max_depth=3, n_estimators=100;, score=(train=0.954, test=0.955) total time=   0.2s\n",
      "[CV 2/10; 16/30] START max_depth=3, n_estimators=100............................\n",
      "[CV 5/10; 16/30] END max_depth=3, n_estimators=100;, score=(train=0.980, test=0.988) total time=   0.1s\n",
      "[CV 6/10; 16/30] START max_depth=3, n_estimators=100............................\n",
      "[CV 1/10; 17/30] END max_depth=3, n_estimators=150;, score=(train=0.982, test=0.974) total time=   0.2s\n",
      "[CV 2/10; 17/30] START max_depth=3, n_estimators=150............................\n",
      "[CV 5/10; 17/30] END max_depth=3, n_estimators=150;, score=(train=0.980, test=0.988) total time=   0.2s\n",
      "[CV 6/10; 17/30] START max_depth=3, n_estimators=150............................\n",
      "[CV 7/10; 17/30] END max_depth=3, n_estimators=150;, score=(train=0.976, test=0.985) total time=   0.2s\n",
      "[CV 8/10; 17/30] START max_depth=3, n_estimators=150............................\n",
      "[CV 3/10; 17/30] END max_depth=3, n_estimators=150;, score=(train=0.981, test=0.983) total time=   0.3s\n",
      "[CV 4/10; 17/30] START max_depth=3, n_estimators=150............................\n",
      "[CV 10/10; 16/30] END max_depth=3, n_estimators=100;, score=(train=0.967, test=0.966) total time=   0.2s\n",
      "[CV 9/10; 17/30] END max_depth=3, n_estimators=150;, score=(train=0.981, test=0.963) total time=   0.2s\n",
      "[CV 10/10; 17/30] START max_depth=3, n_estimators=150...........................\n",
      "[CV 4/10; 16/30] END max_depth=3, n_estimators=100;, score=(train=0.981, test=0.983) total time=   0.2s\n",
      "[CV 2/10; 16/30] END max_depth=3, n_estimators=100;, score=(train=0.969, test=0.966) total time=   0.2s\n",
      "[CV 6/10; 16/30] END max_depth=3, n_estimators=100;, score=(train=0.974, test=0.991) total time=   0.2s\n",
      "[CV 8/10; 16/30] END max_depth=3, n_estimators=100;, score=(train=0.972, test=0.994) total time=   0.2s\n",
      "[CV 3/10; 18/30] START max_depth=3, n_estimators=200............................\n",
      "[CV 1/10; 18/30] START max_depth=3, n_estimators=200............................\n",
      "[CV 5/10; 18/30] START max_depth=3, n_estimators=200............................\n",
      "[CV 7/10; 18/30] START max_depth=3, n_estimators=200............................\n",
      "[CV 9/10; 18/30] START max_depth=3, n_estimators=200............................\n",
      "[CV 2/10; 17/30] END max_depth=3, n_estimators=150;, score=(train=0.982, test=0.974) total time=   0.2s\n",
      "[CV 1/10; 19/30] START max_depth=4, n_estimators=10.............................\n",
      "[CV 8/10; 17/30] END max_depth=3, n_estimators=150;, score=(train=0.978, test=0.994) total time=   0.2s\n",
      "[CV 3/10; 19/30] START max_depth=4, n_estimators=10.............................\n",
      "[CV 1/10; 19/30] END max_depth=4, n_estimators=10;, score=(train=0.949, test=0.947) total time=   0.0s\n",
      "[CV 2/10; 19/30] START max_depth=4, n_estimators=10.............................\n",
      "[CV 6/10; 17/30] END max_depth=3, n_estimators=150;, score=(train=0.959, test=0.977) total time=   0.3s\n",
      "[CV 4/10; 17/30] END max_depth=3, n_estimators=150;, score=(train=0.981, test=0.983) total time=   0.2s\n",
      "[CV 3/10; 19/30] END max_depth=4, n_estimators=10;, score=(train=0.965, test=0.974) total time=   0.0s\n",
      "[CV 4/10; 19/30] START max_depth=4, n_estimators=10.............................\n",
      "[CV 5/10; 19/30] START max_depth=4, n_estimators=10.............................\n",
      "[CV 2/10; 19/30] END max_depth=4, n_estimators=10;, score=(train=0.973, test=0.955) total time=   0.0s\n",
      "[CV 10/10; 17/30] END max_depth=3, n_estimators=150;, score=(train=0.974, test=0.968) total time=   0.2s\n",
      "[CV 7/10; 19/30] START max_depth=4, n_estimators=10.............................\n",
      "[CV 1/10; 20/30] START max_depth=4, n_estimators=25.............................[CV 9/10; 19/30] START max_depth=4, n_estimators=10.............................\n",
      "\n",
      "[CV 4/10; 19/30] END max_depth=4, n_estimators=10;, score=(train=0.979, test=0.983) total time=   0.0s\n",
      "[CV 5/10; 19/30] END max_depth=4, n_estimators=10;, score=(train=0.911, test=0.933) total time=   0.0s\n",
      "[CV 6/10; 19/30] START max_depth=4, n_estimators=10.............................\n",
      "[CV 3/10; 20/30] START max_depth=4, n_estimators=25.............................\n",
      "[CV 7/10; 19/30] END max_depth=4, n_estimators=10;, score=(train=0.894, test=0.901) total time=   0.0s\n",
      "[CV 8/10; 19/30] START max_depth=4, n_estimators=10.............................\n",
      "[CV 9/10; 19/30] END max_depth=4, n_estimators=10;, score=(train=0.965, test=0.946) total time=   0.0s\n",
      "[CV 10/10; 19/30] START max_depth=4, n_estimators=10............................\n",
      "[CV 6/10; 19/30] END max_depth=4, n_estimators=10;, score=(train=0.950, test=0.968) total time=   0.0s\n",
      "[CV 8/10; 19/30] END max_depth=4, n_estimators=10;, score=(train=0.981, test=0.994) total time=   0.0s\n",
      "[CV 5/10; 20/30] START max_depth=4, n_estimators=25.............................\n",
      "[CV 7/10; 20/30] START max_depth=4, n_estimators=25.............................\n",
      "[CV 10/10; 19/30] END max_depth=4, n_estimators=10;, score=(train=0.951, test=0.924) total time=   0.0s\n",
      "[CV 9/10; 20/30] START max_depth=4, n_estimators=25.............................\n",
      "[CV 1/10; 20/30] END max_depth=4, n_estimators=25;, score=(train=0.982, test=0.974) total time=   0.0s\n",
      "[CV 2/10; 20/30] START max_depth=4, n_estimators=25.............................\n",
      "[CV 1/10; 18/30] END max_depth=3, n_estimators=200;, score=(train=0.969, test=0.963) total time=   0.3s\n",
      "[CV 2/10; 18/30] START max_depth=3, n_estimators=200............................\n",
      "[CV 5/10; 18/30] END max_depth=3, n_estimators=200;, score=(train=0.980, test=0.988) total time=   0.3s\n",
      "[CV 6/10; 18/30] START max_depth=3, n_estimators=200............................\n",
      "[CV 3/10; 20/30] END max_depth=4, n_estimators=25;, score=(train=0.981, test=0.983) total time=   0.1s\n",
      "[CV 4/10; 20/30] START max_depth=4, n_estimators=25.............................\n",
      "[CV 5/10; 20/30] END max_depth=4, n_estimators=25;, score=(train=0.974, test=0.983) total time=   0.0s\n",
      "[CV 6/10; 20/30] START max_depth=4, n_estimators=25.............................\n",
      "[CV 9/10; 20/30] END max_depth=4, n_estimators=25;, score=(train=0.974, test=0.960) total time=   0.0s\n",
      "[CV 10/10; 20/30] START max_depth=4, n_estimators=25............................\n",
      "[CV 9/10; 18/30] END max_depth=3, n_estimators=200;, score=(train=0.971, test=0.941) total time=   0.3s\n",
      "[CV 10/10; 18/30] START max_depth=3, n_estimators=200...........................\n",
      "[CV 3/10; 18/30] END max_depth=3, n_estimators=200;, score=(train=0.981, test=0.983) total time=   0.3s\n",
      "[CV 2/10; 20/30] END max_depth=4, n_estimators=25;, score=(train=0.982, test=0.974) total time=   0.0s\n",
      "[CV 4/10; 18/30] START max_depth=3, n_estimators=200............................\n",
      "[CV 7/10; 20/30] END max_depth=4, n_estimators=25;, score=(train=0.973, test=0.985) total time=   0.1s\n",
      "[CV 8/10; 20/30] START max_depth=4, n_estimators=25.............................\n",
      "[CV 1/10; 21/30] START max_depth=4, n_estimators=50.............................\n",
      "[CV 7/10; 18/30] END max_depth=3, n_estimators=200;, score=(train=0.978, test=0.985) total time=   0.3s\n",
      "[CV 8/10; 18/30] START max_depth=3, n_estimators=200............................\n",
      "[CV 6/10; 20/30] END max_depth=4, n_estimators=25;, score=(train=0.978, test=0.988) total time=   0.0s\n",
      "[CV 4/10; 20/30] END max_depth=4, n_estimators=25;, score=(train=0.981, test=0.983) total time=   0.1s\n",
      "[CV 3/10; 21/30] START max_depth=4, n_estimators=50.............................\n",
      "[CV 5/10; 21/30] START max_depth=4, n_estimators=50.............................\n",
      "[CV 8/10; 20/30] END max_depth=4, n_estimators=25;, score=(train=0.977, test=0.994) total time=   0.0s\n",
      "[CV 10/10; 20/30] END max_depth=4, n_estimators=25;, score=(train=0.977, test=0.968) total time=   0.1s\n",
      "[CV 7/10; 21/30] START max_depth=4, n_estimators=50.............................\n",
      "[CV 1/10; 21/30] END max_depth=4, n_estimators=50;, score=(train=0.982, test=0.974) total time=   0.1s\n",
      "[CV 9/10; 21/30] START max_depth=4, n_estimators=50.............................\n",
      "[CV 2/10; 21/30] START max_depth=4, n_estimators=50.............................\n",
      "[CV 3/10; 21/30] END max_depth=4, n_estimators=50;, score=(train=0.981, test=0.983) total time=   0.1s\n",
      "[CV 4/10; 21/30] START max_depth=4, n_estimators=50.............................\n",
      "[CV 5/10; 21/30] END max_depth=4, n_estimators=50;, score=(train=0.980, test=0.988) total time=   0.1s\n",
      "[CV 6/10; 21/30] START max_depth=4, n_estimators=50.............................\n",
      "[CV 7/10; 21/30] END max_depth=4, n_estimators=50;, score=(train=0.981, test=0.985) total time=   0.1s\n",
      "[CV 8/10; 21/30] START max_depth=4, n_estimators=50.............................\n",
      "[CV 9/10; 21/30] END max_depth=4, n_estimators=50;, score=(train=0.982, test=0.971) total time=   0.1s\n",
      "[CV 10/10; 21/30] START max_depth=4, n_estimators=50............................\n",
      "[CV 2/10; 21/30] END max_depth=4, n_estimators=50;, score=(train=0.967, test=0.952) total time=   0.1s\n",
      "[CV 4/10; 21/30] END max_depth=4, n_estimators=50;, score=(train=0.981, test=0.983) total time=   0.1s\n",
      "[CV 6/10; 21/30] END max_depth=4, n_estimators=50;, score=(train=0.980, test=0.991) total time=   0.1s\n",
      "[CV 1/10; 22/30] START max_depth=4, n_estimators=100............................[CV 3/10; 22/30] START max_depth=4, n_estimators=100............................\n",
      "\n",
      "[CV 8/10; 21/30] END max_depth=4, n_estimators=50;, score=(train=0.980, test=0.994) total time=   0.1s\n",
      "[CV 5/10; 22/30] START max_depth=4, n_estimators=100............................\n",
      "[CV 10/10; 21/30] END max_depth=4, n_estimators=50;, score=(train=0.982, test=0.968) total time=   0.1s\n",
      "[CV 7/10; 22/30] START max_depth=4, n_estimators=100............................\n",
      "[CV 10/10; 18/30] END max_depth=3, n_estimators=200;, score=(train=0.980, test=0.968) total time=   0.3s\n",
      "[CV 6/10; 18/30] END max_depth=3, n_estimators=200;, score=(train=0.980, test=0.991) total time=   0.3s\n",
      "[CV 2/10; 18/30] END max_depth=3, n_estimators=200;, score=(train=0.982, test=0.974) total time=   0.3s\n",
      "[CV 8/10; 18/30] END max_depth=3, n_estimators=200;, score=(train=0.980, test=0.994) total time=   0.3s\n",
      "[CV 3/10; 23/30] START max_depth=4, n_estimators=150............................\n",
      "[CV 1/10; 23/30] START max_depth=4, n_estimators=150............................\n",
      "[CV 9/10; 22/30] START max_depth=4, n_estimators=100............................\n",
      "[CV 7/10; 23/30] START max_depth=4, n_estimators=150............................\n",
      "[CV 5/10; 23/30] START max_depth=4, n_estimators=150............................\n",
      "[CV 4/10; 18/30] END max_depth=3, n_estimators=200;, score=(train=0.980, test=0.983) total time=   0.3s\n",
      "[CV 9/10; 23/30] START max_depth=4, n_estimators=150............................\n",
      "[CV 1/10; 22/30] END max_depth=4, n_estimators=100;, score=(train=0.982, test=0.974) total time=   0.2s\n",
      "[CV 2/10; 22/30] START max_depth=4, n_estimators=100............................\n",
      "[CV 3/10; 22/30] END max_depth=4, n_estimators=100;, score=(train=0.981, test=0.983) total time=   0.2s\n",
      "[CV 4/10; 22/30] START max_depth=4, n_estimators=100............................\n",
      "[CV 5/10; 22/30] END max_depth=4, n_estimators=100;, score=(train=0.980, test=0.988) total time=   0.2s\n",
      "[CV 6/10; 22/30] START max_depth=4, n_estimators=100............................\n",
      "[CV 7/10; 22/30] END max_depth=4, n_estimators=100;, score=(train=0.981, test=0.985) total time=   0.2s\n",
      "[CV 8/10; 22/30] START max_depth=4, n_estimators=100............................\n",
      "[CV 9/10; 22/30] END max_depth=4, n_estimators=100;, score=(train=0.982, test=0.971) total time=   0.2s\n",
      "[CV 10/10; 22/30] START max_depth=4, n_estimators=100...........................\n",
      "[CV 2/10; 22/30] END max_depth=4, n_estimators=100;, score=(train=0.982, test=0.974) total time=   0.2s\n",
      "[CV 5/10; 23/30] END max_depth=4, n_estimators=150;, score=(train=0.980, test=0.988) total time=   0.2s\n",
      "[CV 6/10; 23/30] START max_depth=4, n_estimators=150............................\n",
      "[CV 1/10; 24/30] START max_depth=4, n_estimators=200............................\n",
      "[CV 3/10; 23/30] END max_depth=4, n_estimators=150;, score=(train=0.981, test=0.983) total time=   0.3s\n",
      "[CV 4/10; 23/30] START max_depth=4, n_estimators=150............................\n",
      "[CV 1/10; 23/30] END max_depth=4, n_estimators=150;, score=(train=0.982, test=0.974) total time=   0.3s\n",
      "[CV 2/10; 23/30] START max_depth=4, n_estimators=150............................\n",
      "[CV 4/10; 22/30] END max_depth=4, n_estimators=100;, score=(train=0.981, test=0.983) total time=   0.2s\n",
      "[CV 9/10; 23/30] END max_depth=4, n_estimators=150;, score=(train=0.982, test=0.971) total time=   0.2s\n",
      "[CV 10/10; 23/30] START max_depth=4, n_estimators=150...........................\n",
      "[CV 6/10; 22/30] END max_depth=4, n_estimators=100;, score=(train=0.980, test=0.991) total time=   0.2s\n",
      "[CV 3/10; 24/30] START max_depth=4, n_estimators=200............................\n",
      "[CV 5/10; 24/30] START max_depth=4, n_estimators=200............................\n",
      "[CV 7/10; 23/30] END max_depth=4, n_estimators=150;, score=(train=0.981, test=0.985) total time=   0.3s\n",
      "[CV 8/10; 23/30] START max_depth=4, n_estimators=150............................\n",
      "[CV 8/10; 22/30] END max_depth=4, n_estimators=100;, score=(train=0.980, test=0.994) total time=   0.2s\n",
      "[CV 7/10; 24/30] START max_depth=4, n_estimators=200............................\n",
      "[CV 10/10; 22/30] END max_depth=4, n_estimators=100;, score=(train=0.982, test=0.968) total time=   0.2s\n",
      "[CV 9/10; 24/30] START max_depth=4, n_estimators=200............................\n",
      "[CV 2/10; 23/30] END max_depth=4, n_estimators=150;, score=(train=0.982, test=0.974) total time=   0.3s\n",
      "[CV 4/10; 23/30] END max_depth=4, n_estimators=150;, score=(train=0.981, test=0.983) total time=   0.3s\n",
      "[CV 6/10; 23/30] END max_depth=4, n_estimators=150;, score=(train=0.980, test=0.991) total time=   0.3s\n",
      "[CV 10/10; 23/30] END max_depth=4, n_estimators=150;, score=(train=0.982, test=0.968) total time=   0.3s\n",
      "[CV 8/10; 23/30] END max_depth=4, n_estimators=150;, score=(train=0.980, test=0.994) total time=   0.2s\n",
      "[CV 5/10; 25/30] START max_depth=5, n_estimators=10.............................\n",
      "[CV 1/10; 25/30] START max_depth=5, n_estimators=10.............................\n",
      "[CV 3/10; 25/30] START max_depth=5, n_estimators=10.............................\n",
      "[CV 7/10; 25/30] START max_depth=5, n_estimators=10.............................\n",
      "[CV 9/10; 25/30] START max_depth=5, n_estimators=10.............................\n",
      "[CV 1/10; 25/30] END max_depth=5, n_estimators=10;, score=(train=0.987, test=0.983) total time=   0.0s\n",
      "[CV 2/10; 25/30] START max_depth=5, n_estimators=10.............................\n",
      "[CV 3/10; 25/30] END max_depth=5, n_estimators=10;, score=(train=0.993, test=0.994) total time=   0.0s\n",
      "[CV 4/10; 25/30] START max_depth=5, n_estimators=10.............................\n",
      "[CV 5/10; 25/30] END max_depth=5, n_estimators=10;, score=(train=0.986, test=0.988) total time=   0.0s\n",
      "[CV 6/10; 25/30] START max_depth=5, n_estimators=10.............................\n",
      "[CV 7/10; 25/30] END max_depth=5, n_estimators=10;, score=(train=0.983, test=0.985) total time=   0.0s\n",
      "[CV 8/10; 25/30] START max_depth=5, n_estimators=10.............................\n",
      "[CV 2/10; 25/30] END max_depth=5, n_estimators=10;, score=(train=0.982, test=0.971) total time=   0.0s\n",
      "[CV 1/10; 26/30] START max_depth=5, n_estimators=25.............................\n",
      "[CV 4/10; 25/30] END max_depth=5, n_estimators=10;, score=(train=0.983, test=0.983) total time=   0.0s\n",
      "[CV 6/10; 25/30] END max_depth=5, n_estimators=10;, score=(train=0.990, test=0.994) total time=   0.0s\n",
      "[CV 9/10; 25/30] END max_depth=5, n_estimators=10;, score=(train=0.990, test=0.985) total time=   0.0s\n",
      "[CV 10/10; 25/30] START max_depth=5, n_estimators=10............................\n",
      "[CV 3/10; 26/30] START max_depth=5, n_estimators=25.............................[CV 1/10; 24/30] END max_depth=4, n_estimators=200;, score=(train=0.982, test=0.974) total time=   0.4s\n",
      "[CV 2/10; 24/30] START max_depth=4, n_estimators=200............................\n",
      "\n",
      "[CV 8/10; 25/30] END max_depth=5, n_estimators=10;, score=(train=0.980, test=0.994) total time=   0.0s\n",
      "[CV 3/10; 24/30] END max_depth=4, n_estimators=200;, score=(train=0.981, test=0.983) total time=   0.3s\n",
      "[CV 4/10; 24/30] START max_depth=4, n_estimators=200............................\n",
      "[CV 10/10; 25/30] END max_depth=5, n_estimators=10;, score=(train=0.995, test=0.994) total time=   0.0s\n",
      "[CV 5/10; 26/30] START max_depth=5, n_estimators=25.............................\n",
      "[CV 1/10; 26/30] END max_depth=5, n_estimators=25;, score=(train=0.982, test=0.974) total time=   0.0s\n",
      "[CV 2/10; 26/30] START max_depth=5, n_estimators=25.............................\n",
      "[CV 5/10; 24/30] END max_depth=4, n_estimators=200;, score=(train=0.980, test=0.988) total time=   0.4s\n",
      "[CV 6/10; 24/30] START max_depth=4, n_estimators=200............................\n",
      "[CV 3/10; 26/30] END max_depth=5, n_estimators=25;, score=(train=0.986, test=0.985) total time=   0.0s\n",
      "[CV 4/10; 26/30] START max_depth=5, n_estimators=25.............................\n",
      "[CV 9/10; 26/30] START max_depth=5, n_estimators=25.............................\n",
      "[CV 7/10; 26/30] START max_depth=5, n_estimators=25.............................\n",
      "[CV 7/10; 24/30] END max_depth=4, n_estimators=200;, score=(train=0.981, test=0.985) total time=   0.4s\n",
      "[CV 8/10; 24/30] START max_depth=4, n_estimators=200............................\n",
      "[CV 5/10; 26/30] END max_depth=5, n_estimators=25;, score=(train=0.983, test=0.988) total time=   0.0s\n",
      "[CV 6/10; 26/30] START max_depth=5, n_estimators=25.............................\n",
      "[CV 2/10; 26/30] END max_depth=5, n_estimators=25;, score=(train=0.991, test=0.983) total time=   0.0s\n",
      "[CV 9/10; 26/30] END max_depth=5, n_estimators=25;, score=(train=0.983, test=0.974) total time=   0.0s\n",
      "[CV 10/10; 26/30] START max_depth=5, n_estimators=25............................\n",
      "[CV 4/10; 26/30] END max_depth=5, n_estimators=25;, score=(train=0.996, test=0.994) total time=   0.0s\n",
      "[CV 7/10; 26/30] END max_depth=5, n_estimators=25;, score=(train=0.987, test=0.991) total time=   0.1s\n",
      "[CV 8/10; 26/30] START max_depth=5, n_estimators=25.............................\n",
      "[CV 9/10; 24/30] END max_depth=4, n_estimators=200;, score=(train=0.982, test=0.971) total time=   0.3s\n",
      "[CV 10/10; 24/30] START max_depth=4, n_estimators=200...........................\n",
      "[CV 1/10; 27/30] START max_depth=5, n_estimators=50.............................\n",
      "[CV 3/10; 27/30] START max_depth=5, n_estimators=50.............................\n",
      "[CV 6/10; 26/30] END max_depth=5, n_estimators=25;, score=(train=0.983, test=0.994) total time=   0.0s\n",
      "[CV 5/10; 27/30] START max_depth=5, n_estimators=50.............................\n",
      "[CV 10/10; 26/30] END max_depth=5, n_estimators=25;, score=(train=0.986, test=0.977) total time=   0.0s\n",
      "[CV 8/10; 26/30] END max_depth=5, n_estimators=25;, score=(train=0.980, test=0.994) total time=   0.0s\n",
      "[CV 7/10; 27/30] START max_depth=5, n_estimators=50.............................\n",
      "[CV 9/10; 27/30] START max_depth=5, n_estimators=50.............................\n",
      "[CV 1/10; 27/30] END max_depth=5, n_estimators=50;, score=(train=0.982, test=0.974) total time=   0.1s\n",
      "[CV 2/10; 27/30] START max_depth=5, n_estimators=50.............................\n",
      "[CV 3/10; 27/30] END max_depth=5, n_estimators=50;, score=(train=0.981, test=0.983) total time=   0.1s\n",
      "[CV 4/10; 27/30] START max_depth=5, n_estimators=50.............................\n",
      "[CV 5/10; 27/30] END max_depth=5, n_estimators=50;, score=(train=0.982, test=0.988) total time=   0.1s\n",
      "[CV 6/10; 27/30] START max_depth=5, n_estimators=50.............................\n",
      "[CV 7/10; 27/30] END max_depth=5, n_estimators=50;, score=(train=0.981, test=0.985) total time=   0.1s\n",
      "[CV 8/10; 27/30] START max_depth=5, n_estimators=50.............................\n",
      "[CV 9/10; 27/30] END max_depth=5, n_estimators=50;, score=(train=0.982, test=0.971) total time=   0.1s\n",
      "[CV 10/10; 27/30] START max_depth=5, n_estimators=50............................\n",
      "[CV 2/10; 27/30] END max_depth=5, n_estimators=50;, score=(train=0.982, test=0.980) total time=   0.1s\n",
      "[CV 4/10; 27/30] END max_depth=5, n_estimators=50;, score=(train=0.981, test=0.983) total time=   0.1s\n",
      "[CV 1/10; 28/30] START max_depth=5, n_estimators=100............................\n",
      "[CV 3/10; 28/30] START max_depth=5, n_estimators=100............................\n",
      "[CV 4/10; 24/30] END max_depth=4, n_estimators=200;, score=(train=0.981, test=0.983) total time=   0.3s\n",
      "[CV 6/10; 27/30] END max_depth=5, n_estimators=50;, score=(train=0.980, test=0.991) total time=   0.1s\n",
      "[CV 2/10; 24/30] END max_depth=4, n_estimators=200;, score=(train=0.982, test=0.974) total time=   0.4s\n",
      "[CV 8/10; 27/30] END max_depth=5, n_estimators=50;, score=(train=0.981, test=0.994) total time=   0.1s\n",
      "[CV 9/10; 28/30] START max_depth=5, n_estimators=100............................\n",
      "[CV 5/10; 28/30] START max_depth=5, n_estimators=100............................\n",
      "[CV 7/10; 28/30] START max_depth=5, n_estimators=100............................\n",
      "[CV 6/10; 24/30] END max_depth=4, n_estimators=200;, score=(train=0.980, test=0.991) total time=   0.3s\n",
      "[CV 1/10; 29/30] START max_depth=5, n_estimators=150............................\n",
      "[CV 3/10; 29/30] START max_depth=5, n_estimators=150............................\n",
      "[CV 10/10; 27/30] END max_depth=5, n_estimators=50;, score=(train=0.982, test=0.968) total time=   0.1s\n",
      "[CV 5/10; 29/30] START max_depth=5, n_estimators=150............................\n",
      "[CV 10/10; 24/30] END max_depth=4, n_estimators=200;, score=(train=0.982, test=0.968) total time=   0.3s\n",
      "[CV 7/10; 29/30] START max_depth=5, n_estimators=150............................\n",
      "[CV 8/10; 24/30] END max_depth=4, n_estimators=200;, score=(train=0.980, test=0.994) total time=   0.4s\n",
      "[CV 9/10; 29/30] START max_depth=5, n_estimators=150............................\n",
      "[CV 1/10; 28/30] END max_depth=5, n_estimators=100;, score=(train=0.982, test=0.974) total time=   0.2s\n",
      "[CV 2/10; 28/30] START max_depth=5, n_estimators=100............................\n",
      "[CV 3/10; 28/30] END max_depth=5, n_estimators=100;, score=(train=0.981, test=0.983) total time=   0.2s\n",
      "[CV 4/10; 28/30] START max_depth=5, n_estimators=100............................\n",
      "[CV 9/10; 28/30] END max_depth=5, n_estimators=100;, score=(train=0.982, test=0.971) total time=   0.2s\n",
      "[CV 10/10; 28/30] START max_depth=5, n_estimators=100...........................\n",
      "[CV 7/10; 28/30] END max_depth=5, n_estimators=100;, score=(train=0.981, test=0.985) total time=   0.2s\n",
      "[CV 8/10; 28/30] START max_depth=5, n_estimators=100............................\n",
      "[CV 5/10; 28/30] END max_depth=5, n_estimators=100;, score=(train=0.981, test=0.988) total time=   0.2s\n",
      "[CV 6/10; 28/30] START max_depth=5, n_estimators=100............................\n",
      "[CV 2/10; 28/30] END max_depth=5, n_estimators=100;, score=(train=0.982, test=0.974) total time=   0.2s\n",
      "[CV 1/10; 30/30] START max_depth=5, n_estimators=200............................\n",
      "[CV 3/10; 29/30] END max_depth=5, n_estimators=150;, score=(train=0.983, test=0.983) total time=   0.3s\n",
      "[CV 4/10; 28/30] END max_depth=5, n_estimators=100;, score=(train=0.981, test=0.983) total time=   0.2s\n",
      "[CV 4/10; 29/30] START max_depth=5, n_estimators=150............................\n",
      "[CV 7/10; 29/30] END max_depth=5, n_estimators=150;, score=(train=0.981, test=0.985) total time=   0.3s\n",
      "[CV 8/10; 29/30] START max_depth=5, n_estimators=150............................\n",
      "[CV 1/10; 29/30] END max_depth=5, n_estimators=150;, score=(train=0.982, test=0.974) total time=   0.3s\n",
      "[CV 2/10; 29/30] START max_depth=5, n_estimators=150............................\n",
      "[CV 3/10; 30/30] START max_depth=5, n_estimators=200............................\n",
      "[CV 6/10; 28/30] END max_depth=5, n_estimators=100;, score=(train=0.980, test=0.991) total time=   0.1s\n",
      "[CV 9/10; 29/30] END max_depth=5, n_estimators=150;, score=(train=0.982, test=0.974) total time=   0.3s\n",
      "[CV 10/10; 29/30] START max_depth=5, n_estimators=150...........................\n",
      "[CV 5/10; 29/30] END max_depth=5, n_estimators=150;, score=(train=0.980, test=0.988) total time=   0.3s\n",
      "[CV 6/10; 29/30] START max_depth=5, n_estimators=150............................\n",
      "[CV 8/10; 28/30] END max_depth=5, n_estimators=100;, score=(train=0.980, test=0.994) total time=   0.2s\n",
      "[CV 5/10; 30/30] START max_depth=5, n_estimators=200............................\n",
      "[CV 10/10; 28/30] END max_depth=5, n_estimators=100;, score=(train=0.982, test=0.968) total time=   0.2s\n",
      "[CV 7/10; 30/30] START max_depth=5, n_estimators=200............................\n",
      "[CV 9/10; 30/30] START max_depth=5, n_estimators=200............................\n",
      "[CV 8/10; 29/30] END max_depth=5, n_estimators=150;, score=(train=0.981, test=0.994) total time=   0.2s\n",
      "[CV 4/10; 29/30] END max_depth=5, n_estimators=150;, score=(train=0.981, test=0.983) total time=   0.3s\n",
      "[CV 2/10; 29/30] END max_depth=5, n_estimators=150;, score=(train=0.983, test=0.974) total time=   0.3s\n",
      "[CV 1/10; 30/30] END max_depth=5, n_estimators=200;, score=(train=0.982, test=0.974) total time=   0.3s\n",
      "[CV 2/10; 30/30] START max_depth=5, n_estimators=200............................\n",
      "[CV 6/10; 29/30] END max_depth=5, n_estimators=150;, score=(train=0.980, test=0.991) total time=   0.3s\n",
      "[CV 10/10; 29/30] END max_depth=5, n_estimators=150;, score=(train=0.983, test=0.971) total time=   0.3s\n",
      "[CV 3/10; 30/30] END max_depth=5, n_estimators=200;, score=(train=0.982, test=0.983) total time=   0.4s\n",
      "[CV 4/10; 30/30] START max_depth=5, n_estimators=200............................\n",
      "[CV 7/10; 30/30] END max_depth=5, n_estimators=200;, score=(train=0.981, test=0.985) total time=   0.3s\n",
      "[CV 8/10; 30/30] START max_depth=5, n_estimators=200............................\n",
      "[CV 5/10; 30/30] END max_depth=5, n_estimators=200;, score=(train=0.981, test=0.988) total time=   0.4s\n",
      "[CV 6/10; 30/30] START max_depth=5, n_estimators=200............................\n",
      "[CV 9/10; 30/30] END max_depth=5, n_estimators=200;, score=(train=0.982, test=0.971) total time=   0.3s\n",
      "[CV 10/10; 30/30] START max_depth=5, n_estimators=200...........................\n",
      "[CV 2/10; 30/30] END max_depth=5, n_estimators=200;, score=(train=0.982, test=0.974) total time=   0.3s\n",
      "[CV 4/10; 30/30] END max_depth=5, n_estimators=200;, score=(train=0.982, test=0.983) total time=   0.3s\n",
      "[CV 8/10; 30/30] END max_depth=5, n_estimators=200;, score=(train=0.980, test=0.994) total time=   0.3s\n",
      "[CV 6/10; 30/30] END max_depth=5, n_estimators=200;, score=(train=0.980, test=0.991) total time=   0.3s\n",
      "[CV 10/10; 30/30] END max_depth=5, n_estimators=200;, score=(train=0.982, test=0.968) total time=   0.3s\n"
     ]
    },
    {
     "data": {
      "text/plain": [
       "RandomizedSearchCV(cv=10, estimator=RandomForestClassifier(), n_iter=100,\n",
       "                   n_jobs=-1,\n",
       "                   param_distributions={'max_depth': [1, 2, 3, 4, 5],\n",
       "                                        'n_estimators': [10, 25, 50, 100, 150,\n",
       "                                                         200]},\n",
       "                   return_train_score=True, scoring='precision', verbose=10)"
      ]
     },
     "execution_count": 61,
     "metadata": {},
     "output_type": "execute_result"
    }
   ],
   "source": [
    "from sklearn.model_selection import RandomizedSearchCV\n",
    "\n",
    "param_distributions = {\n",
    "    'max_depth':[1, 2, 3, 4, 5],\n",
    "    'n_estimators': [10, 25, 50, 100, 150, 200]}\n",
    "\t\n",
    "search = RandomizedSearchCV(estimator = RandomForestClassifier(), param_distributions = param_distributions, n_iter=100, scoring='precision', n_jobs=-1, cv=10, verbose=10, return_train_score=True)\n",
    "\n",
    "search.fit(X_train, y_train)"
   ]
  },
  {
   "cell_type": "code",
   "execution_count": null,
   "metadata": {},
   "outputs": [],
   "source": []
  },
  {
   "cell_type": "code",
   "execution_count": 62,
   "metadata": {},
   "outputs": [
    {
     "data": {
      "text/plain": [
       "RandomForestClassifier(max_depth=5, n_estimators=10)"
      ]
     },
     "execution_count": 62,
     "metadata": {},
     "output_type": "execute_result"
    }
   ],
   "source": [
    "best_model = search.best_estimator_\n",
    "\n",
    "best_model"
   ]
  },
  {
   "cell_type": "code",
   "execution_count": 63,
   "metadata": {},
   "outputs": [
    {
     "data": {
      "image/png": "[encoded data removed]",
      "text/plain": [
       "<Figure size 1080x720 with 1 Axes>"
      ]
     },
     "metadata": {
      "needs_background": "dark"
     },
     "output_type": "display_data"
    },
    {
     "name": "stdout",
     "output_type": "stream",
     "text": [
      "\n",
      "\n",
      "               precision    recall  f1-score   support\n",
      "\n",
      " 0-Poisonous       1.00      0.99      0.99       783\n",
      "    1-Edible       0.99      1.00      1.00       842\n",
      "\n",
      "    accuracy                           1.00      1625\n",
      "   macro avg       1.00      0.99      1.00      1625\n",
      "weighted avg       1.00      1.00      1.00      1625\n",
      "\n"
     ]
    },
    {
     "data": {
      "image/png": "[encoded data removed]",
      "text/plain": [
       "<Figure size 1080x720 with 2 Axes>"
      ]
     },
     "metadata": {
      "needs_background": "light"
     },
     "output_type": "display_data"
    },
    {
     "data": {
      "text/html": [
       "<div>\n",
       "<style scoped>\n",
       "    .dataframe tbody tr th:only-of-type {\n",
       "        vertical-align: middle;\n",
       "    }\n",
       "\n",
       "    .dataframe tbody tr th {\n",
       "        vertical-align: top;\n",
       "    }\n",
       "\n",
       "    .dataframe thead th {\n",
       "        text-align: right;\n",
       "    }\n",
       "</style>\n",
       "<table border=\"1\" class=\"dataframe\">\n",
       "  <thead>\n",
       "    <tr style=\"text-align: right;\">\n",
       "      <th></th>\n",
       "      <th>Predicted Poison</th>\n",
       "      <th>Predicted Edible</th>\n",
       "    </tr>\n",
       "  </thead>\n",
       "  <tbody>\n",
       "    <tr>\n",
       "      <th>Actual Poison</th>\n",
       "      <td>775</td>\n",
       "      <td>8</td>\n",
       "    </tr>\n",
       "    <tr>\n",
       "      <th>Actual Edible</th>\n",
       "      <td>0</td>\n",
       "      <td>842</td>\n",
       "    </tr>\n",
       "  </tbody>\n",
       "</table>\n",
       "</div>"
      ],
      "text/plain": [
       "               Predicted Poison  Predicted Edible\n",
       "Actual Poison               775                 8\n",
       "Actual Edible                 0               842"
      ]
     },
     "execution_count": 63,
     "metadata": {},
     "output_type": "execute_result"
    }
   ],
   "source": [
    "model_analysis(best_model, X_test, y_test)"
   ]
  },
  {
   "cell_type": "code",
   "execution_count": null,
   "metadata": {},
   "outputs": [],
   "source": []
  }
 ],
 "metadata": {
  "interpreter": {
   "hash": "b0fa6594d8f4cbf19f97940f81e996739fb7646882a419484c72d19e05852a7e"
  },
  "kernelspec": {
   "display_name": "Python 3.9.10 64-bit",
   "language": "python",
   "name": "python3"
  },
  "language_info": {
   "codemirror_mode": {
    "name": "ipython",
    "version": 3
   },
   "file_extension": ".py",
   "mimetype": "text/x-python",
   "name": "python",
   "nbconvert_exporter": "python",
   "pygments_lexer": "ipython3",
   "version": "3.9.10"
  },
  "orig_nbformat": 4
 },
 "nbformat": 4,
 "nbformat_minor": 2
}
